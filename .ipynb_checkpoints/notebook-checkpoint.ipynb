{
 "cells": [
  {
   "cell_type": "code",
   "execution_count": 1,
   "metadata": {},
   "outputs": [],
   "source": [
    "# import\n",
    "import numpy as np\n",
    "import pandas as pd\n",
    "import matplotlib.pyplot as plt\n",
    "from IPython import display\n",
    "%matplotlib inline\n"
   ]
  },
  {
   "cell_type": "code",
   "execution_count": 2,
   "metadata": {},
   "outputs": [],
   "source": [
    "# read the dataset\n",
    "df = pd.read_csv('survey_results_public.csv')\n",
    "\n",
    "df_schema = pd.read_csv('survey_results_schema.csv')\n"
   ]
  },
  {
   "cell_type": "markdown",
   "metadata": {},
   "source": [
    "# Exploring the Dataset"
   ]
  },
  {
   "cell_type": "code",
   "execution_count": 3,
   "metadata": {},
   "outputs": [
    {
     "data": {
      "text/plain": [
       "(51392, 154)"
      ]
     },
     "execution_count": 3,
     "metadata": {},
     "output_type": "execute_result"
    }
   ],
   "source": [
    "df.shape"
   ]
  },
  {
   "cell_type": "code",
   "execution_count": 4,
   "metadata": {},
   "outputs": [
    {
     "data": {
      "text/html": [
       "<div>\n",
       "<style scoped>\n",
       "    .dataframe tbody tr th:only-of-type {\n",
       "        vertical-align: middle;\n",
       "    }\n",
       "\n",
       "    .dataframe tbody tr th {\n",
       "        vertical-align: top;\n",
       "    }\n",
       "\n",
       "    .dataframe thead th {\n",
       "        text-align: right;\n",
       "    }\n",
       "</style>\n",
       "<table border=\"1\" class=\"dataframe\">\n",
       "  <thead>\n",
       "    <tr style=\"text-align: right;\">\n",
       "      <th></th>\n",
       "      <th>Respondent</th>\n",
       "      <th>Professional</th>\n",
       "      <th>ProgramHobby</th>\n",
       "      <th>Country</th>\n",
       "      <th>University</th>\n",
       "      <th>EmploymentStatus</th>\n",
       "      <th>FormalEducation</th>\n",
       "      <th>MajorUndergrad</th>\n",
       "      <th>HomeRemote</th>\n",
       "      <th>CompanySize</th>\n",
       "      <th>...</th>\n",
       "      <th>StackOverflowMakeMoney</th>\n",
       "      <th>Gender</th>\n",
       "      <th>HighestEducationParents</th>\n",
       "      <th>Race</th>\n",
       "      <th>SurveyLong</th>\n",
       "      <th>QuestionsInteresting</th>\n",
       "      <th>QuestionsConfusing</th>\n",
       "      <th>InterestedAnswers</th>\n",
       "      <th>Salary</th>\n",
       "      <th>ExpectedSalary</th>\n",
       "    </tr>\n",
       "  </thead>\n",
       "  <tbody>\n",
       "    <tr>\n",
       "      <th>0</th>\n",
       "      <td>1</td>\n",
       "      <td>Student</td>\n",
       "      <td>Yes, both</td>\n",
       "      <td>United States</td>\n",
       "      <td>No</td>\n",
       "      <td>Not employed, and not looking for work</td>\n",
       "      <td>Secondary school</td>\n",
       "      <td>NaN</td>\n",
       "      <td>NaN</td>\n",
       "      <td>NaN</td>\n",
       "      <td>...</td>\n",
       "      <td>Strongly disagree</td>\n",
       "      <td>Male</td>\n",
       "      <td>High school</td>\n",
       "      <td>White or of European descent</td>\n",
       "      <td>Strongly disagree</td>\n",
       "      <td>Strongly agree</td>\n",
       "      <td>Disagree</td>\n",
       "      <td>Strongly agree</td>\n",
       "      <td>NaN</td>\n",
       "      <td>NaN</td>\n",
       "    </tr>\n",
       "    <tr>\n",
       "      <th>1</th>\n",
       "      <td>2</td>\n",
       "      <td>Student</td>\n",
       "      <td>Yes, both</td>\n",
       "      <td>United Kingdom</td>\n",
       "      <td>Yes, full-time</td>\n",
       "      <td>Employed part-time</td>\n",
       "      <td>Some college/university study without earning ...</td>\n",
       "      <td>Computer science or software engineering</td>\n",
       "      <td>More than half, but not all, the time</td>\n",
       "      <td>20 to 99 employees</td>\n",
       "      <td>...</td>\n",
       "      <td>Strongly disagree</td>\n",
       "      <td>Male</td>\n",
       "      <td>A master's degree</td>\n",
       "      <td>White or of European descent</td>\n",
       "      <td>Somewhat agree</td>\n",
       "      <td>Somewhat agree</td>\n",
       "      <td>Disagree</td>\n",
       "      <td>Strongly agree</td>\n",
       "      <td>NaN</td>\n",
       "      <td>37500.0</td>\n",
       "    </tr>\n",
       "    <tr>\n",
       "      <th>2</th>\n",
       "      <td>3</td>\n",
       "      <td>Professional developer</td>\n",
       "      <td>Yes, both</td>\n",
       "      <td>United Kingdom</td>\n",
       "      <td>No</td>\n",
       "      <td>Employed full-time</td>\n",
       "      <td>Bachelor's degree</td>\n",
       "      <td>Computer science or software engineering</td>\n",
       "      <td>Less than half the time, but at least one day ...</td>\n",
       "      <td>10,000 or more employees</td>\n",
       "      <td>...</td>\n",
       "      <td>Disagree</td>\n",
       "      <td>Male</td>\n",
       "      <td>A professional degree</td>\n",
       "      <td>White or of European descent</td>\n",
       "      <td>Somewhat agree</td>\n",
       "      <td>Agree</td>\n",
       "      <td>Disagree</td>\n",
       "      <td>Agree</td>\n",
       "      <td>113750.0</td>\n",
       "      <td>NaN</td>\n",
       "    </tr>\n",
       "    <tr>\n",
       "      <th>3</th>\n",
       "      <td>4</td>\n",
       "      <td>Professional non-developer who sometimes write...</td>\n",
       "      <td>Yes, both</td>\n",
       "      <td>United States</td>\n",
       "      <td>No</td>\n",
       "      <td>Employed full-time</td>\n",
       "      <td>Doctoral degree</td>\n",
       "      <td>A non-computer-focused engineering discipline</td>\n",
       "      <td>Less than half the time, but at least one day ...</td>\n",
       "      <td>10,000 or more employees</td>\n",
       "      <td>...</td>\n",
       "      <td>Disagree</td>\n",
       "      <td>Male</td>\n",
       "      <td>A doctoral degree</td>\n",
       "      <td>White or of European descent</td>\n",
       "      <td>Agree</td>\n",
       "      <td>Agree</td>\n",
       "      <td>Somewhat agree</td>\n",
       "      <td>Strongly agree</td>\n",
       "      <td>NaN</td>\n",
       "      <td>NaN</td>\n",
       "    </tr>\n",
       "    <tr>\n",
       "      <th>4</th>\n",
       "      <td>5</td>\n",
       "      <td>Professional developer</td>\n",
       "      <td>Yes, I program as a hobby</td>\n",
       "      <td>Switzerland</td>\n",
       "      <td>No</td>\n",
       "      <td>Employed full-time</td>\n",
       "      <td>Master's degree</td>\n",
       "      <td>Computer science or software engineering</td>\n",
       "      <td>Never</td>\n",
       "      <td>10 to 19 employees</td>\n",
       "      <td>...</td>\n",
       "      <td>NaN</td>\n",
       "      <td>NaN</td>\n",
       "      <td>NaN</td>\n",
       "      <td>NaN</td>\n",
       "      <td>NaN</td>\n",
       "      <td>NaN</td>\n",
       "      <td>NaN</td>\n",
       "      <td>NaN</td>\n",
       "      <td>NaN</td>\n",
       "      <td>NaN</td>\n",
       "    </tr>\n",
       "  </tbody>\n",
       "</table>\n",
       "<p>5 rows × 154 columns</p>\n",
       "</div>"
      ],
      "text/plain": [
       "   Respondent                                       Professional  \\\n",
       "0           1                                            Student   \n",
       "1           2                                            Student   \n",
       "2           3                             Professional developer   \n",
       "3           4  Professional non-developer who sometimes write...   \n",
       "4           5                             Professional developer   \n",
       "\n",
       "                ProgramHobby         Country      University  \\\n",
       "0                  Yes, both   United States              No   \n",
       "1                  Yes, both  United Kingdom  Yes, full-time   \n",
       "2                  Yes, both  United Kingdom              No   \n",
       "3                  Yes, both   United States              No   \n",
       "4  Yes, I program as a hobby     Switzerland              No   \n",
       "\n",
       "                         EmploymentStatus  \\\n",
       "0  Not employed, and not looking for work   \n",
       "1                      Employed part-time   \n",
       "2                      Employed full-time   \n",
       "3                      Employed full-time   \n",
       "4                      Employed full-time   \n",
       "\n",
       "                                     FormalEducation  \\\n",
       "0                                   Secondary school   \n",
       "1  Some college/university study without earning ...   \n",
       "2                                  Bachelor's degree   \n",
       "3                                    Doctoral degree   \n",
       "4                                    Master's degree   \n",
       "\n",
       "                                  MajorUndergrad  \\\n",
       "0                                            NaN   \n",
       "1       Computer science or software engineering   \n",
       "2       Computer science or software engineering   \n",
       "3  A non-computer-focused engineering discipline   \n",
       "4       Computer science or software engineering   \n",
       "\n",
       "                                          HomeRemote  \\\n",
       "0                                                NaN   \n",
       "1              More than half, but not all, the time   \n",
       "2  Less than half the time, but at least one day ...   \n",
       "3  Less than half the time, but at least one day ...   \n",
       "4                                              Never   \n",
       "\n",
       "                CompanySize       ...       StackOverflowMakeMoney Gender  \\\n",
       "0                       NaN       ...            Strongly disagree   Male   \n",
       "1        20 to 99 employees       ...            Strongly disagree   Male   \n",
       "2  10,000 or more employees       ...                     Disagree   Male   \n",
       "3  10,000 or more employees       ...                     Disagree   Male   \n",
       "4        10 to 19 employees       ...                          NaN    NaN   \n",
       "\n",
       "  HighestEducationParents                          Race         SurveyLong  \\\n",
       "0             High school  White or of European descent  Strongly disagree   \n",
       "1       A master's degree  White or of European descent     Somewhat agree   \n",
       "2   A professional degree  White or of European descent     Somewhat agree   \n",
       "3       A doctoral degree  White or of European descent              Agree   \n",
       "4                     NaN                           NaN                NaN   \n",
       "\n",
       "  QuestionsInteresting QuestionsConfusing InterestedAnswers    Salary  \\\n",
       "0       Strongly agree           Disagree    Strongly agree       NaN   \n",
       "1       Somewhat agree           Disagree    Strongly agree       NaN   \n",
       "2                Agree           Disagree             Agree  113750.0   \n",
       "3                Agree     Somewhat agree    Strongly agree       NaN   \n",
       "4                  NaN                NaN               NaN       NaN   \n",
       "\n",
       "   ExpectedSalary  \n",
       "0             NaN  \n",
       "1         37500.0  \n",
       "2             NaN  \n",
       "3             NaN  \n",
       "4             NaN  \n",
       "\n",
       "[5 rows x 154 columns]"
      ]
     },
     "execution_count": 4,
     "metadata": {},
     "output_type": "execute_result"
    }
   ],
   "source": [
    "df.head()"
   ]
  },
  {
   "cell_type": "code",
   "execution_count": null,
   "metadata": {},
   "outputs": [],
   "source": []
  },
  {
   "cell_type": "code",
   "execution_count": null,
   "metadata": {},
   "outputs": [],
   "source": []
  },
  {
   "cell_type": "code",
   "execution_count": 15,
   "metadata": {},
   "outputs": [
    {
     "data": {
      "text/plain": [
       "120000.000000    167\n",
       "110000.000000    164\n",
       "100000.000000    155\n",
       "75000.000000     149\n",
       "60000.000000     139\n",
       "90000.000000     136\n",
       "50000.000000     135\n",
       "32258.064516     132\n",
       "43010.752688     129\n",
       "53763.440860     128\n",
       "80000.000000     128\n",
       "64516.129032     117\n",
       "65000.000000     114\n",
       "70000.000000     113\n",
       "48387.096774     110\n",
       "38709.677419      99\n",
       "85000.000000      97\n",
       "130000.000000     94\n",
       "125000.000000     91\n",
       "115000.000000     90\n",
       "45161.290323      87\n",
       "150000.000000     85\n",
       "105000.000000     85\n",
       "40000.000000      81\n",
       "62500.000000      80\n",
       "37634.408602      79\n",
       "95000.000000      78\n",
       "140000.000000     71\n",
       "51612.903226      71\n",
       "59139.784946      71\n",
       "                ... \n",
       "93307.839388       1\n",
       "70075.757576       1\n",
       "38796.000000       1\n",
       "38800.000000       1\n",
       "134408.602151      1\n",
       "168750.000000      1\n",
       "13419.354839       1\n",
       "23000.000000       1\n",
       "25241.276912       1\n",
       "85800.000000       1\n",
       "40714.285714       1\n",
       "1327.724665        1\n",
       "6488.473282        1\n",
       "44932.126697       1\n",
       "5432.388783        1\n",
       "19000.000000       1\n",
       "27600.000000       1\n",
       "10729.000000       1\n",
       "32031.250000       1\n",
       "63400.000000       1\n",
       "2701.512260        1\n",
       "79.545455          1\n",
       "0.117457           1\n",
       "36480.500304       1\n",
       "3035.000000        1\n",
       "7756.853397        1\n",
       "113500.000000      1\n",
       "73410.659228       1\n",
       "14444.444444       1\n",
       "34262.500000       1\n",
       "Name: Salary, Length: 3049, dtype: int64"
      ]
     },
     "execution_count": 15,
     "metadata": {},
     "output_type": "execute_result"
    }
   ],
   "source": [
    "df.Salary.value_counts()"
   ]
  },
  {
   "cell_type": "code",
   "execution_count": 5,
   "metadata": {},
   "outputs": [
    {
     "data": {
      "text/plain": [
       "Respondent                         0\n",
       "Professional                       0\n",
       "ProgramHobby                       0\n",
       "Country                            0\n",
       "University                         0\n",
       "EmploymentStatus                   0\n",
       "FormalEducation                    0\n",
       "MajorUndergrad                  8551\n",
       "HomeRemote                      7384\n",
       "CompanySize                    12470\n",
       "CompanyType                    12569\n",
       "YearsProgram                     247\n",
       "YearsCodedJob                  10502\n",
       "YearsCodedJobPast              50418\n",
       "DeveloperType                  15267\n",
       "WebDeveloperType               40696\n",
       "MobileDeveloperType            49839\n",
       "NonDeveloperType               46502\n",
       "CareerSatisfaction              8697\n",
       "JobSatisfaction                11016\n",
       "ExCoderReturn                  50469\n",
       "ExCoderNotForMe                50471\n",
       "ExCoderBalance                 50469\n",
       "ExCoder10Years                 50475\n",
       "ExCoderBelonged                50464\n",
       "ExCoderSkills                  50457\n",
       "ExCoderWillNotCode             50470\n",
       "ExCoderActive                  50462\n",
       "PronounceGIF                     384\n",
       "ProblemSolving                 20099\n",
       "                               ...  \n",
       "InfluenceRecruitment           29806\n",
       "InfluenceCommunication         29814\n",
       "StackOverflowDescribes         14460\n",
       "StackOverflowSatisfaction      14800\n",
       "StackOverflowDevices           16189\n",
       "StackOverflowFoundAnswer       17102\n",
       "StackOverflowCopiedCode        17483\n",
       "StackOverflowJobListing        17924\n",
       "StackOverflowCompanyPage       17957\n",
       "StackOverflowJobSearch         17977\n",
       "StackOverflowNewQuestion       17774\n",
       "StackOverflowAnswer            17836\n",
       "StackOverflowMetaChat          17985\n",
       "StackOverflowAdsRelevant       20575\n",
       "StackOverflowAdsDistracting    19655\n",
       "StackOverflowModeration        21263\n",
       "StackOverflowCommunity         18982\n",
       "StackOverflowHelpful           17446\n",
       "StackOverflowBetter            17742\n",
       "StackOverflowWhatDo            18023\n",
       "StackOverflowMakeMoney         20330\n",
       "Gender                         16345\n",
       "HighestEducationParents        16454\n",
       "Race                           18359\n",
       "SurveyLong                     16672\n",
       "QuestionsInteresting           16856\n",
       "QuestionsConfusing             16973\n",
       "InterestedAnswers              16780\n",
       "Salary                         38501\n",
       "ExpectedSalary                 48826\n",
       "Length: 154, dtype: int64"
      ]
     },
     "execution_count": 5,
     "metadata": {},
     "output_type": "execute_result"
    }
   ],
   "source": [
    "df.isnull().sum()"
   ]
  },
  {
   "cell_type": "code",
   "execution_count": 10,
   "metadata": {},
   "outputs": [],
   "source": [
    "df_schema.set_index('Column', inplace=True)"
   ]
  },
  {
   "cell_type": "code",
   "execution_count": 11,
   "metadata": {},
   "outputs": [
    {
     "data": {
      "text/plain": [
       "Question    Which of the following best describes you?\n",
       "Name: Professional, dtype: object"
      ]
     },
     "execution_count": 11,
     "metadata": {},
     "output_type": "execute_result"
    }
   ],
   "source": [
    "df_schema.loc['Professional']"
   ]
  },
  {
   "cell_type": "code",
   "execution_count": 21,
   "metadata": {},
   "outputs": [],
   "source": [
    "# find columns with more than %35 missing values\n",
    "missing_cols = list(df.columns[df.isnull().mean() > 0.35])"
   ]
  },
  {
   "cell_type": "code",
   "execution_count": 18,
   "metadata": {},
   "outputs": [
    {
     "data": {
      "text/plain": [
       "United States                     11455\n",
       "India                              5197\n",
       "United Kingdom                     4395\n",
       "Germany                            4143\n",
       "Canada                             2233\n",
       "France                             1740\n",
       "Poland                             1290\n",
       "Australia                           913\n",
       "Russian Federation                  873\n",
       "Spain                               864\n",
       "Netherlands                         855\n",
       "Italy                               781\n",
       "Brazil                              777\n",
       "Sweden                              611\n",
       "Switzerland                         595\n",
       "Israel                              575\n",
       "Romania                             561\n",
       "Iran                                507\n",
       "Austria                             477\n",
       "Pakistan                            454\n",
       "Czech Republic                      411\n",
       "Belgium                             404\n",
       "South Africa                        380\n",
       "Turkey                              363\n",
       "Ukraine                             356\n",
       "Mexico                              351\n",
       "Ireland                             345\n",
       "Hungary                             332\n",
       "Philippines                         328\n",
       "Slovenia                            303\n",
       "                                  ...  \n",
       "Aruba                                 2\n",
       "Saint Lucia                           2\n",
       "Saint Helena                          1\n",
       "British Indian Ocean Territory        1\n",
       "Burkina Faso                          1\n",
       "Monaco                                1\n",
       "Macau                                 1\n",
       "S. Georgia & S. Sandwich Isls.        1\n",
       "Heard and McDonald Islands            1\n",
       "Seychelles                            1\n",
       "Falkland Islands                      1\n",
       "Gabon                                 1\n",
       "Lesotho                               1\n",
       "Bahamas                               1\n",
       "Mali                                  1\n",
       "Cook Islands                          1\n",
       "Gibraltar                             1\n",
       "Chad                                  1\n",
       "Djibouti                              1\n",
       "Guam                                  1\n",
       "Christmas Island                      1\n",
       "Pitcairn Island                       1\n",
       "Guinea                                1\n",
       "French Guyana                         1\n",
       "Comoros                               1\n",
       "Montserrat                            1\n",
       "Vatican City State                    1\n",
       "Cape Verde                            1\n",
       "Turkmenistan                          1\n",
       "Northern Mariana Islands              1\n",
       "Name: Country, Length: 201, dtype: int64"
      ]
     },
     "execution_count": 18,
     "metadata": {},
     "output_type": "execute_result"
    }
   ],
   "source": [
    "df.Country.value_counts()"
   ]
  },
  {
   "cell_type": "code",
   "execution_count": 14,
   "metadata": {},
   "outputs": [
    {
     "data": {
      "text/plain": [
       "20 to 99 employees          8587\n",
       "100 to 499 employees        7274\n",
       "10,000 or more employees    5680\n",
       "10 to 19 employees          4103\n",
       "1,000 to 4,999 employees    3831\n",
       "Fewer than 10 employees     3807\n",
       "500 to 999 employees        2486\n",
       "5,000 to 9,999 employees    1604\n",
       "I don't know                 869\n",
       "I prefer not to answer       681\n",
       "Name: CompanySize, dtype: int64"
      ]
     },
     "execution_count": 14,
     "metadata": {},
     "output_type": "execute_result"
    }
   ],
   "source": [
    "df.CompanySize.value_counts()"
   ]
  },
  {
   "cell_type": "code",
   "execution_count": 15,
   "metadata": {},
   "outputs": [
    {
     "data": {
      "text/plain": [
       "Privately-held limited company, not in startup mode                      16709\n",
       "Publicly-traded corporation                                               5871\n",
       "I don't know                                                              3233\n",
       "Sole proprietorship or partnership, not in startup mode                   2831\n",
       "Government agency or public school/university                             2451\n",
       "Venture-funded startup                                                    2387\n",
       "I prefer not to answer                                                    1816\n",
       "Pre-series A startup                                                      1288\n",
       "Non-profit/non-governmental organization or private school/university     1225\n",
       "State-owned company                                                        670\n",
       "Something else                                                             342\n",
       "Name: CompanyType, dtype: int64"
      ]
     },
     "execution_count": 15,
     "metadata": {},
     "output_type": "execute_result"
    }
   ],
   "source": [
    "df.CompanyType.value_counts()"
   ]
  },
  {
   "cell_type": "code",
   "execution_count": 16,
   "metadata": {},
   "outputs": [
    {
     "data": {
      "text/plain": [
       "Somewhat agree       8983\n",
       "Agree                8784\n",
       "Disagree             6436\n",
       "Strongly agree       3519\n",
       "Strongly disagree    1735\n",
       "Name: CollaborateRemote, dtype: int64"
      ]
     },
     "execution_count": 16,
     "metadata": {},
     "output_type": "execute_result"
    }
   ],
   "source": [
    "df.CollaborateRemote.value_counts()"
   ]
  },
  {
   "cell_type": "markdown",
   "metadata": {},
   "source": [
    "### Q1. Which developer types does each university produce?\n",
    "University, CompanyType, DeveloperType, SelfTaughtTypes, EducationTypes\n",
    "### Q2. How often do university students work from home?\n",
    "University, HomeRemote\n",
    "### Q3. How hard is it to collaborate remotly?\n",
    "CollaborateRemote"
   ]
  },
  {
   "cell_type": "markdown",
   "metadata": {},
   "source": [
    "# Preproecessing Dataset"
   ]
  },
  {
   "cell_type": "code",
   "execution_count": 34,
   "metadata": {},
   "outputs": [
    {
     "data": {
      "text/plain": [
       "(51392, 43)"
      ]
     },
     "execution_count": 34,
     "metadata": {},
     "output_type": "execute_result"
    }
   ],
   "source": [
    "df.shape"
   ]
  },
  {
   "cell_type": "markdown",
   "metadata": {},
   "source": [
    "which country should we build the company at? Country\n",
    "what should the company type and size be? CompanySize & CompanyType\n",
    "Who would we hire? University & ProgramHobby"
   ]
  },
  {
   "cell_type": "code",
   "execution_count": 33,
   "metadata": {},
   "outputs": [],
   "source": [
    "# drop columns which has more than %35 NaN's\n",
    "df = df.drop(columns = missing_cols)"
   ]
  },
  {
   "cell_type": "code",
   "execution_count": 35,
   "metadata": {},
   "outputs": [
    {
     "data": {
      "text/plain": [
       "Index(['Respondent', 'Professional', 'ProgramHobby', 'Country', 'University',\n",
       "       'EmploymentStatus', 'FormalEducation', 'MajorUndergrad', 'HomeRemote',\n",
       "       'CompanySize', 'CompanyType', 'YearsProgram', 'YearsCodedJob',\n",
       "       'DeveloperType', 'CareerSatisfaction', 'JobSatisfaction',\n",
       "       'PronounceGIF', 'ClickyKeys', 'TabsSpaces', 'WorkStart',\n",
       "       'HaveWorkedLanguage', 'WantWorkLanguage', 'IDE', 'AuditoryEnvironment',\n",
       "       'StackOverflowDescribes', 'StackOverflowSatisfaction',\n",
       "       'StackOverflowDevices', 'StackOverflowFoundAnswer',\n",
       "       'StackOverflowCopiedCode', 'StackOverflowJobListing',\n",
       "       'StackOverflowCompanyPage', 'StackOverflowJobSearch',\n",
       "       'StackOverflowNewQuestion', 'StackOverflowAnswer',\n",
       "       'StackOverflowMetaChat', 'StackOverflowHelpful', 'StackOverflowBetter',\n",
       "       'Gender', 'HighestEducationParents', 'SurveyLong',\n",
       "       'QuestionsInteresting', 'QuestionsConfusing', 'InterestedAnswers'],\n",
       "      dtype='object')"
      ]
     },
     "execution_count": 35,
     "metadata": {},
     "output_type": "execute_result"
    }
   ],
   "source": [
    "df.columns"
   ]
  },
  {
   "cell_type": "code",
   "execution_count": 43,
   "metadata": {},
   "outputs": [
    {
     "data": {
      "text/plain": [
       "Computer science or software engineering                        21409\n",
       "Computer engineering or electrical/electronics engineering       4364\n",
       "Computer programming or Web development                          3883\n",
       "Information technology, networking, or system administration     2140\n",
       "A natural science                                                1865\n",
       "A non-computer-focused engineering discipline                    1789\n",
       "Mathematics or statistics                                        1648\n",
       "Something else                                                   1060\n",
       "A humanities discipline                                           901\n",
       "A business discipline                                             900\n",
       "Management information systems                                    654\n",
       "Fine arts or performing arts                                      646\n",
       "A social science                                                  633\n",
       "I never declared a major                                          592\n",
       "Psychology                                                        215\n",
       "A health science                                                  142\n",
       "Name: MajorUndergrad, dtype: int64"
      ]
     },
     "execution_count": 43,
     "metadata": {},
     "output_type": "execute_result"
    }
   ],
   "source": [
    "df.MajorUndergrad.value_counts()"
   ]
  },
  {
   "cell_type": "code",
   "execution_count": null,
   "metadata": {},
   "outputs": [],
   "source": []
  },
  {
   "cell_type": "code",
   "execution_count": null,
   "metadata": {},
   "outputs": [],
   "source": []
  },
  {
   "cell_type": "code",
   "execution_count": null,
   "metadata": {},
   "outputs": [],
   "source": []
  },
  {
   "cell_type": "code",
   "execution_count": null,
   "metadata": {},
   "outputs": [],
   "source": []
  },
  {
   "cell_type": "code",
   "execution_count": null,
   "metadata": {},
   "outputs": [],
   "source": []
  },
  {
   "cell_type": "code",
   "execution_count": null,
   "metadata": {},
   "outputs": [],
   "source": []
  },
  {
   "cell_type": "code",
   "execution_count": null,
   "metadata": {},
   "outputs": [],
   "source": []
  },
  {
   "cell_type": "code",
   "execution_count": 17,
   "metadata": {},
   "outputs": [],
   "source": [
    "# Select the columns that we will use and create a new dataframe\n",
    "cols = [df.University, df.CompanyType, df.DeveloperType, df.SelfTaughtTypes, df.HomeRemote, df.CollaborateRemote]"
   ]
  },
  {
   "cell_type": "code",
   "execution_count": 18,
   "metadata": {},
   "outputs": [],
   "source": [
    "new_df = pd.DataFrame(data=cols)"
   ]
  },
  {
   "cell_type": "code",
   "execution_count": 19,
   "metadata": {},
   "outputs": [
    {
     "data": {
      "text/plain": [
       "(6, 51392)"
      ]
     },
     "execution_count": 19,
     "metadata": {},
     "output_type": "execute_result"
    }
   ],
   "source": [
    "new_df.shape"
   ]
  },
  {
   "cell_type": "code",
   "execution_count": 20,
   "metadata": {},
   "outputs": [],
   "source": [
    "new_df = new_df.transpose()"
   ]
  },
  {
   "cell_type": "code",
   "execution_count": 21,
   "metadata": {},
   "outputs": [
    {
     "data": {
      "text/plain": [
       "(51392, 6)"
      ]
     },
     "execution_count": 21,
     "metadata": {},
     "output_type": "execute_result"
    }
   ],
   "source": [
    "new_df.shape"
   ]
  },
  {
   "cell_type": "code",
   "execution_count": 22,
   "metadata": {},
   "outputs": [
    {
     "data": {
      "text/html": [
       "<div>\n",
       "<style scoped>\n",
       "    .dataframe tbody tr th:only-of-type {\n",
       "        vertical-align: middle;\n",
       "    }\n",
       "\n",
       "    .dataframe tbody tr th {\n",
       "        vertical-align: top;\n",
       "    }\n",
       "\n",
       "    .dataframe thead th {\n",
       "        text-align: right;\n",
       "    }\n",
       "</style>\n",
       "<table border=\"1\" class=\"dataframe\">\n",
       "  <thead>\n",
       "    <tr style=\"text-align: right;\">\n",
       "      <th></th>\n",
       "      <th>University</th>\n",
       "      <th>CompanyType</th>\n",
       "      <th>DeveloperType</th>\n",
       "      <th>SelfTaughtTypes</th>\n",
       "      <th>HomeRemote</th>\n",
       "      <th>CollaborateRemote</th>\n",
       "    </tr>\n",
       "  </thead>\n",
       "  <tbody>\n",
       "    <tr>\n",
       "      <th>0</th>\n",
       "      <td>No</td>\n",
       "      <td>NaN</td>\n",
       "      <td>NaN</td>\n",
       "      <td>NaN</td>\n",
       "      <td>NaN</td>\n",
       "      <td>NaN</td>\n",
       "    </tr>\n",
       "    <tr>\n",
       "      <th>1</th>\n",
       "      <td>Yes, full-time</td>\n",
       "      <td>Privately-held limited company, not in startup...</td>\n",
       "      <td>NaN</td>\n",
       "      <td>Official documentation; Stack Overflow Q&amp;A; Other</td>\n",
       "      <td>More than half, but not all, the time</td>\n",
       "      <td>Strongly disagree</td>\n",
       "    </tr>\n",
       "    <tr>\n",
       "      <th>2</th>\n",
       "      <td>No</td>\n",
       "      <td>Publicly-traded corporation</td>\n",
       "      <td>Other</td>\n",
       "      <td>Official documentation; Trade book; Textbook; ...</td>\n",
       "      <td>Less than half the time, but at least one day ...</td>\n",
       "      <td>Somewhat agree</td>\n",
       "    </tr>\n",
       "    <tr>\n",
       "      <th>3</th>\n",
       "      <td>No</td>\n",
       "      <td>Non-profit/non-governmental organization or pr...</td>\n",
       "      <td>NaN</td>\n",
       "      <td>NaN</td>\n",
       "      <td>Less than half the time, but at least one day ...</td>\n",
       "      <td>Somewhat agree</td>\n",
       "    </tr>\n",
       "    <tr>\n",
       "      <th>4</th>\n",
       "      <td>No</td>\n",
       "      <td>Privately-held limited company, not in startup...</td>\n",
       "      <td>Mobile developer; Graphics programming; Deskto...</td>\n",
       "      <td>NaN</td>\n",
       "      <td>Never</td>\n",
       "      <td>NaN</td>\n",
       "    </tr>\n",
       "  </tbody>\n",
       "</table>\n",
       "</div>"
      ],
      "text/plain": [
       "       University                                        CompanyType  \\\n",
       "0              No                                                NaN   \n",
       "1  Yes, full-time  Privately-held limited company, not in startup...   \n",
       "2              No                        Publicly-traded corporation   \n",
       "3              No  Non-profit/non-governmental organization or pr...   \n",
       "4              No  Privately-held limited company, not in startup...   \n",
       "\n",
       "                                       DeveloperType  \\\n",
       "0                                                NaN   \n",
       "1                                                NaN   \n",
       "2                                              Other   \n",
       "3                                                NaN   \n",
       "4  Mobile developer; Graphics programming; Deskto...   \n",
       "\n",
       "                                     SelfTaughtTypes  \\\n",
       "0                                                NaN   \n",
       "1  Official documentation; Stack Overflow Q&A; Other   \n",
       "2  Official documentation; Trade book; Textbook; ...   \n",
       "3                                                NaN   \n",
       "4                                                NaN   \n",
       "\n",
       "                                          HomeRemote  CollaborateRemote  \n",
       "0                                                NaN                NaN  \n",
       "1              More than half, but not all, the time  Strongly disagree  \n",
       "2  Less than half the time, but at least one day ...     Somewhat agree  \n",
       "3  Less than half the time, but at least one day ...     Somewhat agree  \n",
       "4                                              Never                NaN  "
      ]
     },
     "execution_count": 22,
     "metadata": {},
     "output_type": "execute_result"
    }
   ],
   "source": [
    "new_df.head()"
   ]
  },
  {
   "cell_type": "code",
   "execution_count": 25,
   "metadata": {},
   "outputs": [
    {
     "data": {
      "text/plain": [
       "No                     37543\n",
       "Yes, full-time          9369\n",
       "Yes, part-time          3352\n",
       "I prefer not to say     1128\n",
       "Name: University, dtype: int64"
      ]
     },
     "execution_count": 25,
     "metadata": {},
     "output_type": "execute_result"
    }
   ],
   "source": [
    "new_df.University.value_counts()"
   ]
  },
  {
   "cell_type": "code",
   "execution_count": 27,
   "metadata": {},
   "outputs": [
    {
     "data": {
      "text/plain": [
       "University               0\n",
       "CompanyType          12569\n",
       "DeveloperType        15267\n",
       "SelfTaughtTypes      24657\n",
       "HomeRemote            7384\n",
       "CollaborateRemote    21935\n",
       "dtype: int64"
      ]
     },
     "execution_count": 27,
     "metadata": {},
     "output_type": "execute_result"
    }
   ],
   "source": [
    "new_df.isnull().sum()"
   ]
  },
  {
   "cell_type": "code",
   "execution_count": 29,
   "metadata": {},
   "outputs": [
    {
     "ename": "AttributeError",
     "evalue": "'DataFrame' object has no attribute 'type'",
     "output_type": "error",
     "traceback": [
      "\u001b[0;31m---------------------------------------------------------------------------\u001b[0m",
      "\u001b[0;31mAttributeError\u001b[0m                            Traceback (most recent call last)",
      "\u001b[0;32m<ipython-input-29-dd774aef0d98>\u001b[0m in \u001b[0;36m<module>\u001b[0;34m\u001b[0m\n\u001b[0;32m----> 1\u001b[0;31m \u001b[0mdf\u001b[0m\u001b[0;34m.\u001b[0m\u001b[0mtype\u001b[0m\u001b[0;34m.\u001b[0m\u001b[0mvalue_counts\u001b[0m\u001b[0;34m(\u001b[0m\u001b[0;34m)\u001b[0m\u001b[0;34m\u001b[0m\u001b[0;34m\u001b[0m\u001b[0m\n\u001b[0m",
      "\u001b[0;32m/anaconda3/lib/python3.7/site-packages/pandas/core/generic.py\u001b[0m in \u001b[0;36m__getattr__\u001b[0;34m(self, name)\u001b[0m\n\u001b[1;32m   4374\u001b[0m             \u001b[0;32mif\u001b[0m \u001b[0mself\u001b[0m\u001b[0;34m.\u001b[0m\u001b[0m_info_axis\u001b[0m\u001b[0;34m.\u001b[0m\u001b[0m_can_hold_identifiers_and_holds_name\u001b[0m\u001b[0;34m(\u001b[0m\u001b[0mname\u001b[0m\u001b[0;34m)\u001b[0m\u001b[0;34m:\u001b[0m\u001b[0;34m\u001b[0m\u001b[0;34m\u001b[0m\u001b[0m\n\u001b[1;32m   4375\u001b[0m                 \u001b[0;32mreturn\u001b[0m \u001b[0mself\u001b[0m\u001b[0;34m[\u001b[0m\u001b[0mname\u001b[0m\u001b[0;34m]\u001b[0m\u001b[0;34m\u001b[0m\u001b[0;34m\u001b[0m\u001b[0m\n\u001b[0;32m-> 4376\u001b[0;31m             \u001b[0;32mreturn\u001b[0m \u001b[0mobject\u001b[0m\u001b[0;34m.\u001b[0m\u001b[0m__getattribute__\u001b[0m\u001b[0;34m(\u001b[0m\u001b[0mself\u001b[0m\u001b[0;34m,\u001b[0m \u001b[0mname\u001b[0m\u001b[0;34m)\u001b[0m\u001b[0;34m\u001b[0m\u001b[0;34m\u001b[0m\u001b[0m\n\u001b[0m\u001b[1;32m   4377\u001b[0m \u001b[0;34m\u001b[0m\u001b[0m\n\u001b[1;32m   4378\u001b[0m     \u001b[0;32mdef\u001b[0m \u001b[0m__setattr__\u001b[0m\u001b[0;34m(\u001b[0m\u001b[0mself\u001b[0m\u001b[0;34m,\u001b[0m \u001b[0mname\u001b[0m\u001b[0;34m,\u001b[0m \u001b[0mvalue\u001b[0m\u001b[0;34m)\u001b[0m\u001b[0;34m:\u001b[0m\u001b[0;34m\u001b[0m\u001b[0;34m\u001b[0m\u001b[0m\n",
      "\u001b[0;31mAttributeError\u001b[0m: 'DataFrame' object has no attribute 'type'"
     ]
    }
   ],
   "source": []
  },
  {
   "cell_type": "code",
   "execution_count": null,
   "metadata": {},
   "outputs": [],
   "source": []
  }
 ],
 "metadata": {
  "kernelspec": {
   "display_name": "Python 3",
   "language": "python",
   "name": "python3"
  },
  "language_info": {
   "codemirror_mode": {
    "name": "ipython",
    "version": 3
   },
   "file_extension": ".py",
   "mimetype": "text/x-python",
   "name": "python",
   "nbconvert_exporter": "python",
   "pygments_lexer": "ipython3",
   "version": "3.7.1"
  }
 },
 "nbformat": 4,
 "nbformat_minor": 2
}
