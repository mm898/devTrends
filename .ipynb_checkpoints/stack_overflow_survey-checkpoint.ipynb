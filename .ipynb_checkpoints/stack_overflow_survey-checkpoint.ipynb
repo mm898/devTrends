{
 "cells": [
  {
   "cell_type": "markdown",
   "metadata": {},
   "source": [
    "## Stack Overflow Survey Analysis\n",
    "\n",
    "I want to use Stack Overflow Survey data of the year 2018. to answer blow question:\n",
    "\n",
    "1. what language is in fashion and what will be the new sexy?\n",
    "2. what framework is in fashion and what will be the new sexy?\n",
    "3. which framework makes data scientists more money (who makes more money)?\n"
   ]
  },
  {
   "cell_type": "markdown",
   "metadata": {},
   "source": [
    "### Load labrary"
   ]
  },
  {
   "cell_type": "code",
   "execution_count": 1,
   "metadata": {},
   "outputs": [
    {
     "ename": "ModuleNotFoundError",
     "evalue": "No module named 'plotly'",
     "output_type": "error",
     "traceback": [
      "\u001b[0;31m---------------------------------------------------------------------------\u001b[0m",
      "\u001b[0;31mModuleNotFoundError\u001b[0m                       Traceback (most recent call last)",
      "\u001b[0;32m<ipython-input-1-905a262f365d>\u001b[0m in \u001b[0;36m<module>\u001b[0;34m\u001b[0m\n\u001b[1;32m      4\u001b[0m \u001b[0;32mimport\u001b[0m \u001b[0mseaborn\u001b[0m \u001b[0;32mas\u001b[0m \u001b[0msns\u001b[0m\u001b[0;34m\u001b[0m\u001b[0;34m\u001b[0m\u001b[0m\n\u001b[1;32m      5\u001b[0m \u001b[0mcolor\u001b[0m \u001b[0;34m=\u001b[0m \u001b[0msns\u001b[0m\u001b[0;34m.\u001b[0m\u001b[0mcolor_palette\u001b[0m\u001b[0;34m(\u001b[0m\u001b[0;34m)\u001b[0m\u001b[0;34m\u001b[0m\u001b[0;34m\u001b[0m\u001b[0m\n\u001b[0;32m----> 6\u001b[0;31m \u001b[0;32mimport\u001b[0m \u001b[0mplotly\u001b[0m\u001b[0;34m.\u001b[0m\u001b[0mplotly\u001b[0m \u001b[0;32mas\u001b[0m \u001b[0mpy1\u001b[0m\u001b[0;34m\u001b[0m\u001b[0;34m\u001b[0m\u001b[0m\n\u001b[0m\u001b[1;32m      7\u001b[0m \u001b[0;32mimport\u001b[0m \u001b[0mplotly\u001b[0m\u001b[0;34m.\u001b[0m\u001b[0moffline\u001b[0m \u001b[0;32mas\u001b[0m \u001b[0mpy\u001b[0m\u001b[0;34m\u001b[0m\u001b[0;34m\u001b[0m\u001b[0m\n\u001b[1;32m      8\u001b[0m \u001b[0mpy\u001b[0m\u001b[0;34m.\u001b[0m\u001b[0minit_notebook_mode\u001b[0m\u001b[0;34m(\u001b[0m\u001b[0mconnected\u001b[0m\u001b[0;34m=\u001b[0m\u001b[0;32mTrue\u001b[0m\u001b[0;34m)\u001b[0m\u001b[0;34m\u001b[0m\u001b[0;34m\u001b[0m\u001b[0m\n",
      "\u001b[0;31mModuleNotFoundError\u001b[0m: No module named 'plotly'"
     ]
    }
   ],
   "source": [
    "import numpy as np\n",
    "import pandas as pd\n",
    "import matplotlib.pyplot as plt\n",
    "import seaborn as sns\n",
    "color = sns.color_palette()\n",
    "import plotly.plotly as py1\n",
    "import plotly.offline as py\n",
    "py.init_notebook_mode(connected=True)\n",
    "from plotly.offline import init_notebook_mode, iplot\n",
    "init_notebook_mode(connected=True)\n",
    "import plotly.graph_objs as go\n",
    "import plotly.offline as offline\n",
    "offline.init_notebook_mode()\n",
    "from plotly import tools\n",
    "\n",
    "from collections import defaultdict\n"
   ]
  },
  {
   "cell_type": "markdown",
   "metadata": {},
   "source": [
    "### Load data"
   ]
  },
  {
   "cell_type": "code",
   "execution_count": 2,
   "metadata": {},
   "outputs": [
    {
     "name": "stdout",
     "output_type": "stream",
     "text": [
      "\u001b[31mDeveloper_Survey_Instrument_2018.pdf\u001b[m\u001b[m \u001b[31msurvey_results_public.csv.gz\u001b[m\u001b[m\r\n",
      "\u001b[31mREADME_2018.txt\u001b[m\u001b[m                      \u001b[31msurvey_results_schema.csv\u001b[m\u001b[m\r\n"
     ]
    }
   ],
   "source": [
    "! ls ./data/developer_survey_2018"
   ]
  },
  {
   "cell_type": "code",
   "execution_count": 3,
   "metadata": {
    "scrolled": true
   },
   "outputs": [
    {
     "name": "stderr",
     "output_type": "stream",
     "text": [
      "/anaconda3/lib/python3.7/site-packages/IPython/core/interactiveshell.py:3020: DtypeWarning: Columns (8,12,13,14,15,16,50,51,52,53,55,56,57,58,59,60,61,62,63,64,65,66,67,68,69,70,71,72,73,74,75,76,77,78,79,80,81,82,83,84,85,93,94,95,96,97,98,99,100,101,102,103,104,105,106,107,108,109,110,111,112,113,114,115,116,117,118,119,120,121,122,123,124,125,126,127,128) have mixed types. Specify dtype option on import or set low_memory=False.\n",
      "  interactivity=interactivity, compiler=compiler, result=result)\n"
     ]
    }
   ],
   "source": [
    "stack_data = pd.read_csv('./data/developer_survey_2018/survey_results_public.csv.gz', compression=\"gzip\")\n"
   ]
  },
  {
   "cell_type": "code",
   "execution_count": 4,
   "metadata": {},
   "outputs": [],
   "source": [
    "schema = pd.read_csv('./data/developer_survey_2018/survey_results_schema.csv')\n"
   ]
  },
  {
   "cell_type": "markdown",
   "metadata": {},
   "source": [
    "### Glimps of the data "
   ]
  },
  {
   "cell_type": "code",
   "execution_count": 5,
   "metadata": {},
   "outputs": [
    {
     "data": {
      "text/html": [
       "<div>\n",
       "<style scoped>\n",
       "    .dataframe tbody tr th:only-of-type {\n",
       "        vertical-align: middle;\n",
       "    }\n",
       "\n",
       "    .dataframe tbody tr th {\n",
       "        vertical-align: top;\n",
       "    }\n",
       "\n",
       "    .dataframe thead th {\n",
       "        text-align: right;\n",
       "    }\n",
       "</style>\n",
       "<table border=\"1\" class=\"dataframe\">\n",
       "  <thead>\n",
       "    <tr style=\"text-align: right;\">\n",
       "      <th></th>\n",
       "      <th>Respondent</th>\n",
       "      <th>Hobby</th>\n",
       "      <th>OpenSource</th>\n",
       "      <th>Country</th>\n",
       "      <th>Student</th>\n",
       "      <th>Employment</th>\n",
       "      <th>FormalEducation</th>\n",
       "      <th>UndergradMajor</th>\n",
       "      <th>CompanySize</th>\n",
       "      <th>DevType</th>\n",
       "      <th>...</th>\n",
       "      <th>Exercise</th>\n",
       "      <th>Gender</th>\n",
       "      <th>SexualOrientation</th>\n",
       "      <th>EducationParents</th>\n",
       "      <th>RaceEthnicity</th>\n",
       "      <th>Age</th>\n",
       "      <th>Dependents</th>\n",
       "      <th>MilitaryUS</th>\n",
       "      <th>SurveyTooLong</th>\n",
       "      <th>SurveyEasy</th>\n",
       "    </tr>\n",
       "  </thead>\n",
       "  <tbody>\n",
       "    <tr>\n",
       "      <th>0</th>\n",
       "      <td>1</td>\n",
       "      <td>Yes</td>\n",
       "      <td>No</td>\n",
       "      <td>Kenya</td>\n",
       "      <td>No</td>\n",
       "      <td>Employed part-time</td>\n",
       "      <td>Bachelor’s degree (BA, BS, B.Eng., etc.)</td>\n",
       "      <td>Mathematics or statistics</td>\n",
       "      <td>20 to 99 employees</td>\n",
       "      <td>Full-stack developer</td>\n",
       "      <td>...</td>\n",
       "      <td>3 - 4 times per week</td>\n",
       "      <td>Male</td>\n",
       "      <td>Straight or heterosexual</td>\n",
       "      <td>Bachelor’s degree (BA, BS, B.Eng., etc.)</td>\n",
       "      <td>Black or of African descent</td>\n",
       "      <td>25 - 34 years old</td>\n",
       "      <td>Yes</td>\n",
       "      <td>NaN</td>\n",
       "      <td>The survey was an appropriate length</td>\n",
       "      <td>Very easy</td>\n",
       "    </tr>\n",
       "    <tr>\n",
       "      <th>1</th>\n",
       "      <td>3</td>\n",
       "      <td>Yes</td>\n",
       "      <td>Yes</td>\n",
       "      <td>United Kingdom</td>\n",
       "      <td>No</td>\n",
       "      <td>Employed full-time</td>\n",
       "      <td>Bachelor’s degree (BA, BS, B.Eng., etc.)</td>\n",
       "      <td>A natural science (ex. biology, chemistry, phy...</td>\n",
       "      <td>10,000 or more employees</td>\n",
       "      <td>Database administrator;DevOps specialist;Full-...</td>\n",
       "      <td>...</td>\n",
       "      <td>Daily or almost every day</td>\n",
       "      <td>Male</td>\n",
       "      <td>Straight or heterosexual</td>\n",
       "      <td>Bachelor’s degree (BA, BS, B.Eng., etc.)</td>\n",
       "      <td>White or of European descent</td>\n",
       "      <td>35 - 44 years old</td>\n",
       "      <td>Yes</td>\n",
       "      <td>NaN</td>\n",
       "      <td>The survey was an appropriate length</td>\n",
       "      <td>Somewhat easy</td>\n",
       "    </tr>\n",
       "    <tr>\n",
       "      <th>2</th>\n",
       "      <td>4</td>\n",
       "      <td>Yes</td>\n",
       "      <td>Yes</td>\n",
       "      <td>United States</td>\n",
       "      <td>No</td>\n",
       "      <td>Employed full-time</td>\n",
       "      <td>Associate degree</td>\n",
       "      <td>Computer science, computer engineering, or sof...</td>\n",
       "      <td>20 to 99 employees</td>\n",
       "      <td>Engineering manager;Full-stack developer</td>\n",
       "      <td>...</td>\n",
       "      <td>NaN</td>\n",
       "      <td>NaN</td>\n",
       "      <td>NaN</td>\n",
       "      <td>NaN</td>\n",
       "      <td>NaN</td>\n",
       "      <td>NaN</td>\n",
       "      <td>NaN</td>\n",
       "      <td>NaN</td>\n",
       "      <td>NaN</td>\n",
       "      <td>NaN</td>\n",
       "    </tr>\n",
       "    <tr>\n",
       "      <th>3</th>\n",
       "      <td>5</td>\n",
       "      <td>No</td>\n",
       "      <td>No</td>\n",
       "      <td>United States</td>\n",
       "      <td>No</td>\n",
       "      <td>Employed full-time</td>\n",
       "      <td>Bachelor’s degree (BA, BS, B.Eng., etc.)</td>\n",
       "      <td>Computer science, computer engineering, or sof...</td>\n",
       "      <td>100 to 499 employees</td>\n",
       "      <td>Full-stack developer</td>\n",
       "      <td>...</td>\n",
       "      <td>I don't typically exercise</td>\n",
       "      <td>Male</td>\n",
       "      <td>Straight or heterosexual</td>\n",
       "      <td>Some college/university study without earning ...</td>\n",
       "      <td>White or of European descent</td>\n",
       "      <td>35 - 44 years old</td>\n",
       "      <td>No</td>\n",
       "      <td>No</td>\n",
       "      <td>The survey was an appropriate length</td>\n",
       "      <td>Somewhat easy</td>\n",
       "    </tr>\n",
       "    <tr>\n",
       "      <th>4</th>\n",
       "      <td>7</td>\n",
       "      <td>Yes</td>\n",
       "      <td>No</td>\n",
       "      <td>South Africa</td>\n",
       "      <td>Yes, part-time</td>\n",
       "      <td>Employed full-time</td>\n",
       "      <td>Some college/university study without earning ...</td>\n",
       "      <td>Computer science, computer engineering, or sof...</td>\n",
       "      <td>10,000 or more employees</td>\n",
       "      <td>Data or business analyst;Desktop or enterprise...</td>\n",
       "      <td>...</td>\n",
       "      <td>3 - 4 times per week</td>\n",
       "      <td>Male</td>\n",
       "      <td>Straight or heterosexual</td>\n",
       "      <td>Some college/university study without earning ...</td>\n",
       "      <td>White or of European descent</td>\n",
       "      <td>18 - 24 years old</td>\n",
       "      <td>Yes</td>\n",
       "      <td>NaN</td>\n",
       "      <td>The survey was an appropriate length</td>\n",
       "      <td>Somewhat easy</td>\n",
       "    </tr>\n",
       "  </tbody>\n",
       "</table>\n",
       "<p>5 rows × 129 columns</p>\n",
       "</div>"
      ],
      "text/plain": [
       "   Respondent Hobby OpenSource         Country         Student  \\\n",
       "0           1   Yes         No           Kenya              No   \n",
       "1           3   Yes        Yes  United Kingdom              No   \n",
       "2           4   Yes        Yes   United States              No   \n",
       "3           5    No         No   United States              No   \n",
       "4           7   Yes         No    South Africa  Yes, part-time   \n",
       "\n",
       "           Employment                                    FormalEducation  \\\n",
       "0  Employed part-time           Bachelor’s degree (BA, BS, B.Eng., etc.)   \n",
       "1  Employed full-time           Bachelor’s degree (BA, BS, B.Eng., etc.)   \n",
       "2  Employed full-time                                   Associate degree   \n",
       "3  Employed full-time           Bachelor’s degree (BA, BS, B.Eng., etc.)   \n",
       "4  Employed full-time  Some college/university study without earning ...   \n",
       "\n",
       "                                      UndergradMajor  \\\n",
       "0                          Mathematics or statistics   \n",
       "1  A natural science (ex. biology, chemistry, phy...   \n",
       "2  Computer science, computer engineering, or sof...   \n",
       "3  Computer science, computer engineering, or sof...   \n",
       "4  Computer science, computer engineering, or sof...   \n",
       "\n",
       "                CompanySize  \\\n",
       "0        20 to 99 employees   \n",
       "1  10,000 or more employees   \n",
       "2        20 to 99 employees   \n",
       "3      100 to 499 employees   \n",
       "4  10,000 or more employees   \n",
       "\n",
       "                                             DevType      ...        \\\n",
       "0                               Full-stack developer      ...         \n",
       "1  Database administrator;DevOps specialist;Full-...      ...         \n",
       "2           Engineering manager;Full-stack developer      ...         \n",
       "3                               Full-stack developer      ...         \n",
       "4  Data or business analyst;Desktop or enterprise...      ...         \n",
       "\n",
       "                     Exercise Gender         SexualOrientation  \\\n",
       "0        3 - 4 times per week   Male  Straight or heterosexual   \n",
       "1   Daily or almost every day   Male  Straight or heterosexual   \n",
       "2                         NaN    NaN                       NaN   \n",
       "3  I don't typically exercise   Male  Straight or heterosexual   \n",
       "4        3 - 4 times per week   Male  Straight or heterosexual   \n",
       "\n",
       "                                    EducationParents  \\\n",
       "0           Bachelor’s degree (BA, BS, B.Eng., etc.)   \n",
       "1           Bachelor’s degree (BA, BS, B.Eng., etc.)   \n",
       "2                                                NaN   \n",
       "3  Some college/university study without earning ...   \n",
       "4  Some college/university study without earning ...   \n",
       "\n",
       "                  RaceEthnicity                Age Dependents  MilitaryUS  \\\n",
       "0   Black or of African descent  25 - 34 years old        Yes         NaN   \n",
       "1  White or of European descent  35 - 44 years old        Yes         NaN   \n",
       "2                           NaN                NaN        NaN         NaN   \n",
       "3  White or of European descent  35 - 44 years old         No          No   \n",
       "4  White or of European descent  18 - 24 years old        Yes         NaN   \n",
       "\n",
       "                          SurveyTooLong     SurveyEasy  \n",
       "0  The survey was an appropriate length      Very easy  \n",
       "1  The survey was an appropriate length  Somewhat easy  \n",
       "2                                   NaN            NaN  \n",
       "3  The survey was an appropriate length  Somewhat easy  \n",
       "4  The survey was an appropriate length  Somewhat easy  \n",
       "\n",
       "[5 rows x 129 columns]"
      ]
     },
     "execution_count": 5,
     "metadata": {},
     "output_type": "execute_result"
    }
   ],
   "source": [
    "stack_data.head()"
   ]
  },
  {
   "cell_type": "code",
   "execution_count": 6,
   "metadata": {},
   "outputs": [
    {
     "data": {
      "text/plain": [
       "(98855, 129)"
      ]
     },
     "execution_count": 6,
     "metadata": {},
     "output_type": "execute_result"
    }
   ],
   "source": [
    "stack_data.shape"
   ]
  },
  {
   "cell_type": "code",
   "execution_count": 7,
   "metadata": {},
   "outputs": [
    {
     "data": {
      "text/html": [
       "<div>\n",
       "<style scoped>\n",
       "    .dataframe tbody tr th:only-of-type {\n",
       "        vertical-align: middle;\n",
       "    }\n",
       "\n",
       "    .dataframe tbody tr th {\n",
       "        vertical-align: top;\n",
       "    }\n",
       "\n",
       "    .dataframe thead th {\n",
       "        text-align: right;\n",
       "    }\n",
       "</style>\n",
       "<table border=\"1\" class=\"dataframe\">\n",
       "  <thead>\n",
       "    <tr style=\"text-align: right;\">\n",
       "      <th></th>\n",
       "      <th>Column</th>\n",
       "      <th>QuestionText</th>\n",
       "    </tr>\n",
       "  </thead>\n",
       "  <tbody>\n",
       "    <tr>\n",
       "      <th>0</th>\n",
       "      <td>Respondent</td>\n",
       "      <td>Randomized respondent ID number (not in order ...</td>\n",
       "    </tr>\n",
       "    <tr>\n",
       "      <th>1</th>\n",
       "      <td>Hobby</td>\n",
       "      <td>Do you code as a hobby?</td>\n",
       "    </tr>\n",
       "    <tr>\n",
       "      <th>2</th>\n",
       "      <td>OpenSource</td>\n",
       "      <td>Do you contribute to open source projects?</td>\n",
       "    </tr>\n",
       "    <tr>\n",
       "      <th>3</th>\n",
       "      <td>Country</td>\n",
       "      <td>In which country do you currently reside?</td>\n",
       "    </tr>\n",
       "    <tr>\n",
       "      <th>4</th>\n",
       "      <td>Student</td>\n",
       "      <td>Are you currently enrolled in a formal, degree...</td>\n",
       "    </tr>\n",
       "  </tbody>\n",
       "</table>\n",
       "</div>"
      ],
      "text/plain": [
       "       Column                                       QuestionText\n",
       "0  Respondent  Randomized respondent ID number (not in order ...\n",
       "1       Hobby                            Do you code as a hobby?\n",
       "2  OpenSource         Do you contribute to open source projects?\n",
       "3     Country          In which country do you currently reside?\n",
       "4     Student  Are you currently enrolled in a formal, degree..."
      ]
     },
     "execution_count": 7,
     "metadata": {},
     "output_type": "execute_result"
    }
   ],
   "source": [
    "schema.head()"
   ]
  },
  {
   "cell_type": "code",
   "execution_count": 8,
   "metadata": {},
   "outputs": [
    {
     "data": {
      "text/plain": [
       "(129, 2)"
      ]
     },
     "execution_count": 8,
     "metadata": {},
     "output_type": "execute_result"
    }
   ],
   "source": [
    "schema.shape"
   ]
  },
  {
   "cell_type": "markdown",
   "metadata": {},
   "source": [
    "### Missing data check"
   ]
  },
  {
   "cell_type": "code",
   "execution_count": 9,
   "metadata": {},
   "outputs": [],
   "source": [
    "def missing_data(data):\n",
    "    '''\n",
    "    INPUT - \n",
    "            data - pandas dataframe for check missing values\n",
    "    OUTPUT - \n",
    "            df - pandas dataframe -- total quantity and percentage of missing values for each column.\n",
    "    '''              \n",
    "    \n",
    "    total = data.isnull().sum().sort_values(ascending = False)\n",
    "    percent = (data.isnull().sum()/data.isnull().count()*100).sort_values(ascending = False)\n",
    "    df = pd.concat([total, percent], axis=1, keys=['Total', 'Percent'])\n",
    "    return df"
   ]
  },
  {
   "cell_type": "code",
   "execution_count": 10,
   "metadata": {},
   "outputs": [
    {
     "data": {
      "text/html": [
       "<div>\n",
       "<style scoped>\n",
       "    .dataframe tbody tr th:only-of-type {\n",
       "        vertical-align: middle;\n",
       "    }\n",
       "\n",
       "    .dataframe tbody tr th {\n",
       "        vertical-align: top;\n",
       "    }\n",
       "\n",
       "    .dataframe thead th {\n",
       "        text-align: right;\n",
       "    }\n",
       "</style>\n",
       "<table border=\"1\" class=\"dataframe\">\n",
       "  <thead>\n",
       "    <tr style=\"text-align: right;\">\n",
       "      <th></th>\n",
       "      <th>Total</th>\n",
       "      <th>Percent</th>\n",
       "    </tr>\n",
       "  </thead>\n",
       "  <tbody>\n",
       "    <tr>\n",
       "      <th>TimeAfterBootcamp</th>\n",
       "      <td>92203</td>\n",
       "      <td>93.270952</td>\n",
       "    </tr>\n",
       "    <tr>\n",
       "      <th>MilitaryUS</th>\n",
       "      <td>83074</td>\n",
       "      <td>84.036215</td>\n",
       "    </tr>\n",
       "    <tr>\n",
       "      <th>HackathonReasons</th>\n",
       "      <td>73164</td>\n",
       "      <td>74.011431</td>\n",
       "    </tr>\n",
       "    <tr>\n",
       "      <th>ErgonomicDevices</th>\n",
       "      <td>64797</td>\n",
       "      <td>65.547519</td>\n",
       "    </tr>\n",
       "    <tr>\n",
       "      <th>AdBlockerReasons</th>\n",
       "      <td>61110</td>\n",
       "      <td>61.817814</td>\n",
       "    </tr>\n",
       "    <tr>\n",
       "      <th>StackOverflowJobsRecommend</th>\n",
       "      <td>60538</td>\n",
       "      <td>61.239189</td>\n",
       "    </tr>\n",
       "    <tr>\n",
       "      <th>JobEmailPriorities1</th>\n",
       "      <td>52642</td>\n",
       "      <td>53.251732</td>\n",
       "    </tr>\n",
       "    <tr>\n",
       "      <th>JobEmailPriorities2</th>\n",
       "      <td>52642</td>\n",
       "      <td>53.251732</td>\n",
       "    </tr>\n",
       "    <tr>\n",
       "      <th>JobEmailPriorities3</th>\n",
       "      <td>52642</td>\n",
       "      <td>53.251732</td>\n",
       "    </tr>\n",
       "    <tr>\n",
       "      <th>JobEmailPriorities4</th>\n",
       "      <td>52642</td>\n",
       "      <td>53.251732</td>\n",
       "    </tr>\n",
       "    <tr>\n",
       "      <th>JobEmailPriorities6</th>\n",
       "      <td>52642</td>\n",
       "      <td>53.251732</td>\n",
       "    </tr>\n",
       "    <tr>\n",
       "      <th>JobEmailPriorities5</th>\n",
       "      <td>52642</td>\n",
       "      <td>53.251732</td>\n",
       "    </tr>\n",
       "    <tr>\n",
       "      <th>JobEmailPriorities7</th>\n",
       "      <td>52642</td>\n",
       "      <td>53.251732</td>\n",
       "    </tr>\n",
       "    <tr>\n",
       "      <th>ConvertedSalary</th>\n",
       "      <td>51153</td>\n",
       "      <td>51.745486</td>\n",
       "    </tr>\n",
       "    <tr>\n",
       "      <th>JobContactPriorities3</th>\n",
       "      <td>50149</td>\n",
       "      <td>50.729857</td>\n",
       "    </tr>\n",
       "    <tr>\n",
       "      <th>JobContactPriorities4</th>\n",
       "      <td>50149</td>\n",
       "      <td>50.729857</td>\n",
       "    </tr>\n",
       "    <tr>\n",
       "      <th>JobContactPriorities2</th>\n",
       "      <td>50149</td>\n",
       "      <td>50.729857</td>\n",
       "    </tr>\n",
       "    <tr>\n",
       "      <th>JobContactPriorities1</th>\n",
       "      <td>50149</td>\n",
       "      <td>50.729857</td>\n",
       "    </tr>\n",
       "    <tr>\n",
       "      <th>JobContactPriorities5</th>\n",
       "      <td>50149</td>\n",
       "      <td>50.729857</td>\n",
       "    </tr>\n",
       "    <tr>\n",
       "      <th>Salary</th>\n",
       "      <td>48277</td>\n",
       "      <td>48.836174</td>\n",
       "    </tr>\n",
       "    <tr>\n",
       "      <th>SalaryType</th>\n",
       "      <td>47785</td>\n",
       "      <td>48.338476</td>\n",
       "    </tr>\n",
       "    <tr>\n",
       "      <th>FrameworkWorkedWith</th>\n",
       "      <td>47235</td>\n",
       "      <td>47.782105</td>\n",
       "    </tr>\n",
       "    <tr>\n",
       "      <th>TimeFullyProductive</th>\n",
       "      <td>46983</td>\n",
       "      <td>47.527186</td>\n",
       "    </tr>\n",
       "    <tr>\n",
       "      <th>AdBlockerDisable</th>\n",
       "      <td>43957</td>\n",
       "      <td>44.466137</td>\n",
       "    </tr>\n",
       "    <tr>\n",
       "      <th>FrameworkDesireNextYear</th>\n",
       "      <td>43637</td>\n",
       "      <td>44.142431</td>\n",
       "    </tr>\n",
       "    <tr>\n",
       "      <th>CommunicationTools</th>\n",
       "      <td>41885</td>\n",
       "      <td>42.370138</td>\n",
       "    </tr>\n",
       "    <tr>\n",
       "      <th>SelfTaughtTypes</th>\n",
       "      <td>41501</td>\n",
       "      <td>41.981690</td>\n",
       "    </tr>\n",
       "    <tr>\n",
       "      <th>RaceEthnicity</th>\n",
       "      <td>41382</td>\n",
       "      <td>41.861312</td>\n",
       "    </tr>\n",
       "    <tr>\n",
       "      <th>DatabaseDesireNextYear</th>\n",
       "      <td>41357</td>\n",
       "      <td>41.836022</td>\n",
       "    </tr>\n",
       "    <tr>\n",
       "      <th>CurrencySymbol</th>\n",
       "      <td>40205</td>\n",
       "      <td>40.670679</td>\n",
       "    </tr>\n",
       "    <tr>\n",
       "      <th>...</th>\n",
       "      <td>...</td>\n",
       "      <td>...</td>\n",
       "    </tr>\n",
       "    <tr>\n",
       "      <th>LanguageDesireNextYear</th>\n",
       "      <td>25611</td>\n",
       "      <td>25.907643</td>\n",
       "    </tr>\n",
       "    <tr>\n",
       "      <th>VersionControl</th>\n",
       "      <td>24557</td>\n",
       "      <td>24.841434</td>\n",
       "    </tr>\n",
       "    <tr>\n",
       "      <th>AdsAgreeDisagree2</th>\n",
       "      <td>24442</td>\n",
       "      <td>24.725102</td>\n",
       "    </tr>\n",
       "    <tr>\n",
       "      <th>AdsAgreeDisagree3</th>\n",
       "      <td>24441</td>\n",
       "      <td>24.724091</td>\n",
       "    </tr>\n",
       "    <tr>\n",
       "      <th>AdsAgreeDisagree1</th>\n",
       "      <td>24370</td>\n",
       "      <td>24.652268</td>\n",
       "    </tr>\n",
       "    <tr>\n",
       "      <th>StackOverflowJobs</th>\n",
       "      <td>23558</td>\n",
       "      <td>23.830863</td>\n",
       "    </tr>\n",
       "    <tr>\n",
       "      <th>IDE</th>\n",
       "      <td>23457</td>\n",
       "      <td>23.728694</td>\n",
       "    </tr>\n",
       "    <tr>\n",
       "      <th>HopeFiveYears</th>\n",
       "      <td>23137</td>\n",
       "      <td>23.404987</td>\n",
       "    </tr>\n",
       "    <tr>\n",
       "      <th>StackOverflowConsiderMember</th>\n",
       "      <td>22848</td>\n",
       "      <td>23.112640</td>\n",
       "    </tr>\n",
       "    <tr>\n",
       "      <th>AdBlocker</th>\n",
       "      <td>22800</td>\n",
       "      <td>23.064084</td>\n",
       "    </tr>\n",
       "    <tr>\n",
       "      <th>OperatingSystem</th>\n",
       "      <td>22676</td>\n",
       "      <td>22.938648</td>\n",
       "    </tr>\n",
       "    <tr>\n",
       "      <th>NumberMonitors</th>\n",
       "      <td>22457</td>\n",
       "      <td>22.717111</td>\n",
       "    </tr>\n",
       "    <tr>\n",
       "      <th>StackOverflowRecommend</th>\n",
       "      <td>22366</td>\n",
       "      <td>22.625057</td>\n",
       "    </tr>\n",
       "    <tr>\n",
       "      <th>CareerSatisfaction</th>\n",
       "      <td>22351</td>\n",
       "      <td>22.609883</td>\n",
       "    </tr>\n",
       "    <tr>\n",
       "      <th>StackOverflowHasAccount</th>\n",
       "      <td>22064</td>\n",
       "      <td>22.319559</td>\n",
       "    </tr>\n",
       "    <tr>\n",
       "      <th>StackOverflowVisit</th>\n",
       "      <td>22044</td>\n",
       "      <td>22.299327</td>\n",
       "    </tr>\n",
       "    <tr>\n",
       "      <th>YearsCodingProf</th>\n",
       "      <td>20952</td>\n",
       "      <td>21.194679</td>\n",
       "    </tr>\n",
       "    <tr>\n",
       "      <th>LanguageWorkedWith</th>\n",
       "      <td>20521</td>\n",
       "      <td>20.758687</td>\n",
       "    </tr>\n",
       "    <tr>\n",
       "      <th>LastNewJob</th>\n",
       "      <td>19966</td>\n",
       "      <td>20.197259</td>\n",
       "    </tr>\n",
       "    <tr>\n",
       "      <th>UndergradMajor</th>\n",
       "      <td>19819</td>\n",
       "      <td>20.048556</td>\n",
       "    </tr>\n",
       "    <tr>\n",
       "      <th>JobSearchStatus</th>\n",
       "      <td>19367</td>\n",
       "      <td>19.591321</td>\n",
       "    </tr>\n",
       "    <tr>\n",
       "      <th>DevType</th>\n",
       "      <td>6757</td>\n",
       "      <td>6.835264</td>\n",
       "    </tr>\n",
       "    <tr>\n",
       "      <th>YearsCoding</th>\n",
       "      <td>5020</td>\n",
       "      <td>5.078145</td>\n",
       "    </tr>\n",
       "    <tr>\n",
       "      <th>FormalEducation</th>\n",
       "      <td>4152</td>\n",
       "      <td>4.200091</td>\n",
       "    </tr>\n",
       "    <tr>\n",
       "      <th>Student</th>\n",
       "      <td>3954</td>\n",
       "      <td>3.999798</td>\n",
       "    </tr>\n",
       "    <tr>\n",
       "      <th>Employment</th>\n",
       "      <td>3534</td>\n",
       "      <td>3.574933</td>\n",
       "    </tr>\n",
       "    <tr>\n",
       "      <th>Country</th>\n",
       "      <td>412</td>\n",
       "      <td>0.416772</td>\n",
       "    </tr>\n",
       "    <tr>\n",
       "      <th>OpenSource</th>\n",
       "      <td>0</td>\n",
       "      <td>0.000000</td>\n",
       "    </tr>\n",
       "    <tr>\n",
       "      <th>Hobby</th>\n",
       "      <td>0</td>\n",
       "      <td>0.000000</td>\n",
       "    </tr>\n",
       "    <tr>\n",
       "      <th>Respondent</th>\n",
       "      <td>0</td>\n",
       "      <td>0.000000</td>\n",
       "    </tr>\n",
       "  </tbody>\n",
       "</table>\n",
       "<p>129 rows × 2 columns</p>\n",
       "</div>"
      ],
      "text/plain": [
       "                             Total    Percent\n",
       "TimeAfterBootcamp            92203  93.270952\n",
       "MilitaryUS                   83074  84.036215\n",
       "HackathonReasons             73164  74.011431\n",
       "ErgonomicDevices             64797  65.547519\n",
       "AdBlockerReasons             61110  61.817814\n",
       "StackOverflowJobsRecommend   60538  61.239189\n",
       "JobEmailPriorities1          52642  53.251732\n",
       "JobEmailPriorities2          52642  53.251732\n",
       "JobEmailPriorities3          52642  53.251732\n",
       "JobEmailPriorities4          52642  53.251732\n",
       "JobEmailPriorities6          52642  53.251732\n",
       "JobEmailPriorities5          52642  53.251732\n",
       "JobEmailPriorities7          52642  53.251732\n",
       "ConvertedSalary              51153  51.745486\n",
       "JobContactPriorities3        50149  50.729857\n",
       "JobContactPriorities4        50149  50.729857\n",
       "JobContactPriorities2        50149  50.729857\n",
       "JobContactPriorities1        50149  50.729857\n",
       "JobContactPriorities5        50149  50.729857\n",
       "Salary                       48277  48.836174\n",
       "SalaryType                   47785  48.338476\n",
       "FrameworkWorkedWith          47235  47.782105\n",
       "TimeFullyProductive          46983  47.527186\n",
       "AdBlockerDisable             43957  44.466137\n",
       "FrameworkDesireNextYear      43637  44.142431\n",
       "CommunicationTools           41885  42.370138\n",
       "SelfTaughtTypes              41501  41.981690\n",
       "RaceEthnicity                41382  41.861312\n",
       "DatabaseDesireNextYear       41357  41.836022\n",
       "CurrencySymbol               40205  40.670679\n",
       "...                            ...        ...\n",
       "LanguageDesireNextYear       25611  25.907643\n",
       "VersionControl               24557  24.841434\n",
       "AdsAgreeDisagree2            24442  24.725102\n",
       "AdsAgreeDisagree3            24441  24.724091\n",
       "AdsAgreeDisagree1            24370  24.652268\n",
       "StackOverflowJobs            23558  23.830863\n",
       "IDE                          23457  23.728694\n",
       "HopeFiveYears                23137  23.404987\n",
       "StackOverflowConsiderMember  22848  23.112640\n",
       "AdBlocker                    22800  23.064084\n",
       "OperatingSystem              22676  22.938648\n",
       "NumberMonitors               22457  22.717111\n",
       "StackOverflowRecommend       22366  22.625057\n",
       "CareerSatisfaction           22351  22.609883\n",
       "StackOverflowHasAccount      22064  22.319559\n",
       "StackOverflowVisit           22044  22.299327\n",
       "YearsCodingProf              20952  21.194679\n",
       "LanguageWorkedWith           20521  20.758687\n",
       "LastNewJob                   19966  20.197259\n",
       "UndergradMajor               19819  20.048556\n",
       "JobSearchStatus              19367  19.591321\n",
       "DevType                       6757   6.835264\n",
       "YearsCoding                   5020   5.078145\n",
       "FormalEducation               4152   4.200091\n",
       "Student                       3954   3.999798\n",
       "Employment                    3534   3.574933\n",
       "Country                        412   0.416772\n",
       "OpenSource                       0   0.000000\n",
       "Hobby                            0   0.000000\n",
       "Respondent                       0   0.000000\n",
       "\n",
       "[129 rows x 2 columns]"
      ]
     },
     "execution_count": 10,
     "metadata": {},
     "output_type": "execute_result"
    }
   ],
   "source": [
    "# check missing values of dataframe \n",
    "missing_df = missing_data(stack_data)\n",
    "missing_df"
   ]
  },
  {
   "cell_type": "markdown",
   "metadata": {},
   "source": [
    "### Preparing data and handling missing values"
   ]
  },
  {
   "cell_type": "code",
   "execution_count": 11,
   "metadata": {
    "collapsed": true
   },
   "outputs": [],
   "source": [
    "# fill missing values for data visualization\n",
    "\n",
    "# Use fillna mothod to fill missing Country value with 'Not know'\n",
    "stack_data[\"Country\"] = stack_data[\"Country\"].fillna('Not known')\n",
    "# Use fillna mothod fill missing DevType value with 'Not metioned'\n",
    "stack_data[\"DevType\"] = stack_data[\"DevType\"].fillna('Not mentioned')\n"
   ]
  },
  {
   "cell_type": "markdown",
   "metadata": {},
   "source": [
    " ## Data Exploration"
   ]
  },
  {
   "cell_type": "code",
   "execution_count": 12,
   "metadata": {},
   "outputs": [
    {
     "data": {
      "text/plain": [
       "'Randomized respondent ID number (not in order of survey response time)'"
      ]
     },
     "execution_count": 12,
     "metadata": {},
     "output_type": "execute_result"
    }
   ],
   "source": [
    "def get_description(column_name, schema=schema):\n",
    "    '''\n",
    "    INPUT - schema - pandas dataframe with the schema of the developers survey\n",
    "            column_name - string - the name of the column you would like to know about\n",
    "    OUTPUT - \n",
    "            desc - string - the description of the column\n",
    "    '''\n",
    "    desc = list(schema[schema['Column'] == column_name]['QuestionText'])[0]\n",
    "    return desc\n",
    "\n",
    "#Check your function against solution - you shouldn't need to change any of the below code\n",
    "get_description(stack_data.columns[0]) "
   ]
  },
  {
   "cell_type": "code",
   "execution_count": 13,
   "metadata": {},
   "outputs": [
    {
     "data": {
      "text/plain": [
       "'Salary converted to annual USD salaries using the exchange rate on 2018-01-18, assuming 12 working months and 50 working weeks.'"
      ]
     },
     "execution_count": 13,
     "metadata": {},
     "output_type": "execute_result"
    }
   ],
   "source": [
    "get_description('ConvertedSalary')"
   ]
  },
  {
   "cell_type": "code",
   "execution_count": 14,
   "metadata": {},
   "outputs": [
    {
     "data": {
      "text/plain": [
       "'Which of the following describe you? Please select all that apply.'"
      ]
     },
     "execution_count": 14,
     "metadata": {},
     "output_type": "execute_result"
    }
   ],
   "source": [
    "get_description('DevType')"
   ]
  },
  {
   "cell_type": "markdown",
   "metadata": {},
   "source": [
    "### How many data scientist participated in the survey"
   ]
  },
  {
   "cell_type": "code",
   "execution_count": 15,
   "metadata": {
    "collapsed": true
   },
   "outputs": [],
   "source": [
    "def split_column_value(ori_df, column_name, separator=';'):\n",
    "    '''\n",
    "    INPUT - ori_df  - pandas dataframe -  original dataframe\n",
    "            column_name - string - the name of the column you would like to splite the value\n",
    "            separator - string - The is a delimiter. The string splits at this specified separator. If is not provided then ; is the separator.\n",
    "    OUTPUT - \n",
    "            df - pandas dataframe - all value for the column of original dataframe\n",
    "    '''\n",
    "    df = pd.DataFrame(ori_df[column_name].dropna().str.split(separator).tolist()).stack()\n",
    "    return df"
   ]
  },
  {
   "cell_type": "code",
   "execution_count": 16,
   "metadata": {},
   "outputs": [
    {
     "data": {
      "text/plain": [
       "0  0      Full-stack developer\n",
       "1  0    Database administrator\n",
       "   1         DevOps specialist\n",
       "   2      Full-stack developer\n",
       "   3      System administrator\n",
       "dtype: object"
      ]
     },
     "execution_count": 16,
     "metadata": {},
     "output_type": "execute_result"
    }
   ],
   "source": [
    "# splite the DevType colume value\n",
    "temp1 = split_column_value(stack_data, 'DevType')\n",
    "temp1.head()"
   ]
  },
  {
   "cell_type": "code",
   "execution_count": 17,
   "metadata": {},
   "outputs": [
    {
     "data": {
      "text/plain": [
       "Back-end developer                               53300\n",
       "Full-stack developer                             44353\n",
       "Front-end developer                              34822\n",
       "Mobile developer                                 18804\n",
       "Desktop or enterprise applications developer     15807\n",
       "Student                                          15732\n",
       "Database administrator                           13216\n",
       "Designer                                         12019\n",
       "System administrator                             10375\n",
       "DevOps specialist                                 9549\n",
       "Data or business analyst                          7559\n",
       "Data scientist or machine learning specialist     7088\n",
       "Not mentioned                                     6757\n",
       "QA or test developer                              6194\n",
       "Engineering manager                               5256\n",
       "Embedded applications or devices developer        4819\n",
       "Game or graphics developer                        4642\n",
       "Product manager                                   4316\n",
       "Educator or academic researcher                   3641\n",
       "C-suite executive (CEO, CTO, etc.)                3491\n",
       "Marketing or sales professional                   1122\n",
       "dtype: int64"
      ]
     },
     "execution_count": 17,
     "metadata": {},
     "output_type": "execute_result"
    }
   ],
   "source": [
    "#Count DevType column the values\n",
    "cnt_srs = temp1.value_counts().sort_values(ascending=False)\n",
    "cnt_srs"
   ]
  },
  {
   "cell_type": "code",
   "execution_count": 18,
   "metadata": {},
   "outputs": [
    {
     "data": {
      "application/vnd.plotly.v1+json": {
       "config": {
        "linkText": "Export to plot.ly",
        "plotlyServerURL": "https://plot.ly",
        "showLink": true
       },
       "data": [
        {
         "orientation": "h",
         "type": "bar",
         "uid": "d27c66f9-ffd4-48ce-b35b-534df23742fa",
         "x": [
          0.39665985533581744,
          1.2341707263612645,
          1.2872001187858388,
          1.5258323846964243,
          1.6410829308991663,
          1.7036576139601645,
          1.8581499105570916,
          2.1897603778520973,
          2.3887973640856672,
          2.5058155567025615,
          2.6723278489157254,
          3.375851121748415,
          3.667866309366405,
          4.249068450339742,
          4.672243001887846,
          5.561722677489376,
          5.588237373701664,
          6.6477646343446635,
          12.310596686723562,
          15.680084281381026,
          18.843110774865483
         ],
         "y": [
          "Marketing or sales professional",
          "C-suite executive (CEO, CTO, etc.)",
          "Educator or academic researcher",
          "Product manager",
          "Game or graphics developer",
          "Embedded applications or devices developer",
          "Engineering manager",
          "QA or test developer",
          "Not mentioned",
          "Data scientist or machine learning specialist",
          "Data or business analyst",
          "DevOps specialist",
          "System administrator",
          "Designer",
          "Database administrator",
          "Student",
          "Desktop or enterprise applications developer",
          "Mobile developer",
          "Front-end developer",
          "Full-stack developer",
          "Back-end developer"
         ]
        }
       ],
       "layout": {
        "margin": {
         "l": 400
        },
        "title": "Description of people who participated in survey (%)"
       }
      },
      "text/html": [
       "<div id=\"eb573126-34b9-48e1-8453-42b62674eebe\" style=\"height: 525px; width: 100%;\" class=\"plotly-graph-div\"></div><script type=\"text/javascript\">require([\"plotly\"], function(Plotly) { window.PLOTLYENV=window.PLOTLYENV || {};window.PLOTLYENV.BASE_URL=\"https://plot.ly\";Plotly.newPlot(\"eb573126-34b9-48e1-8453-42b62674eebe\", [{\"orientation\": \"h\", \"x\": [0.39665985533581744, 1.2341707263612645, 1.2872001187858388, 1.5258323846964243, 1.6410829308991663, 1.7036576139601645, 1.8581499105570916, 2.1897603778520973, 2.3887973640856672, 2.5058155567025615, 2.6723278489157254, 3.375851121748415, 3.667866309366405, 4.249068450339742, 4.672243001887846, 5.561722677489376, 5.588237373701664, 6.6477646343446635, 12.310596686723562, 15.680084281381026, 18.843110774865483], \"y\": [\"Marketing or sales professional\", \"C-suite executive (CEO, CTO, etc.)\", \"Educator or academic researcher\", \"Product manager\", \"Game or graphics developer\", \"Embedded applications or devices developer\", \"Engineering manager\", \"QA or test developer\", \"Not mentioned\", \"Data scientist or machine learning specialist\", \"Data or business analyst\", \"DevOps specialist\", \"System administrator\", \"Designer\", \"Database administrator\", \"Student\", \"Desktop or enterprise applications developer\", \"Mobile developer\", \"Front-end developer\", \"Full-stack developer\", \"Back-end developer\"], \"type\": \"bar\", \"uid\": \"d27c66f9-ffd4-48ce-b35b-534df23742fa\"}], {\"margin\": {\"l\": 400}, \"title\": \"Description of people who participated in survey (%)\"}, {\"showLink\": true, \"linkText\": \"Export to plot.ly\", \"plotlyServerURL\": \"https://plot.ly\"})});</script><script type=\"text/javascript\">window.addEventListener(\"resize\", function(){window._Plotly.Plots.resize(document.getElementById(\"eb573126-34b9-48e1-8453-42b62674eebe\"));});</script>"
      ],
      "text/vnd.plotly.v1+html": [
       "<div id=\"eb573126-34b9-48e1-8453-42b62674eebe\" style=\"height: 525px; width: 100%;\" class=\"plotly-graph-div\"></div><script type=\"text/javascript\">require([\"plotly\"], function(Plotly) { window.PLOTLYENV=window.PLOTLYENV || {};window.PLOTLYENV.BASE_URL=\"https://plot.ly\";Plotly.newPlot(\"eb573126-34b9-48e1-8453-42b62674eebe\", [{\"orientation\": \"h\", \"x\": [0.39665985533581744, 1.2341707263612645, 1.2872001187858388, 1.5258323846964243, 1.6410829308991663, 1.7036576139601645, 1.8581499105570916, 2.1897603778520973, 2.3887973640856672, 2.5058155567025615, 2.6723278489157254, 3.375851121748415, 3.667866309366405, 4.249068450339742, 4.672243001887846, 5.561722677489376, 5.588237373701664, 6.6477646343446635, 12.310596686723562, 15.680084281381026, 18.843110774865483], \"y\": [\"Marketing or sales professional\", \"C-suite executive (CEO, CTO, etc.)\", \"Educator or academic researcher\", \"Product manager\", \"Game or graphics developer\", \"Embedded applications or devices developer\", \"Engineering manager\", \"QA or test developer\", \"Not mentioned\", \"Data scientist or machine learning specialist\", \"Data or business analyst\", \"DevOps specialist\", \"System administrator\", \"Designer\", \"Database administrator\", \"Student\", \"Desktop or enterprise applications developer\", \"Mobile developer\", \"Front-end developer\", \"Full-stack developer\", \"Back-end developer\"], \"type\": \"bar\", \"uid\": \"d27c66f9-ffd4-48ce-b35b-534df23742fa\"}], {\"margin\": {\"l\": 400}, \"title\": \"Description of people who participated in survey (%)\"}, {\"showLink\": true, \"linkText\": \"Export to plot.ly\", \"plotlyServerURL\": \"https://plot.ly\"})});</script><script type=\"text/javascript\">window.addEventListener(\"resize\", function(){window._Plotly.Plots.resize(document.getElementById(\"eb573126-34b9-48e1-8453-42b62674eebe\"));});</script>"
      ]
     },
     "metadata": {},
     "output_type": "display_data"
    }
   ],
   "source": [
    "#Plot devtype column\n",
    "trace = go.Bar(\n",
    "    y=cnt_srs.index[::-1],\n",
    "    x=(cnt_srs/cnt_srs.sum() * 100)[::-1],\n",
    "    orientation = 'h',\n",
    ")\n",
    "\n",
    "layout = dict(\n",
    "    title='Description of people who participated in survey (%)',\n",
    "    margin=dict(\n",
    "    l=400,\n",
    ")\n",
    "    )\n",
    "data = [trace]\n",
    "fig = go.Figure(data=data, layout=layout)\n",
    "py.iplot(fig)"
   ]
  },
  {
   "cell_type": "markdown",
   "metadata": {},
   "source": [
    "There are 7088 Data sscientist participated in survey,  2.67% of total participated."
   ]
  },
  {
   "cell_type": "markdown",
   "metadata": {
    "collapsed": true
   },
   "source": [
    "### Add data dev type to the data set for later analyst"
   ]
  },
  {
   "cell_type": "code",
   "execution_count": 19,
   "metadata": {
    "collapsed": true
   },
   "outputs": [],
   "source": [
    "def data_dev_type(formal_ed_str):\n",
    "    '''\n",
    "    INPUT\n",
    "        formal_ed_str - a string of one of the values from the DevType column\n",
    "    \n",
    "    OUTPUT\n",
    "        return 1 if the string is  in (\"Data or business analyst\")\n",
    "        return 0 otherwise\n",
    "    \n",
    "    '''\n",
    "    if \"Data scientist or machine learning specialist\" in formal_ed_str:\n",
    "        return 1\n",
    "    else:\n",
    "        return 0"
   ]
  },
  {
   "cell_type": "code",
   "execution_count": 20,
   "metadata": {
    "collapsed": true
   },
   "outputs": [],
   "source": [
    "# add DataDevType column \n",
    "stack_data['DataDevType'] = stack_data[\"DevType\"].apply(data_dev_type)\n",
    "stack_dm_data = stack_data[stack_data['DataDevType']==1]"
   ]
  },
  {
   "cell_type": "code",
   "execution_count": 21,
   "metadata": {},
   "outputs": [
    {
     "data": {
      "text/html": [
       "<div>\n",
       "<style scoped>\n",
       "    .dataframe tbody tr th:only-of-type {\n",
       "        vertical-align: middle;\n",
       "    }\n",
       "\n",
       "    .dataframe tbody tr th {\n",
       "        vertical-align: top;\n",
       "    }\n",
       "\n",
       "    .dataframe thead th {\n",
       "        text-align: right;\n",
       "    }\n",
       "</style>\n",
       "<table border=\"1\" class=\"dataframe\">\n",
       "  <thead>\n",
       "    <tr style=\"text-align: right;\">\n",
       "      <th></th>\n",
       "      <th>Respondent</th>\n",
       "      <th>Hobby</th>\n",
       "      <th>OpenSource</th>\n",
       "      <th>Country</th>\n",
       "      <th>Student</th>\n",
       "      <th>Employment</th>\n",
       "      <th>FormalEducation</th>\n",
       "      <th>UndergradMajor</th>\n",
       "      <th>CompanySize</th>\n",
       "      <th>DevType</th>\n",
       "      <th>...</th>\n",
       "      <th>Gender</th>\n",
       "      <th>SexualOrientation</th>\n",
       "      <th>EducationParents</th>\n",
       "      <th>RaceEthnicity</th>\n",
       "      <th>Age</th>\n",
       "      <th>Dependents</th>\n",
       "      <th>MilitaryUS</th>\n",
       "      <th>SurveyTooLong</th>\n",
       "      <th>SurveyEasy</th>\n",
       "      <th>DataDevType</th>\n",
       "    </tr>\n",
       "  </thead>\n",
       "  <tbody>\n",
       "    <tr>\n",
       "      <th>18</th>\n",
       "      <td>29</td>\n",
       "      <td>Yes</td>\n",
       "      <td>Yes</td>\n",
       "      <td>India</td>\n",
       "      <td>Yes, full-time</td>\n",
       "      <td>Employed full-time</td>\n",
       "      <td>Bachelor’s degree (BA, BS, B.Eng., etc.)</td>\n",
       "      <td>NaN</td>\n",
       "      <td>10,000 or more employees</td>\n",
       "      <td>Data or business analyst;Data scientist or mac...</td>\n",
       "      <td>...</td>\n",
       "      <td>Female</td>\n",
       "      <td>NaN</td>\n",
       "      <td>Some college/university study without earning ...</td>\n",
       "      <td>NaN</td>\n",
       "      <td>NaN</td>\n",
       "      <td>NaN</td>\n",
       "      <td>NaN</td>\n",
       "      <td>The survey was too long</td>\n",
       "      <td>Very difficult</td>\n",
       "      <td>1</td>\n",
       "    </tr>\n",
       "    <tr>\n",
       "      <th>28</th>\n",
       "      <td>45</td>\n",
       "      <td>Yes</td>\n",
       "      <td>Yes</td>\n",
       "      <td>United States</td>\n",
       "      <td>No</td>\n",
       "      <td>Employed full-time</td>\n",
       "      <td>Bachelor’s degree (BA, BS, B.Eng., etc.)</td>\n",
       "      <td>Computer science, computer engineering, or sof...</td>\n",
       "      <td>10,000 or more employees</td>\n",
       "      <td>Back-end developer;Data scientist or machine l...</td>\n",
       "      <td>...</td>\n",
       "      <td>NaN</td>\n",
       "      <td>NaN</td>\n",
       "      <td>NaN</td>\n",
       "      <td>NaN</td>\n",
       "      <td>NaN</td>\n",
       "      <td>NaN</td>\n",
       "      <td>NaN</td>\n",
       "      <td>NaN</td>\n",
       "      <td>NaN</td>\n",
       "      <td>1</td>\n",
       "    </tr>\n",
       "    <tr>\n",
       "      <th>40</th>\n",
       "      <td>60</td>\n",
       "      <td>Yes</td>\n",
       "      <td>No</td>\n",
       "      <td>Germany</td>\n",
       "      <td>Yes, full-time</td>\n",
       "      <td>Employed part-time</td>\n",
       "      <td>Secondary school (e.g. American high school, G...</td>\n",
       "      <td>NaN</td>\n",
       "      <td>1,000 to 4,999 employees</td>\n",
       "      <td>Data scientist or machine learning specialist;...</td>\n",
       "      <td>...</td>\n",
       "      <td>NaN</td>\n",
       "      <td>NaN</td>\n",
       "      <td>NaN</td>\n",
       "      <td>NaN</td>\n",
       "      <td>NaN</td>\n",
       "      <td>NaN</td>\n",
       "      <td>NaN</td>\n",
       "      <td>NaN</td>\n",
       "      <td>NaN</td>\n",
       "      <td>1</td>\n",
       "    </tr>\n",
       "    <tr>\n",
       "      <th>62</th>\n",
       "      <td>91</td>\n",
       "      <td>Yes</td>\n",
       "      <td>Yes</td>\n",
       "      <td>United States</td>\n",
       "      <td>No</td>\n",
       "      <td>Employed full-time</td>\n",
       "      <td>Master’s degree (MA, MS, M.Eng., MBA, etc.)</td>\n",
       "      <td>Computer science, computer engineering, or sof...</td>\n",
       "      <td>10,000 or more employees</td>\n",
       "      <td>Back-end developer;Data scientist or machine l...</td>\n",
       "      <td>...</td>\n",
       "      <td>Male</td>\n",
       "      <td>Straight or heterosexual</td>\n",
       "      <td>Professional degree (JD, MD, etc.)</td>\n",
       "      <td>White or of European descent</td>\n",
       "      <td>25 - 34 years old</td>\n",
       "      <td>No</td>\n",
       "      <td>No</td>\n",
       "      <td>The survey was too long</td>\n",
       "      <td>Somewhat easy</td>\n",
       "      <td>1</td>\n",
       "    </tr>\n",
       "    <tr>\n",
       "      <th>86</th>\n",
       "      <td>129</td>\n",
       "      <td>Yes</td>\n",
       "      <td>Yes</td>\n",
       "      <td>United States</td>\n",
       "      <td>Yes, full-time</td>\n",
       "      <td>Employed full-time</td>\n",
       "      <td>Some college/university study without earning ...</td>\n",
       "      <td>Computer science, computer engineering, or sof...</td>\n",
       "      <td>20 to 99 employees</td>\n",
       "      <td>Back-end developer;Data scientist or machine l...</td>\n",
       "      <td>...</td>\n",
       "      <td>Male</td>\n",
       "      <td>Straight or heterosexual</td>\n",
       "      <td>Other doctoral degree (Ph.D, Ed.D., etc.)</td>\n",
       "      <td>East Asian</td>\n",
       "      <td>18 - 24 years old</td>\n",
       "      <td>No</td>\n",
       "      <td>No</td>\n",
       "      <td>The survey was too long</td>\n",
       "      <td>Somewhat easy</td>\n",
       "      <td>1</td>\n",
       "    </tr>\n",
       "  </tbody>\n",
       "</table>\n",
       "<p>5 rows × 130 columns</p>\n",
       "</div>"
      ],
      "text/plain": [
       "    Respondent Hobby OpenSource        Country         Student  \\\n",
       "18          29   Yes        Yes          India  Yes, full-time   \n",
       "28          45   Yes        Yes  United States              No   \n",
       "40          60   Yes         No        Germany  Yes, full-time   \n",
       "62          91   Yes        Yes  United States              No   \n",
       "86         129   Yes        Yes  United States  Yes, full-time   \n",
       "\n",
       "            Employment                                    FormalEducation  \\\n",
       "18  Employed full-time           Bachelor’s degree (BA, BS, B.Eng., etc.)   \n",
       "28  Employed full-time           Bachelor’s degree (BA, BS, B.Eng., etc.)   \n",
       "40  Employed part-time  Secondary school (e.g. American high school, G...   \n",
       "62  Employed full-time        Master’s degree (MA, MS, M.Eng., MBA, etc.)   \n",
       "86  Employed full-time  Some college/university study without earning ...   \n",
       "\n",
       "                                       UndergradMajor  \\\n",
       "18                                                NaN   \n",
       "28  Computer science, computer engineering, or sof...   \n",
       "40                                                NaN   \n",
       "62  Computer science, computer engineering, or sof...   \n",
       "86  Computer science, computer engineering, or sof...   \n",
       "\n",
       "                 CompanySize  \\\n",
       "18  10,000 or more employees   \n",
       "28  10,000 or more employees   \n",
       "40  1,000 to 4,999 employees   \n",
       "62  10,000 or more employees   \n",
       "86        20 to 99 employees   \n",
       "\n",
       "                                              DevType     ...       Gender  \\\n",
       "18  Data or business analyst;Data scientist or mac...     ...       Female   \n",
       "28  Back-end developer;Data scientist or machine l...     ...          NaN   \n",
       "40  Data scientist or machine learning specialist;...     ...          NaN   \n",
       "62  Back-end developer;Data scientist or machine l...     ...         Male   \n",
       "86  Back-end developer;Data scientist or machine l...     ...         Male   \n",
       "\n",
       "           SexualOrientation  \\\n",
       "18                       NaN   \n",
       "28                       NaN   \n",
       "40                       NaN   \n",
       "62  Straight or heterosexual   \n",
       "86  Straight or heterosexual   \n",
       "\n",
       "                                     EducationParents  \\\n",
       "18  Some college/university study without earning ...   \n",
       "28                                                NaN   \n",
       "40                                                NaN   \n",
       "62                 Professional degree (JD, MD, etc.)   \n",
       "86          Other doctoral degree (Ph.D, Ed.D., etc.)   \n",
       "\n",
       "                   RaceEthnicity                Age Dependents MilitaryUS  \\\n",
       "18                           NaN                NaN        NaN        NaN   \n",
       "28                           NaN                NaN        NaN        NaN   \n",
       "40                           NaN                NaN        NaN        NaN   \n",
       "62  White or of European descent  25 - 34 years old         No         No   \n",
       "86                    East Asian  18 - 24 years old         No         No   \n",
       "\n",
       "              SurveyTooLong      SurveyEasy  DataDevType  \n",
       "18  The survey was too long  Very difficult            1  \n",
       "28                      NaN             NaN            1  \n",
       "40                      NaN             NaN            1  \n",
       "62  The survey was too long   Somewhat easy            1  \n",
       "86  The survey was too long   Somewhat easy            1  \n",
       "\n",
       "[5 rows x 130 columns]"
      ]
     },
     "execution_count": 21,
     "metadata": {},
     "output_type": "execute_result"
    }
   ],
   "source": [
    "stack_dm_data.head()"
   ]
  },
  {
   "cell_type": "markdown",
   "metadata": {},
   "source": [
    "### What language the data scientists use most?"
   ]
  },
  {
   "cell_type": "code",
   "execution_count": 22,
   "metadata": {},
   "outputs": [
    {
     "name": "stdout",
     "output_type": "stream",
     "text": [
      "This is the format of your plot grid:\n",
      "[ (1,1) x1,y1 ]  [ (1,2) x2,y2 ]\n",
      "\n"
     ]
    },
    {
     "data": {
      "application/vnd.plotly.v1+json": {
       "config": {
        "linkText": "Export to plot.ly",
        "plotlyServerURL": "https://plot.ly",
        "showLink": true
       },
       "data": [
        {
         "orientation": "h",
         "type": "bar",
         "uid": "1ad2e191-c5fe-4104-aded-14c438593e6e",
         "x": [
          4564,
          4813,
          5254,
          5510,
          5532,
          5760,
          6310,
          7911,
          13626,
          18042,
          19872,
          24071,
          26954,
          30359,
          31172,
          35521,
          44670,
          50979,
          53628,
          54686
         ],
         "xaxis": "x",
         "y": [
          "Matlab",
          "R",
          "VB.NET",
          "Objective-C",
          "Go",
          "Assembly",
          "Swift",
          "Ruby",
          "TypeScript",
          "C",
          "C++",
          "PHP",
          "C#",
          "Python",
          "Bash/Shell",
          "Java",
          "SQL",
          "CSS",
          "HTML",
          "JavaScript"
         ],
         "yaxis": "y"
        },
        {
         "orientation": "h",
         "type": "bar",
         "uid": "e6402de3-32aa-4d90-bf77-f3238f475dba",
         "x": [
          5117,
          6219,
          7041,
          7824,
          7857,
          9708,
          10316,
          11992,
          12244,
          15289,
          15529,
          16896,
          20419,
          20751,
          22556,
          28011,
          30199,
          31789,
          32795,
          38465
         ],
         "xaxis": "x2",
         "y": [
          "Haskell",
          "Scala",
          "R",
          "Ruby",
          "Rust",
          "Swift",
          "C",
          "Kotlin",
          "PHP",
          "C++",
          "Go",
          "TypeScript",
          "C#",
          "Bash/Shell",
          "Java",
          "SQL",
          "CSS",
          "HTML",
          "Python",
          "JavaScript"
         ],
         "yaxis": "y2"
        }
       ],
       "layout": {
        "annotations": [
         {
          "font": {
           "size": 16
          },
          "showarrow": false,
          "text": "On which developers worked with ",
          "x": 0.225,
          "xanchor": "center",
          "xref": "paper",
          "y": 1,
          "yanchor": "bottom",
          "yref": "paper"
         },
         {
          "font": {
           "size": 16
          },
          "showarrow": false,
          "text": "On which developers want to work in over the next year",
          "x": 0.775,
          "xanchor": "center",
          "xref": "paper",
          "y": 1,
          "yanchor": "bottom",
          "yref": "paper"
         }
        ],
        "height": 500,
        "title": "Most popular languages",
        "width": 1000,
        "xaxis": {
         "anchor": "y",
         "domain": [
          0,
          0.45
         ]
        },
        "xaxis2": {
         "anchor": "y2",
         "domain": [
          0.55,
          1
         ]
        },
        "yaxis": {
         "anchor": "x",
         "domain": [
          0,
          1
         ]
        },
        "yaxis2": {
         "anchor": "x2",
         "domain": [
          0,
          1
         ]
        }
       }
      },
      "text/html": [
       "<div id=\"28e3e46e-3252-4321-b1e5-26f18fa790d5\" style=\"height: 500px; width: 1000px;\" class=\"plotly-graph-div\"></div><script type=\"text/javascript\">require([\"plotly\"], function(Plotly) { window.PLOTLYENV=window.PLOTLYENV || {};window.PLOTLYENV.BASE_URL=\"https://plot.ly\";Plotly.newPlot(\"28e3e46e-3252-4321-b1e5-26f18fa790d5\", [{\"orientation\": \"h\", \"x\": [4564, 4813, 5254, 5510, 5532, 5760, 6310, 7911, 13626, 18042, 19872, 24071, 26954, 30359, 31172, 35521, 44670, 50979, 53628, 54686], \"y\": [\"Matlab\", \"R\", \"VB.NET\", \"Objective-C\", \"Go\", \"Assembly\", \"Swift\", \"Ruby\", \"TypeScript\", \"C\", \"C++\", \"PHP\", \"C#\", \"Python\", \"Bash/Shell\", \"Java\", \"SQL\", \"CSS\", \"HTML\", \"JavaScript\"], \"type\": \"bar\", \"uid\": \"1ad2e191-c5fe-4104-aded-14c438593e6e\", \"xaxis\": \"x\", \"yaxis\": \"y\"}, {\"orientation\": \"h\", \"x\": [5117, 6219, 7041, 7824, 7857, 9708, 10316, 11992, 12244, 15289, 15529, 16896, 20419, 20751, 22556, 28011, 30199, 31789, 32795, 38465], \"y\": [\"Haskell\", \"Scala\", \"R\", \"Ruby\", \"Rust\", \"Swift\", \"C\", \"Kotlin\", \"PHP\", \"C++\", \"Go\", \"TypeScript\", \"C#\", \"Bash/Shell\", \"Java\", \"SQL\", \"CSS\", \"HTML\", \"Python\", \"JavaScript\"], \"type\": \"bar\", \"uid\": \"e6402de3-32aa-4d90-bf77-f3238f475dba\", \"xaxis\": \"x2\", \"yaxis\": \"y2\"}], {\"annotations\": [{\"font\": {\"size\": 16}, \"showarrow\": false, \"text\": \"On which developers worked with \", \"x\": 0.225, \"xanchor\": \"center\", \"xref\": \"paper\", \"y\": 1.0, \"yanchor\": \"bottom\", \"yref\": \"paper\"}, {\"font\": {\"size\": 16}, \"showarrow\": false, \"text\": \"On which developers want to work in over the next year\", \"x\": 0.775, \"xanchor\": \"center\", \"xref\": \"paper\", \"y\": 1.0, \"yanchor\": \"bottom\", \"yref\": \"paper\"}], \"xaxis\": {\"anchor\": \"y\", \"domain\": [0.0, 0.45]}, \"yaxis\": {\"anchor\": \"x\", \"domain\": [0.0, 1.0]}, \"xaxis2\": {\"anchor\": \"y2\", \"domain\": [0.55, 1.0]}, \"yaxis2\": {\"anchor\": \"x2\", \"domain\": [0.0, 1.0]}, \"height\": 500, \"width\": 1000, \"title\": \"Most popular languages\"}, {\"showLink\": true, \"linkText\": \"Export to plot.ly\", \"plotlyServerURL\": \"https://plot.ly\"})});</script>"
      ],
      "text/vnd.plotly.v1+html": [
       "<div id=\"28e3e46e-3252-4321-b1e5-26f18fa790d5\" style=\"height: 500px; width: 1000px;\" class=\"plotly-graph-div\"></div><script type=\"text/javascript\">require([\"plotly\"], function(Plotly) { window.PLOTLYENV=window.PLOTLYENV || {};window.PLOTLYENV.BASE_URL=\"https://plot.ly\";Plotly.newPlot(\"28e3e46e-3252-4321-b1e5-26f18fa790d5\", [{\"orientation\": \"h\", \"x\": [4564, 4813, 5254, 5510, 5532, 5760, 6310, 7911, 13626, 18042, 19872, 24071, 26954, 30359, 31172, 35521, 44670, 50979, 53628, 54686], \"y\": [\"Matlab\", \"R\", \"VB.NET\", \"Objective-C\", \"Go\", \"Assembly\", \"Swift\", \"Ruby\", \"TypeScript\", \"C\", \"C++\", \"PHP\", \"C#\", \"Python\", \"Bash/Shell\", \"Java\", \"SQL\", \"CSS\", \"HTML\", \"JavaScript\"], \"type\": \"bar\", \"uid\": \"1ad2e191-c5fe-4104-aded-14c438593e6e\", \"xaxis\": \"x\", \"yaxis\": \"y\"}, {\"orientation\": \"h\", \"x\": [5117, 6219, 7041, 7824, 7857, 9708, 10316, 11992, 12244, 15289, 15529, 16896, 20419, 20751, 22556, 28011, 30199, 31789, 32795, 38465], \"y\": [\"Haskell\", \"Scala\", \"R\", \"Ruby\", \"Rust\", \"Swift\", \"C\", \"Kotlin\", \"PHP\", \"C++\", \"Go\", \"TypeScript\", \"C#\", \"Bash/Shell\", \"Java\", \"SQL\", \"CSS\", \"HTML\", \"Python\", \"JavaScript\"], \"type\": \"bar\", \"uid\": \"e6402de3-32aa-4d90-bf77-f3238f475dba\", \"xaxis\": \"x2\", \"yaxis\": \"y2\"}], {\"annotations\": [{\"font\": {\"size\": 16}, \"showarrow\": false, \"text\": \"On which developers worked with \", \"x\": 0.225, \"xanchor\": \"center\", \"xref\": \"paper\", \"y\": 1.0, \"yanchor\": \"bottom\", \"yref\": \"paper\"}, {\"font\": {\"size\": 16}, \"showarrow\": false, \"text\": \"On which developers want to work in over the next year\", \"x\": 0.775, \"xanchor\": \"center\", \"xref\": \"paper\", \"y\": 1.0, \"yanchor\": \"bottom\", \"yref\": \"paper\"}], \"xaxis\": {\"anchor\": \"y\", \"domain\": [0.0, 0.45]}, \"yaxis\": {\"anchor\": \"x\", \"domain\": [0.0, 1.0]}, \"xaxis2\": {\"anchor\": \"y2\", \"domain\": [0.55, 1.0]}, \"yaxis2\": {\"anchor\": \"x2\", \"domain\": [0.0, 1.0]}, \"height\": 500, \"width\": 1000, \"title\": \"Most popular languages\"}, {\"showLink\": true, \"linkText\": \"Export to plot.ly\", \"plotlyServerURL\": \"https://plot.ly\"})});</script>"
      ]
     },
     "metadata": {},
     "output_type": "display_data"
    }
   ],
   "source": [
    "# Plot most popular language \n",
    "temp1 = split_column_value(stack_data, 'LanguageWorkedWith')\n",
    "temp1 = temp1.value_counts().sort_values(ascending=False).head(20)\n",
    "\n",
    "temp2 = split_column_value(stack_data, 'LanguageDesireNextYear')\n",
    "temp2 = temp2.value_counts().sort_values(ascending=False).head(20)\n",
    "trace1 = go.Bar(\n",
    "    y=temp1.index[::-1],\n",
    "    x=temp1.values[::-1],\n",
    "    orientation = 'h',\n",
    "    #name = ''\n",
    ")\n",
    "trace2 = go.Bar(\n",
    "    y=temp2.index[::-1],\n",
    "    x=temp2.values[::-1],\n",
    "    orientation = 'h',\n",
    "    #name = ''\n",
    ")\n",
    "\n",
    "fig = tools.make_subplots(rows=1, cols=2, subplot_titles=('On which developers worked with ', 'On which developers want to work in over the next year'))\n",
    "                                                          \n",
    "\n",
    "fig.append_trace(trace1, 1, 1)\n",
    "fig.append_trace(trace2, 1, 2)\n",
    "fig['layout'].update(height=500, width=1000, title='Most popular languages')\n",
    "iplot(fig, filename='simple-subplot')"
   ]
  },
  {
   "cell_type": "code",
   "execution_count": 23,
   "metadata": {},
   "outputs": [
    {
     "name": "stdout",
     "output_type": "stream",
     "text": [
      "This is the format of your plot grid:\n",
      "[ (1,1) x1,y1 ]  [ (1,2) x2,y2 ]\n",
      "\n"
     ]
    },
    {
     "data": {
      "application/vnd.plotly.v1+json": {
       "config": {
        "linkText": "Export to plot.ly",
        "plotlyServerURL": "https://plot.ly",
        "showLink": true
       },
       "data": [
        {
         "orientation": "h",
         "type": "bar",
         "uid": "ee850b0c-a718-4e95-ab78-7e97a8132e4b",
         "x": [
          385,
          435,
          518,
          551,
          629,
          638,
          724,
          1148,
          1340,
          1517,
          1874,
          2036,
          2189,
          2736,
          3101,
          3139,
          3295,
          3422,
          3501,
          4597
         ],
         "xaxis": "x",
         "y": [
          "Swift",
          "VBA",
          "Ruby",
          "Go",
          "TypeScript",
          "Assembly",
          "Scala",
          "Matlab",
          "PHP",
          "C#",
          "C",
          "R",
          "C++",
          "Java",
          "Bash/Shell",
          "CSS",
          "JavaScript",
          "HTML",
          "SQL",
          "Python"
         ],
         "yaxis": "y"
        },
        {
         "orientation": "h",
         "type": "bar",
         "uid": "461fd3e6-a439-419f-b5a6-971b0c0a152e",
         "x": [
          513,
          556,
          577,
          645,
          711,
          719,
          722,
          1051,
          1076,
          1111,
          1300,
          1580,
          1624,
          1739,
          1746,
          1853,
          2118,
          2186,
          2273,
          4156
         ],
         "xaxis": "x2",
         "y": [
          "Julia",
          "Swift",
          "PHP",
          "Haskell",
          "Rust",
          "Kotlin",
          "TypeScript",
          "Scala",
          "C#",
          "C",
          "Go",
          "Java",
          "CSS",
          "C++",
          "HTML",
          "R",
          "Bash/Shell",
          "JavaScript",
          "SQL",
          "Python"
         ],
         "yaxis": "y2"
        }
       ],
       "layout": {
        "annotations": [
         {
          "font": {
           "size": 16
          },
          "showarrow": false,
          "text": "On which Data Scientist worked with ",
          "x": 0.225,
          "xanchor": "center",
          "xref": "paper",
          "y": 1,
          "yanchor": "bottom",
          "yref": "paper"
         },
         {
          "font": {
           "size": 16
          },
          "showarrow": false,
          "text": "On which Data Scientist want to work in over the next year",
          "x": 0.775,
          "xanchor": "center",
          "xref": "paper",
          "y": 1,
          "yanchor": "bottom",
          "yref": "paper"
         }
        ],
        "height": 500,
        "title": "Most popular languages for Data Scientist",
        "width": 1000,
        "xaxis": {
         "anchor": "y",
         "domain": [
          0,
          0.45
         ]
        },
        "xaxis2": {
         "anchor": "y2",
         "domain": [
          0.55,
          1
         ]
        },
        "yaxis": {
         "anchor": "x",
         "domain": [
          0,
          1
         ]
        },
        "yaxis2": {
         "anchor": "x2",
         "domain": [
          0,
          1
         ]
        }
       }
      },
      "text/html": [
       "<div id=\"86f01351-3d50-4b4c-872a-3538cda38bfc\" style=\"height: 500px; width: 1000px;\" class=\"plotly-graph-div\"></div><script type=\"text/javascript\">require([\"plotly\"], function(Plotly) { window.PLOTLYENV=window.PLOTLYENV || {};window.PLOTLYENV.BASE_URL=\"https://plot.ly\";Plotly.newPlot(\"86f01351-3d50-4b4c-872a-3538cda38bfc\", [{\"orientation\": \"h\", \"x\": [385, 435, 518, 551, 629, 638, 724, 1148, 1340, 1517, 1874, 2036, 2189, 2736, 3101, 3139, 3295, 3422, 3501, 4597], \"y\": [\"Swift\", \"VBA\", \"Ruby\", \"Go\", \"TypeScript\", \"Assembly\", \"Scala\", \"Matlab\", \"PHP\", \"C#\", \"C\", \"R\", \"C++\", \"Java\", \"Bash/Shell\", \"CSS\", \"JavaScript\", \"HTML\", \"SQL\", \"Python\"], \"type\": \"bar\", \"uid\": \"ee850b0c-a718-4e95-ab78-7e97a8132e4b\", \"xaxis\": \"x\", \"yaxis\": \"y\"}, {\"orientation\": \"h\", \"x\": [513, 556, 577, 645, 711, 719, 722, 1051, 1076, 1111, 1300, 1580, 1624, 1739, 1746, 1853, 2118, 2186, 2273, 4156], \"y\": [\"Julia\", \"Swift\", \"PHP\", \"Haskell\", \"Rust\", \"Kotlin\", \"TypeScript\", \"Scala\", \"C#\", \"C\", \"Go\", \"Java\", \"CSS\", \"C++\", \"HTML\", \"R\", \"Bash/Shell\", \"JavaScript\", \"SQL\", \"Python\"], \"type\": \"bar\", \"uid\": \"461fd3e6-a439-419f-b5a6-971b0c0a152e\", \"xaxis\": \"x2\", \"yaxis\": \"y2\"}], {\"annotations\": [{\"font\": {\"size\": 16}, \"showarrow\": false, \"text\": \"On which Data Scientist worked with \", \"x\": 0.225, \"xanchor\": \"center\", \"xref\": \"paper\", \"y\": 1.0, \"yanchor\": \"bottom\", \"yref\": \"paper\"}, {\"font\": {\"size\": 16}, \"showarrow\": false, \"text\": \"On which Data Scientist want to work in over the next year\", \"x\": 0.775, \"xanchor\": \"center\", \"xref\": \"paper\", \"y\": 1.0, \"yanchor\": \"bottom\", \"yref\": \"paper\"}], \"xaxis\": {\"anchor\": \"y\", \"domain\": [0.0, 0.45]}, \"yaxis\": {\"anchor\": \"x\", \"domain\": [0.0, 1.0]}, \"xaxis2\": {\"anchor\": \"y2\", \"domain\": [0.55, 1.0]}, \"yaxis2\": {\"anchor\": \"x2\", \"domain\": [0.0, 1.0]}, \"height\": 500, \"width\": 1000, \"title\": \"Most popular languages for Data Scientist\"}, {\"showLink\": true, \"linkText\": \"Export to plot.ly\", \"plotlyServerURL\": \"https://plot.ly\"})});</script>"
      ],
      "text/vnd.plotly.v1+html": [
       "<div id=\"86f01351-3d50-4b4c-872a-3538cda38bfc\" style=\"height: 500px; width: 1000px;\" class=\"plotly-graph-div\"></div><script type=\"text/javascript\">require([\"plotly\"], function(Plotly) { window.PLOTLYENV=window.PLOTLYENV || {};window.PLOTLYENV.BASE_URL=\"https://plot.ly\";Plotly.newPlot(\"86f01351-3d50-4b4c-872a-3538cda38bfc\", [{\"orientation\": \"h\", \"x\": [385, 435, 518, 551, 629, 638, 724, 1148, 1340, 1517, 1874, 2036, 2189, 2736, 3101, 3139, 3295, 3422, 3501, 4597], \"y\": [\"Swift\", \"VBA\", \"Ruby\", \"Go\", \"TypeScript\", \"Assembly\", \"Scala\", \"Matlab\", \"PHP\", \"C#\", \"C\", \"R\", \"C++\", \"Java\", \"Bash/Shell\", \"CSS\", \"JavaScript\", \"HTML\", \"SQL\", \"Python\"], \"type\": \"bar\", \"uid\": \"ee850b0c-a718-4e95-ab78-7e97a8132e4b\", \"xaxis\": \"x\", \"yaxis\": \"y\"}, {\"orientation\": \"h\", \"x\": [513, 556, 577, 645, 711, 719, 722, 1051, 1076, 1111, 1300, 1580, 1624, 1739, 1746, 1853, 2118, 2186, 2273, 4156], \"y\": [\"Julia\", \"Swift\", \"PHP\", \"Haskell\", \"Rust\", \"Kotlin\", \"TypeScript\", \"Scala\", \"C#\", \"C\", \"Go\", \"Java\", \"CSS\", \"C++\", \"HTML\", \"R\", \"Bash/Shell\", \"JavaScript\", \"SQL\", \"Python\"], \"type\": \"bar\", \"uid\": \"461fd3e6-a439-419f-b5a6-971b0c0a152e\", \"xaxis\": \"x2\", \"yaxis\": \"y2\"}], {\"annotations\": [{\"font\": {\"size\": 16}, \"showarrow\": false, \"text\": \"On which Data Scientist worked with \", \"x\": 0.225, \"xanchor\": \"center\", \"xref\": \"paper\", \"y\": 1.0, \"yanchor\": \"bottom\", \"yref\": \"paper\"}, {\"font\": {\"size\": 16}, \"showarrow\": false, \"text\": \"On which Data Scientist want to work in over the next year\", \"x\": 0.775, \"xanchor\": \"center\", \"xref\": \"paper\", \"y\": 1.0, \"yanchor\": \"bottom\", \"yref\": \"paper\"}], \"xaxis\": {\"anchor\": \"y\", \"domain\": [0.0, 0.45]}, \"yaxis\": {\"anchor\": \"x\", \"domain\": [0.0, 1.0]}, \"xaxis2\": {\"anchor\": \"y2\", \"domain\": [0.55, 1.0]}, \"yaxis2\": {\"anchor\": \"x2\", \"domain\": [0.0, 1.0]}, \"height\": 500, \"width\": 1000, \"title\": \"Most popular languages for Data Scientist\"}, {\"showLink\": true, \"linkText\": \"Export to plot.ly\", \"plotlyServerURL\": \"https://plot.ly\"})});</script>"
      ]
     },
     "metadata": {},
     "output_type": "display_data"
    }
   ],
   "source": [
    "temp1 = split_column_value(stack_dm_data, 'LanguageWorkedWith')\n",
    "temp1 = temp1.value_counts().sort_values(ascending=False).head(20)\n",
    "temp2 = split_column_value(stack_dm_data,'LanguageDesireNextYear')\n",
    "temp2 = temp2.value_counts().sort_values(ascending=False).head(20)\n",
    "trace1 = go.Bar(\n",
    "    y=temp1.index[::-1],\n",
    "    x=temp1.values[::-1],\n",
    "    orientation = 'h',\n",
    "    #name = ''\n",
    ")\n",
    "trace2 = go.Bar(\n",
    "    y=temp2.index[::-1],\n",
    "    x=temp2.values[::-1],\n",
    "    orientation = 'h',\n",
    "    #name = ''\n",
    ")\n",
    "\n",
    "fig = tools.make_subplots(rows=1, cols=2, subplot_titles=('On which Data Scientist worked with ', 'On which Data Scientist want to work in over the next year'))\n",
    "                                                          \n",
    "\n",
    "fig.append_trace(trace1, 1, 1)\n",
    "fig.append_trace(trace2, 1, 2)\n",
    "fig['layout'].update(height=500, width=1000, title='Most popular languages for Data Scientist')\n",
    "iplot(fig, filename='simple-subplot')"
   ]
  },
  {
   "cell_type": "markdown",
   "metadata": {},
   "source": [
    "There are currently no data scientists using Julia, but next year by 513 data scientists would like to use it. It is gradually being valued"
   ]
  },
  {
   "cell_type": "markdown",
   "metadata": {},
   "source": [
    "### Data Scientst used most  Frameworks"
   ]
  },
  {
   "cell_type": "code",
   "execution_count": 24,
   "metadata": {},
   "outputs": [
    {
     "name": "stdout",
     "output_type": "stream",
     "text": [
      "This is the format of your plot grid:\n",
      "[ (1,1) x1,y1 ]  [ (1,2) x2,y2 ]\n",
      "\n"
     ]
    },
    {
     "data": {
      "application/vnd.plotly.v1+json": {
       "config": {
        "linkText": "Export to plot.ly",
        "plotlyServerURL": "https://plot.ly",
        "showLink": true
       },
       "data": [
        {
         "marker": {
          "color": [
           194,
           307,
           466,
           723,
           901,
           1025,
           1136,
           1249,
           1410,
           1470,
           1531,
           3174
          ],
          "colorscale": "Reds"
         },
         "orientation": "h",
         "type": "bar",
         "uid": "9f916afd-00f0-4a38-a41f-37fbbdd01f32",
         "x": [
          261,
          266,
          477,
          555,
          812,
          813,
          822,
          901,
          948,
          995,
          1610,
          1856
         ],
         "xaxis": "x",
         "y": [
          "Xamarin",
          "Cordova",
          "Torch/PyTorch",
          "Spring",
          "React",
          "Hadoop",
          ".NET Core",
          "Django",
          "Spark",
          "Angular",
          "Node.js",
          "TensorFlow"
         ],
         "yaxis": "y"
        },
        {
         "marker": {
          "color": [
           194,
           307,
           466,
           723,
           901,
           1025,
           1136,
           1249,
           1410,
           1470,
           1531,
           3174
          ],
          "colorscale": "Blues",
          "reversescale": true
         },
         "orientation": "h",
         "type": "bar",
         "uid": "0ac77372-1012-4778-95a9-81e8e5ad8c23",
         "x": [
          194,
          307,
          466,
          723,
          901,
          1025,
          1136,
          1249,
          1410,
          1470,
          1531,
          3174
         ],
         "xaxis": "x2",
         "y": [
          "Cordova",
          "Xamarin",
          "Spring",
          ".NET Core",
          "Angular",
          "Django",
          "React",
          "Hadoop",
          "Torch/PyTorch",
          "Spark",
          "Node.js",
          "TensorFlow"
         ],
         "yaxis": "y2"
        }
       ],
       "layout": {
        "annotations": [
         {
          "font": {
           "size": 16
          },
          "showarrow": false,
          "text": "On which developers worked with",
          "x": 0.225,
          "xanchor": "center",
          "xref": "paper",
          "y": 1,
          "yanchor": "bottom",
          "yref": "paper"
         },
         {
          "font": {
           "size": 16
          },
          "showarrow": false,
          "text": "On which developers want to work in over the next year",
          "x": 0.775,
          "xanchor": "center",
          "xref": "paper",
          "y": 1,
          "yanchor": "bottom",
          "yref": "paper"
         }
        ],
        "height": 500,
        "margin": {
         "l": 100
        },
        "title": "Most popular Frameworks (Data Scientist / Machine Learning Specialists)",
        "width": 1100,
        "xaxis": {
         "anchor": "y",
         "domain": [
          0,
          0.45
         ]
        },
        "xaxis2": {
         "anchor": "y2",
         "domain": [
          0.55,
          1
         ]
        },
        "yaxis": {
         "anchor": "x",
         "domain": [
          0,
          1
         ]
        },
        "yaxis2": {
         "anchor": "x2",
         "domain": [
          0,
          1
         ]
        }
       }
      },
      "text/html": [
       "<div id=\"313b5831-e31e-4f10-81f4-c3c1bf97a9ca\" style=\"height: 500px; width: 1100px;\" class=\"plotly-graph-div\"></div><script type=\"text/javascript\">require([\"plotly\"], function(Plotly) { window.PLOTLYENV=window.PLOTLYENV || {};window.PLOTLYENV.BASE_URL=\"https://plot.ly\";Plotly.newPlot(\"313b5831-e31e-4f10-81f4-c3c1bf97a9ca\", [{\"marker\": {\"color\": [194, 307, 466, 723, 901, 1025, 1136, 1249, 1410, 1470, 1531, 3174], \"colorscale\": \"Reds\"}, \"orientation\": \"h\", \"x\": [261, 266, 477, 555, 812, 813, 822, 901, 948, 995, 1610, 1856], \"y\": [\"Xamarin\", \"Cordova\", \"Torch/PyTorch\", \"Spring\", \"React\", \"Hadoop\", \".NET Core\", \"Django\", \"Spark\", \"Angular\", \"Node.js\", \"TensorFlow\"], \"type\": \"bar\", \"uid\": \"9f916afd-00f0-4a38-a41f-37fbbdd01f32\", \"xaxis\": \"x\", \"yaxis\": \"y\"}, {\"marker\": {\"color\": [194, 307, 466, 723, 901, 1025, 1136, 1249, 1410, 1470, 1531, 3174], \"colorscale\": \"Blues\", \"reversescale\": true}, \"orientation\": \"h\", \"x\": [194, 307, 466, 723, 901, 1025, 1136, 1249, 1410, 1470, 1531, 3174], \"y\": [\"Cordova\", \"Xamarin\", \"Spring\", \".NET Core\", \"Angular\", \"Django\", \"React\", \"Hadoop\", \"Torch/PyTorch\", \"Spark\", \"Node.js\", \"TensorFlow\"], \"type\": \"bar\", \"uid\": \"0ac77372-1012-4778-95a9-81e8e5ad8c23\", \"xaxis\": \"x2\", \"yaxis\": \"y2\"}], {\"annotations\": [{\"font\": {\"size\": 16}, \"showarrow\": false, \"text\": \"On which developers worked with\", \"x\": 0.225, \"xanchor\": \"center\", \"xref\": \"paper\", \"y\": 1.0, \"yanchor\": \"bottom\", \"yref\": \"paper\"}, {\"font\": {\"size\": 16}, \"showarrow\": false, \"text\": \"On which developers want to work in over the next year\", \"x\": 0.775, \"xanchor\": \"center\", \"xref\": \"paper\", \"y\": 1.0, \"yanchor\": \"bottom\", \"yref\": \"paper\"}], \"xaxis\": {\"anchor\": \"y\", \"domain\": [0.0, 0.45]}, \"yaxis\": {\"anchor\": \"x\", \"domain\": [0.0, 1.0]}, \"xaxis2\": {\"anchor\": \"y2\", \"domain\": [0.55, 1.0]}, \"yaxis2\": {\"anchor\": \"x2\", \"domain\": [0.0, 1.0]}, \"margin\": {\"l\": 100}, \"height\": 500, \"width\": 1100, \"title\": \"Most popular Frameworks (Data Scientist / Machine Learning Specialists)\"}, {\"showLink\": true, \"linkText\": \"Export to plot.ly\", \"plotlyServerURL\": \"https://plot.ly\"})});</script>"
      ],
      "text/vnd.plotly.v1+html": [
       "<div id=\"313b5831-e31e-4f10-81f4-c3c1bf97a9ca\" style=\"height: 500px; width: 1100px;\" class=\"plotly-graph-div\"></div><script type=\"text/javascript\">require([\"plotly\"], function(Plotly) { window.PLOTLYENV=window.PLOTLYENV || {};window.PLOTLYENV.BASE_URL=\"https://plot.ly\";Plotly.newPlot(\"313b5831-e31e-4f10-81f4-c3c1bf97a9ca\", [{\"marker\": {\"color\": [194, 307, 466, 723, 901, 1025, 1136, 1249, 1410, 1470, 1531, 3174], \"colorscale\": \"Reds\"}, \"orientation\": \"h\", \"x\": [261, 266, 477, 555, 812, 813, 822, 901, 948, 995, 1610, 1856], \"y\": [\"Xamarin\", \"Cordova\", \"Torch/PyTorch\", \"Spring\", \"React\", \"Hadoop\", \".NET Core\", \"Django\", \"Spark\", \"Angular\", \"Node.js\", \"TensorFlow\"], \"type\": \"bar\", \"uid\": \"9f916afd-00f0-4a38-a41f-37fbbdd01f32\", \"xaxis\": \"x\", \"yaxis\": \"y\"}, {\"marker\": {\"color\": [194, 307, 466, 723, 901, 1025, 1136, 1249, 1410, 1470, 1531, 3174], \"colorscale\": \"Blues\", \"reversescale\": true}, \"orientation\": \"h\", \"x\": [194, 307, 466, 723, 901, 1025, 1136, 1249, 1410, 1470, 1531, 3174], \"y\": [\"Cordova\", \"Xamarin\", \"Spring\", \".NET Core\", \"Angular\", \"Django\", \"React\", \"Hadoop\", \"Torch/PyTorch\", \"Spark\", \"Node.js\", \"TensorFlow\"], \"type\": \"bar\", \"uid\": \"0ac77372-1012-4778-95a9-81e8e5ad8c23\", \"xaxis\": \"x2\", \"yaxis\": \"y2\"}], {\"annotations\": [{\"font\": {\"size\": 16}, \"showarrow\": false, \"text\": \"On which developers worked with\", \"x\": 0.225, \"xanchor\": \"center\", \"xref\": \"paper\", \"y\": 1.0, \"yanchor\": \"bottom\", \"yref\": \"paper\"}, {\"font\": {\"size\": 16}, \"showarrow\": false, \"text\": \"On which developers want to work in over the next year\", \"x\": 0.775, \"xanchor\": \"center\", \"xref\": \"paper\", \"y\": 1.0, \"yanchor\": \"bottom\", \"yref\": \"paper\"}], \"xaxis\": {\"anchor\": \"y\", \"domain\": [0.0, 0.45]}, \"yaxis\": {\"anchor\": \"x\", \"domain\": [0.0, 1.0]}, \"xaxis2\": {\"anchor\": \"y2\", \"domain\": [0.55, 1.0]}, \"yaxis2\": {\"anchor\": \"x2\", \"domain\": [0.0, 1.0]}, \"margin\": {\"l\": 100}, \"height\": 500, \"width\": 1100, \"title\": \"Most popular Frameworks (Data Scientist / Machine Learning Specialists)\"}, {\"showLink\": true, \"linkText\": \"Export to plot.ly\", \"plotlyServerURL\": \"https://plot.ly\"})});</script>"
      ]
     },
     "metadata": {},
     "output_type": "display_data"
    }
   ],
   "source": [
    "# Plot the most popluar framworks\n",
    "temp1 = split_column_value(stack_dm_data,'FrameworkWorkedWith')\n",
    "temp1 = temp1.value_counts().sort_values(ascending=False).head(20)\n",
    "temp2 = split_column_value(stack_dm_data,'FrameworkDesireNextYear')\n",
    "temp2 = temp2.value_counts().sort_values(ascending=False).head(20)\n",
    "trace1 = go.Bar(\n",
    "    y=temp1.index[::-1],\n",
    "    x=temp1.values[::-1],\n",
    "    orientation = 'h',\n",
    "    marker=dict(\n",
    "        color=temp2.values[::-1],\n",
    "        colorscale = 'Reds'\n",
    "    )\n",
    ")\n",
    "trace2 = go.Bar(\n",
    "    y=temp2.index[::-1],\n",
    "    x=temp2.values[::-1],\n",
    "    orientation = 'h',\n",
    "    marker=dict(\n",
    "        color=temp2.values[::-1],\n",
    "        colorscale = 'Blues',\n",
    "        reversescale = True\n",
    "    ),\n",
    ")\n",
    "\n",
    "fig = tools.make_subplots(rows=1, cols=2, subplot_titles=('On which developers worked with', 'On which developers want to work in over the next year'))\n",
    "                                                          \n",
    "\n",
    "fig.append_trace(trace1, 1, 1)\n",
    "fig.append_trace(trace2, 1, 2)\n",
    "                          \n",
    "fig['layout'].update(height=500, width=1100, title='Most popular Frameworks (Data Scientist / Machine Learning Specialists)', margin=dict(l=100,))\n",
    "iplot(fig, filename='simple-subplot')"
   ]
  },
  {
   "cell_type": "markdown",
   "metadata": {
    "collapsed": true
   },
   "source": [
    "The framework most liked by data scientists is TensorFlow, followed by Spark, Torch/PyTorch. An interesting finding is that PyTorch is the fastest-growing framework. It uses the 10th position of the framework this year and the 4th place to use next year. \n"
   ]
  },
  {
   "cell_type": "code",
   "execution_count": 25,
   "metadata": {
    "scrolled": true
   },
   "outputs": [
    {
     "data": {
      "application/vnd.plotly.v1+json": {
       "config": {
        "linkText": "Export to plot.ly",
        "plotlyServerURL": "https://plot.ly",
        "showLink": true
       },
       "data": [
        {
         "marker": {
          "color": [
           "#FF3E96",
           "#00E5EE",
           "#FFF8DC",
           "#68228B",
           "#1E90FF",
           "#FFC125",
           "#FF6103",
           "#8EE5EE",
           "#458B00",
           "#FFF8DC"
          ],
          "colorscale": "Blues",
          "reversescale": true
         },
         "type": "bar",
         "uid": "d9da36dd-fd4b-422d-8bb6-2c0970858065",
         "x": [
          "0-2 years",
          "3-5 years",
          "6-8 years",
          "9-11 years",
          "12-14 years",
          "18-20 years",
          "15-17 years",
          "30 or more years",
          "21-23 years",
          "24-26 years",
          "27-29 years"
         ],
         "y": [
          33.62431800467654,
          28.480124707716293,
          13.28137178487919,
          7.716289945440375,
          4.536243180046765,
          3.38269680436477,
          3.3047544816835543,
          2.3538581449727203,
          1.6679657053780204,
          1.0756040530007793,
          0.5767731878409976
         ]
        }
       ],
       "layout": {
        "title": "For how many years have data scientist been coding (%) ",
        "xaxis": {
         "tickfont": {
          "color": "rgb(107, 107, 107)",
          "size": 11
         },
         "title": "Years"
        },
        "yaxis": {
         "tickfont": {
          "color": "rgb(107, 107, 107)",
          "size": 14
         },
         "title": "Count in %",
         "titlefont": {
          "color": "rgb(107, 107, 107)",
          "size": 16
         }
        }
       }
      },
      "text/html": [
       "<div id=\"94efeaca-731f-4bb1-aef9-314bddbcc321\" style=\"height: 525px; width: 100%;\" class=\"plotly-graph-div\"></div><script type=\"text/javascript\">require([\"plotly\"], function(Plotly) { window.PLOTLYENV=window.PLOTLYENV || {};window.PLOTLYENV.BASE_URL=\"https://plot.ly\";Plotly.newPlot(\"94efeaca-731f-4bb1-aef9-314bddbcc321\", [{\"marker\": {\"color\": [\"#FF3E96\", \"#00E5EE\", \"#FFF8DC\", \"#68228B\", \"#1E90FF\", \"#FFC125\", \"#FF6103\", \"#8EE5EE\", \"#458B00\", \"#FFF8DC\"], \"colorscale\": \"Blues\", \"reversescale\": true}, \"x\": [\"0-2 years\", \"3-5 years\", \"6-8 years\", \"9-11 years\", \"12-14 years\", \"18-20 years\", \"15-17 years\", \"30 or more years\", \"21-23 years\", \"24-26 years\", \"27-29 years\"], \"y\": [33.62431800467654, 28.480124707716293, 13.28137178487919, 7.716289945440375, 4.536243180046765, 3.38269680436477, 3.3047544816835543, 2.3538581449727203, 1.6679657053780204, 1.0756040530007793, 0.5767731878409976], \"type\": \"bar\", \"uid\": \"d9da36dd-fd4b-422d-8bb6-2c0970858065\"}], {\"title\": \"For how many years have data scientist been coding (%) \", \"xaxis\": {\"tickfont\": {\"color\": \"rgb(107, 107, 107)\", \"size\": 11}, \"title\": \"Years\"}, \"yaxis\": {\"tickfont\": {\"color\": \"rgb(107, 107, 107)\", \"size\": 14}, \"title\": \"Count in %\", \"titlefont\": {\"color\": \"rgb(107, 107, 107)\", \"size\": 16}}}, {\"showLink\": true, \"linkText\": \"Export to plot.ly\", \"plotlyServerURL\": \"https://plot.ly\"})});</script><script type=\"text/javascript\">window.addEventListener(\"resize\", function(){window._Plotly.Plots.resize(document.getElementById(\"94efeaca-731f-4bb1-aef9-314bddbcc321\"));});</script>"
      ],
      "text/vnd.plotly.v1+html": [
       "<div id=\"94efeaca-731f-4bb1-aef9-314bddbcc321\" style=\"height: 525px; width: 100%;\" class=\"plotly-graph-div\"></div><script type=\"text/javascript\">require([\"plotly\"], function(Plotly) { window.PLOTLYENV=window.PLOTLYENV || {};window.PLOTLYENV.BASE_URL=\"https://plot.ly\";Plotly.newPlot(\"94efeaca-731f-4bb1-aef9-314bddbcc321\", [{\"marker\": {\"color\": [\"#FF3E96\", \"#00E5EE\", \"#FFF8DC\", \"#68228B\", \"#1E90FF\", \"#FFC125\", \"#FF6103\", \"#8EE5EE\", \"#458B00\", \"#FFF8DC\"], \"colorscale\": \"Blues\", \"reversescale\": true}, \"x\": [\"0-2 years\", \"3-5 years\", \"6-8 years\", \"9-11 years\", \"12-14 years\", \"18-20 years\", \"15-17 years\", \"30 or more years\", \"21-23 years\", \"24-26 years\", \"27-29 years\"], \"y\": [33.62431800467654, 28.480124707716293, 13.28137178487919, 7.716289945440375, 4.536243180046765, 3.38269680436477, 3.3047544816835543, 2.3538581449727203, 1.6679657053780204, 1.0756040530007793, 0.5767731878409976], \"type\": \"bar\", \"uid\": \"d9da36dd-fd4b-422d-8bb6-2c0970858065\"}], {\"title\": \"For how many years have data scientist been coding (%) \", \"xaxis\": {\"tickfont\": {\"color\": \"rgb(107, 107, 107)\", \"size\": 11}, \"title\": \"Years\"}, \"yaxis\": {\"tickfont\": {\"color\": \"rgb(107, 107, 107)\", \"size\": 14}, \"title\": \"Count in %\", \"titlefont\": {\"color\": \"rgb(107, 107, 107)\", \"size\": 16}}}, {\"showLink\": true, \"linkText\": \"Export to plot.ly\", \"plotlyServerURL\": \"https://plot.ly\"})});</script><script type=\"text/javascript\">window.addEventListener(\"resize\", function(){window._Plotly.Plots.resize(document.getElementById(\"94efeaca-731f-4bb1-aef9-314bddbcc321\"));});</script>"
      ]
     },
     "metadata": {},
     "output_type": "display_data"
    }
   ],
   "source": [
    "# plot years of coding\n",
    "temp = stack_dm_data[\"YearsCodingProf\"].value_counts()\n",
    "trace = go.Bar(\n",
    "    x = temp.index,\n",
    "    y = (temp / temp.sum())*100,\n",
    "    marker=dict(\n",
    "        color=['#FF3E96','#00E5EE','#FFF8DC','#68228B','#1E90FF','#FFC125','#FF6103','#8EE5EE','#458B00','#FFF8DC'],\n",
    "        colorscale = 'Blues',\n",
    "        reversescale = True\n",
    "    ),\n",
    ")\n",
    "data = [trace]\n",
    "layout = go.Layout(\n",
    "    title = \"For how many years have data scientist been coding (%) \",\n",
    "    xaxis=dict(\n",
    "        title='Years',\n",
    "        tickfont=dict(\n",
    "            size=11,\n",
    "            color='rgb(107, 107, 107)'\n",
    "        )\n",
    "    ),\n",
    "    yaxis=dict(\n",
    "        title='Count in %',\n",
    "        titlefont=dict(\n",
    "            size=16,\n",
    "            color='rgb(107, 107, 107)'\n",
    "        ),\n",
    "        tickfont=dict(\n",
    "            size=14,\n",
    "            color='rgb(107, 107, 107)'\n",
    "        )\n",
    ")\n",
    ")\n",
    "fig = go.Figure(data=data, layout=layout)\n",
    "py.iplot(fig, filename='schoolStateNames')"
   ]
  },
  {
   "cell_type": "markdown",
   "metadata": {},
   "source": [
    "34% data scientist have been professionally codeing for 0-2 years \n",
    "28% data scientist have been professionally codeing for 3-5 years \n",
    "13% data scientist have been professionally codeing for 6-8 years \n",
    "Most data scientists, professionally writing code for no more than 5 years"
   ]
  },
  {
   "cell_type": "code",
   "execution_count": 26,
   "metadata": {},
   "outputs": [
    {
     "data": {
      "application/vnd.plotly.v1+json": {
       "config": {
        "linkText": "Export to plot.ly",
        "plotlyServerURL": "https://plot.ly",
        "showLink": true
       },
       "data": [
        {
         "mode": "lines",
         "name": "Hadoop",
         "type": "scatter",
         "uid": "e0f13804-a0d5-4c55-9754-fb7dea4e1c22",
         "x": [
          "0-2 years",
          "3-5 years",
          "6-8 years",
          "9-11 years",
          "12-14 years",
          "15-17 years",
          "18-20 years",
          "21-23 years",
          "24-26 years",
          "27-29 years",
          "30 or more years"
         ],
         "y": [
          45141.5,
          69726,
          86893.5,
          87811.5,
          99515,
          150000,
          157500,
          153701.5,
          86198.5,
          194500,
          161496
         ]
        },
        {
         "mode": "lines",
         "name": "Spark",
         "type": "scatter",
         "uid": "23a9c663-7672-4047-bfa3-e09d4b25365b",
         "x": [
          "0-2 years",
          "3-5 years",
          "6-8 years",
          "9-11 years",
          "12-14 years",
          "15-17 years",
          "18-20 years",
          "21-23 years",
          "24-26 years",
          "27-29 years",
          "30 or more years"
         ],
         "y": [
          47736,
          71000,
          88962.5,
          97268,
          117552.5,
          150000,
          150000,
          153701.5,
          114052,
          32811.5,
          172500
         ]
        },
        {
         "mode": "lines",
         "name": "TensorFlow",
         "type": "scatter",
         "uid": "a4daaa2b-997e-4df9-a5a7-e116028aa2ac",
         "x": [
          "0-2 years",
          "3-5 years",
          "6-8 years",
          "9-11 years",
          "12-14 years",
          "15-17 years",
          "18-20 years",
          "21-23 years",
          "24-26 years",
          "27-29 years",
          "30 or more years"
         ],
         "y": [
          32316,
          59990,
          79986.5,
          88314,
          91791,
          116534,
          111000,
          111709,
          129052,
          205000,
          120000
         ]
        },
        {
         "mode": "lines",
         "name": "Node.js",
         "type": "scatter",
         "uid": "ae4c05dd-8491-4bdd-a70d-e17b2d2e834d",
         "x": [
          "0-2 years",
          "3-5 years",
          "6-8 years",
          "9-11 years",
          "12-14 years",
          "15-17 years",
          "18-20 years",
          "21-23 years",
          "24-26 years",
          "27-29 years",
          "30 or more years"
         ],
         "y": [
          31386.5,
          45500,
          69024,
          75268.5,
          83973,
          99983.5,
          120000,
          100326,
          121452,
          152991,
          130000
         ]
        },
        {
         "mode": "lines",
         "name": "Torch/PyTorch",
         "type": "scatter",
         "uid": "38686257-c8ce-4bc3-8ba4-306205c114a1",
         "x": [
          "0-2 years",
          "3-5 years",
          "6-8 years",
          "9-11 years",
          "12-14 years",
          "15-17 years",
          "18-20 years",
          "21-23 years",
          "24-26 years",
          "27-29 years",
          "30 or more years"
         ],
         "y": [
          28178,
          48955,
          63000,
          69216.5,
          50400,
          90946,
          170000,
          112903,
          118104,
          231552,
          270895.5
         ]
        }
       ],
       "layout": {
        "title": "Frameworks V.S. years experience with Median Salary ($)",
        "xaxis": {
         "title": "Years experience (Developers coded professionally)"
        },
        "yaxis": {
         "title": "Median Salary ($)"
        }
       }
      },
      "text/html": [
       "<div id=\"650fe64b-322f-49ff-a74d-c976d68b2bb7\" style=\"height: 525px; width: 100%;\" class=\"plotly-graph-div\"></div><script type=\"text/javascript\">require([\"plotly\"], function(Plotly) { window.PLOTLYENV=window.PLOTLYENV || {};window.PLOTLYENV.BASE_URL=\"https://plot.ly\";Plotly.newPlot(\"650fe64b-322f-49ff-a74d-c976d68b2bb7\", [{\"mode\": \"lines\", \"name\": \"Hadoop\", \"x\": [\"0-2 years\", \"3-5 years\", \"6-8 years\", \"9-11 years\", \"12-14 years\", \"15-17 years\", \"18-20 years\", \"21-23 years\", \"24-26 years\", \"27-29 years\", \"30 or more years\"], \"y\": [45141.5, 69726.0, 86893.5, 87811.5, 99515.0, 150000.0, 157500.0, 153701.5, 86198.5, 194500.0, 161496.0], \"type\": \"scatter\", \"uid\": \"9f2b385c-fc30-43d1-9ef1-3ec109411c19\"}, {\"mode\": \"lines\", \"name\": \"Spark\", \"x\": [\"0-2 years\", \"3-5 years\", \"6-8 years\", \"9-11 years\", \"12-14 years\", \"15-17 years\", \"18-20 years\", \"21-23 years\", \"24-26 years\", \"27-29 years\", \"30 or more years\"], \"y\": [47736.0, 71000.0, 88962.5, 97268.0, 117552.5, 150000.0, 150000.0, 153701.5, 114052.0, 32811.5, 172500.0], \"type\": \"scatter\", \"uid\": \"ac9285ad-44df-4a35-bd94-6c1727c110cc\"}, {\"mode\": \"lines\", \"name\": \"TensorFlow\", \"x\": [\"0-2 years\", \"3-5 years\", \"6-8 years\", \"9-11 years\", \"12-14 years\", \"15-17 years\", \"18-20 years\", \"21-23 years\", \"24-26 years\", \"27-29 years\", \"30 or more years\"], \"y\": [32316.0, 59990.0, 79986.5, 88314.0, 91791.0, 116534.0, 111000.0, 111709.0, 129052.0, 205000.0, 120000.0], \"type\": \"scatter\", \"uid\": \"b721bc9f-090c-48b2-840b-09de1256cdee\"}, {\"mode\": \"lines\", \"name\": \"Node.js\", \"x\": [\"0-2 years\", \"3-5 years\", \"6-8 years\", \"9-11 years\", \"12-14 years\", \"15-17 years\", \"18-20 years\", \"21-23 years\", \"24-26 years\", \"27-29 years\", \"30 or more years\"], \"y\": [31386.5, 45500.0, 69024.0, 75268.5, 83973.0, 99983.5, 120000.0, 100326.0, 121452.0, 152991.0, 130000.0], \"type\": \"scatter\", \"uid\": \"9d807338-37c3-41e6-9b6f-9cf3504af032\"}, {\"mode\": \"lines\", \"name\": \"Torch/PyTorch\", \"x\": [\"0-2 years\", \"3-5 years\", \"6-8 years\", \"9-11 years\", \"12-14 years\", \"15-17 years\", \"18-20 years\", \"21-23 years\", \"24-26 years\", \"27-29 years\", \"30 or more years\"], \"y\": [28178.0, 48955.0, 63000.0, 69216.5, 50400.0, 90946.0, 170000.0, 112903.0, 118104.0, 231552.0, 270895.5], \"type\": \"scatter\", \"uid\": \"e0a086a9-360d-4a68-bd3c-3c6949d688cd\"}], {\"title\": \"Frameworks V.S. years experience with Median Salary ($)\", \"xaxis\": {\"title\": \"Years experience (Developers coded professionally)\"}, \"yaxis\": {\"title\": \"Median Salary ($)\"}}, {\"showLink\": true, \"linkText\": \"Export to plot.ly\", \"plotlyServerURL\": \"https://plot.ly\"})});</script><script type=\"text/javascript\">window.addEventListener(\"resize\", function(){window._Plotly.Plots.resize(document.getElementById(\"650fe64b-322f-49ff-a74d-c976d68b2bb7\"));});</script>"
      ],
      "text/vnd.plotly.v1+html": [
       "<div id=\"650fe64b-322f-49ff-a74d-c976d68b2bb7\" style=\"height: 525px; width: 100%;\" class=\"plotly-graph-div\"></div><script type=\"text/javascript\">require([\"plotly\"], function(Plotly) { window.PLOTLYENV=window.PLOTLYENV || {};window.PLOTLYENV.BASE_URL=\"https://plot.ly\";Plotly.newPlot(\"650fe64b-322f-49ff-a74d-c976d68b2bb7\", [{\"mode\": \"lines\", \"name\": \"Hadoop\", \"x\": [\"0-2 years\", \"3-5 years\", \"6-8 years\", \"9-11 years\", \"12-14 years\", \"15-17 years\", \"18-20 years\", \"21-23 years\", \"24-26 years\", \"27-29 years\", \"30 or more years\"], \"y\": [45141.5, 69726.0, 86893.5, 87811.5, 99515.0, 150000.0, 157500.0, 153701.5, 86198.5, 194500.0, 161496.0], \"type\": \"scatter\", \"uid\": \"9f2b385c-fc30-43d1-9ef1-3ec109411c19\"}, {\"mode\": \"lines\", \"name\": \"Spark\", \"x\": [\"0-2 years\", \"3-5 years\", \"6-8 years\", \"9-11 years\", \"12-14 years\", \"15-17 years\", \"18-20 years\", \"21-23 years\", \"24-26 years\", \"27-29 years\", \"30 or more years\"], \"y\": [47736.0, 71000.0, 88962.5, 97268.0, 117552.5, 150000.0, 150000.0, 153701.5, 114052.0, 32811.5, 172500.0], \"type\": \"scatter\", \"uid\": \"ac9285ad-44df-4a35-bd94-6c1727c110cc\"}, {\"mode\": \"lines\", \"name\": \"TensorFlow\", \"x\": [\"0-2 years\", \"3-5 years\", \"6-8 years\", \"9-11 years\", \"12-14 years\", \"15-17 years\", \"18-20 years\", \"21-23 years\", \"24-26 years\", \"27-29 years\", \"30 or more years\"], \"y\": [32316.0, 59990.0, 79986.5, 88314.0, 91791.0, 116534.0, 111000.0, 111709.0, 129052.0, 205000.0, 120000.0], \"type\": \"scatter\", \"uid\": \"b721bc9f-090c-48b2-840b-09de1256cdee\"}, {\"mode\": \"lines\", \"name\": \"Node.js\", \"x\": [\"0-2 years\", \"3-5 years\", \"6-8 years\", \"9-11 years\", \"12-14 years\", \"15-17 years\", \"18-20 years\", \"21-23 years\", \"24-26 years\", \"27-29 years\", \"30 or more years\"], \"y\": [31386.5, 45500.0, 69024.0, 75268.5, 83973.0, 99983.5, 120000.0, 100326.0, 121452.0, 152991.0, 130000.0], \"type\": \"scatter\", \"uid\": \"9d807338-37c3-41e6-9b6f-9cf3504af032\"}, {\"mode\": \"lines\", \"name\": \"Torch/PyTorch\", \"x\": [\"0-2 years\", \"3-5 years\", \"6-8 years\", \"9-11 years\", \"12-14 years\", \"15-17 years\", \"18-20 years\", \"21-23 years\", \"24-26 years\", \"27-29 years\", \"30 or more years\"], \"y\": [28178.0, 48955.0, 63000.0, 69216.5, 50400.0, 90946.0, 170000.0, 112903.0, 118104.0, 231552.0, 270895.5], \"type\": \"scatter\", \"uid\": \"e0a086a9-360d-4a68-bd3c-3c6949d688cd\"}], {\"title\": \"Frameworks V.S. years experience with Median Salary ($)\", \"xaxis\": {\"title\": \"Years experience (Developers coded professionally)\"}, \"yaxis\": {\"title\": \"Median Salary ($)\"}}, {\"showLink\": true, \"linkText\": \"Export to plot.ly\", \"plotlyServerURL\": \"https://plot.ly\"})});</script><script type=\"text/javascript\">window.addEventListener(\"resize\", function(){window._Plotly.Plots.resize(document.getElementById(\"650fe64b-322f-49ff-a74d-c976d68b2bb7\"));});</script>"
      ]
     },
     "metadata": {},
     "output_type": "display_data"
    }
   ],
   "source": [
    "#plot farmework vs year exerience with median salary\n",
    "df = stack_dm_data.set_index(['YearsCodingProf','ConvertedSalary']).FrameworkWorkedWith.str.split(';', expand=True).stack().reset_index(['YearsCodingProf','ConvertedSalary'])\n",
    "df.columns = ['YearsCodingProf','Salary','Framework']\n",
    "df['YearsCodingProf'] = df['YearsCodingProf'].astype('category')\n",
    "df['YearsCodingProf'].cat.reorder_categories(['0-2 years','3-5 years','6-8 years', '9-11 years', '12-14 years', '15-17 years', '18-20 years', \n",
    "                                            '21-23 years',  '24-26 years','27-29 years', '30 or more years'], inplace=True)\n",
    "gndr = [ 'Hadoop', 'Spark', 'TensorFlow', 'Node.js','Torch/PyTorch']\n",
    "fig = {\n",
    "    'data': [\n",
    "        {\n",
    "            'x': df[df['Framework']==gr].groupby('YearsCodingProf').agg({'Salary' : 'median'}).sort_values(by = 'YearsCodingProf').reset_index()['YearsCodingProf'],\n",
    "            'y': df[df['Framework']==gr].groupby('YearsCodingProf').agg({'Salary' : 'median'}).sort_values(by = 'YearsCodingProf').reset_index()['Salary'],\n",
    "            'name': gr, 'mode': 'lines',\n",
    "        } for gr in gndr\n",
    "    ],\n",
    "    'layout': {\n",
    "        'title' : 'Frameworks V.S. years experience with Median Salary ($)',\n",
    "        'xaxis': {'title': 'Years experience (Developers coded professionally)'},\n",
    "        'yaxis': {'title': \"Median Salary ($)\"}\n",
    "    }\n",
    "}\n",
    "py.iplot(fig)"
   ]
  },
  {
   "cell_type": "markdown",
   "metadata": {},
   "source": [
    "Experienced data scientists, using pythorch, and making more money"
   ]
  },
  {
   "cell_type": "code",
   "execution_count": 27,
   "metadata": {},
   "outputs": [
    {
     "data": {
      "application/vnd.plotly.v1+json": {
       "config": {
        "linkText": "Export to plot.ly",
        "plotlyServerURL": "https://plot.ly",
        "showLink": true
       },
       "data": [
        {
         "marker": {
          "color": [
           "gray",
           "gray",
           "gray",
           "gray",
           "red",
           "gray",
           "gray",
           "gray",
           "gray",
           "gray",
           "gray",
           "gray",
           "gray",
           "gray",
           "gray",
           "gray",
           "gray",
           "gray",
           "gray",
           "blue"
          ]
         },
         "orientation": "h",
         "text": [
          65,
          74,
          76,
          79,
          80,
          85,
          104,
          121,
          130,
          131,
          131,
          140,
          174,
          183,
          220,
          247,
          431,
          520,
          799,
          1754
         ],
         "textposition": "auto",
         "type": "bar",
         "uid": "f11e72b1-81b6-4317-975d-a60d437ce7fa",
         "x": [
          65,
          74,
          76,
          79,
          80,
          85,
          104,
          121,
          130,
          131,
          131,
          140,
          174,
          183,
          220,
          247,
          431,
          520,
          799,
          1754
         ],
         "y": [
          "Ukraine",
          "Turkey",
          "Iran, Islamic Republic of...",
          "Israel",
          "China",
          "Sweden",
          "Switzerland",
          "Poland",
          "Italy",
          "Australia",
          "Spain",
          "Netherlands",
          "Brazil",
          "Russian Federation",
          "France",
          "Canada",
          "United Kingdom",
          "Germany",
          "India",
          "United States"
         ]
        }
       ],
       "layout": {
        "title": "How many data scientists are there in these countries? "
       }
      },
      "text/html": [
       "<div id=\"82703b54-4733-4b47-9ab1-e5b6c7b88a92\" style=\"height: 525px; width: 100%;\" class=\"plotly-graph-div\"></div><script type=\"text/javascript\">require([\"plotly\"], function(Plotly) { window.PLOTLYENV=window.PLOTLYENV || {};window.PLOTLYENV.BASE_URL=\"https://plot.ly\";Plotly.newPlot(\"82703b54-4733-4b47-9ab1-e5b6c7b88a92\", [{\"marker\": {\"color\": [\"gray\", \"gray\", \"gray\", \"gray\", \"red\", \"gray\", \"gray\", \"gray\", \"gray\", \"gray\", \"gray\", \"gray\", \"gray\", \"gray\", \"gray\", \"gray\", \"gray\", \"gray\", \"gray\", \"blue\"]}, \"orientation\": \"h\", \"text\": [65.0, 74.0, 76.0, 79.0, 80.0, 85.0, 104.0, 121.0, 130.0, 131.0, 131.0, 140.0, 174.0, 183.0, 220.0, 247.0, 431.0, 520.0, 799.0, 1754.0], \"textposition\": \"auto\", \"x\": [65, 74, 76, 79, 80, 85, 104, 121, 130, 131, 131, 140, 174, 183, 220, 247, 431, 520, 799, 1754], \"y\": [\"Ukraine\", \"Turkey\", \"Iran, Islamic Republic of...\", \"Israel\", \"China\", \"Sweden\", \"Switzerland\", \"Poland\", \"Italy\", \"Australia\", \"Spain\", \"Netherlands\", \"Brazil\", \"Russian Federation\", \"France\", \"Canada\", \"United Kingdom\", \"Germany\", \"India\", \"United States\"], \"type\": \"bar\", \"uid\": \"f11e72b1-81b6-4317-975d-a60d437ce7fa\"}], {\"title\": \"How many data scientists are there in these countries? \"}, {\"showLink\": true, \"linkText\": \"Export to plot.ly\", \"plotlyServerURL\": \"https://plot.ly\"})});</script><script type=\"text/javascript\">window.addEventListener(\"resize\", function(){window._Plotly.Plots.resize(document.getElementById(\"82703b54-4733-4b47-9ab1-e5b6c7b88a92\"));});</script>"
      ],
      "text/vnd.plotly.v1+html": [
       "<div id=\"82703b54-4733-4b47-9ab1-e5b6c7b88a92\" style=\"height: 525px; width: 100%;\" class=\"plotly-graph-div\"></div><script type=\"text/javascript\">require([\"plotly\"], function(Plotly) { window.PLOTLYENV=window.PLOTLYENV || {};window.PLOTLYENV.BASE_URL=\"https://plot.ly\";Plotly.newPlot(\"82703b54-4733-4b47-9ab1-e5b6c7b88a92\", [{\"marker\": {\"color\": [\"gray\", \"gray\", \"gray\", \"gray\", \"red\", \"gray\", \"gray\", \"gray\", \"gray\", \"gray\", \"gray\", \"gray\", \"gray\", \"gray\", \"gray\", \"gray\", \"gray\", \"gray\", \"gray\", \"blue\"]}, \"orientation\": \"h\", \"text\": [65.0, 74.0, 76.0, 79.0, 80.0, 85.0, 104.0, 121.0, 130.0, 131.0, 131.0, 140.0, 174.0, 183.0, 220.0, 247.0, 431.0, 520.0, 799.0, 1754.0], \"textposition\": \"auto\", \"x\": [65, 74, 76, 79, 80, 85, 104, 121, 130, 131, 131, 140, 174, 183, 220, 247, 431, 520, 799, 1754], \"y\": [\"Ukraine\", \"Turkey\", \"Iran, Islamic Republic of...\", \"Israel\", \"China\", \"Sweden\", \"Switzerland\", \"Poland\", \"Italy\", \"Australia\", \"Spain\", \"Netherlands\", \"Brazil\", \"Russian Federation\", \"France\", \"Canada\", \"United Kingdom\", \"Germany\", \"India\", \"United States\"], \"type\": \"bar\", \"uid\": \"f11e72b1-81b6-4317-975d-a60d437ce7fa\"}], {\"title\": \"How many data scientists are there in these countries? \"}, {\"showLink\": true, \"linkText\": \"Export to plot.ly\", \"plotlyServerURL\": \"https://plot.ly\"})});</script><script type=\"text/javascript\">window.addEventListener(\"resize\", function(){window._Plotly.Plots.resize(document.getElementById(\"82703b54-4733-4b47-9ab1-e5b6c7b88a92\"));});</script>"
      ]
     },
     "metadata": {},
     "output_type": "display_data"
    }
   ],
   "source": [
    "#plot geographical division\n",
    "temp = stack_dm_data[\"Country\"].dropna().value_counts().head(20)\n",
    "colors = []\n",
    "for i in temp.index[::-1]:\n",
    "    c = 'gray'\n",
    "    if i == 'China':\n",
    "        c = 'red'\n",
    "    if i == \"United States\":\n",
    "        c = 'blue'\n",
    "    colors.append(c)\n",
    "data = [go.Bar(\n",
    "    y = temp.index[::-1],\n",
    "    x = temp.values[::-1],\n",
    "    text=temp.values[::-1],\n",
    "    textposition = 'auto',\n",
    "    orientation = 'h',\n",
    "    marker = dict(\n",
    "        color = colors\n",
    "    ))  \n",
    "    ]\n",
    "layout = go.Layout(\n",
    "    title = \"How many data scientists are there in these countries? \"\n",
    ")\n",
    "fig = go.Figure(data=data, layout=layout)\n",
    "\n",
    "py.iplot(fig,filename='Country-bar')\n",
    "        "
   ]
  },
  {
   "cell_type": "markdown",
   "metadata": {},
   "source": [
    "In China, where I live, there are 80 data scientists, and the United States has the largest number of data scientists, a total of 1,754, 22 times that of China."
   ]
  },
  {
   "cell_type": "code",
   "execution_count": null,
   "metadata": {
    "collapsed": true
   },
   "outputs": [],
   "source": []
  }
 ],
 "metadata": {
  "kernelspec": {
   "display_name": "Python 3",
   "language": "python",
   "name": "python3"
  },
  "language_info": {
   "codemirror_mode": {
    "name": "ipython",
    "version": 3
   },
   "file_extension": ".py",
   "mimetype": "text/x-python",
   "name": "python",
   "nbconvert_exporter": "python",
   "pygments_lexer": "ipython3",
   "version": "3.7.1"
  }
 },
 "nbformat": 4,
 "nbformat_minor": 2
}
