{
 "cells": [
  {
   "cell_type": "code",
   "execution_count": 26,
   "metadata": {},
   "outputs": [],
   "source": [
    "# import\n",
    "import numpy as np\n",
    "import pandas as pd\n",
    "import matplotlib.pyplot as plt\n",
    "from IPython import display\n",
    "%matplotlib inline\n",
    "from collections import defaultdict\n"
   ]
  },
  {
   "cell_type": "code",
   "execution_count": 27,
   "metadata": {},
   "outputs": [],
   "source": [
    "# read the dataset\n",
    "df = pd.read_csv('survey_results_public.csv')\n",
    "\n",
    "df_schema = pd.read_csv('survey_results_schema.csv')"
   ]
  },
  {
   "cell_type": "markdown",
   "metadata": {},
   "source": [
    "# Exploring the Dataset"
   ]
  },
  {
   "cell_type": "code",
   "execution_count": 28,
   "metadata": {},
   "outputs": [
    {
     "data": {
      "text/plain": [
       "(51392, 154)"
      ]
     },
     "execution_count": 28,
     "metadata": {},
     "output_type": "execute_result"
    }
   ],
   "source": [
    "df.shape"
   ]
  },
  {
   "cell_type": "code",
   "execution_count": 29,
   "metadata": {},
   "outputs": [
    {
     "data": {
      "text/html": [
       "<div>\n",
       "<style scoped>\n",
       "    .dataframe tbody tr th:only-of-type {\n",
       "        vertical-align: middle;\n",
       "    }\n",
       "\n",
       "    .dataframe tbody tr th {\n",
       "        vertical-align: top;\n",
       "    }\n",
       "\n",
       "    .dataframe thead th {\n",
       "        text-align: right;\n",
       "    }\n",
       "</style>\n",
       "<table border=\"1\" class=\"dataframe\">\n",
       "  <thead>\n",
       "    <tr style=\"text-align: right;\">\n",
       "      <th></th>\n",
       "      <th>Respondent</th>\n",
       "      <th>Professional</th>\n",
       "      <th>ProgramHobby</th>\n",
       "      <th>Country</th>\n",
       "      <th>University</th>\n",
       "      <th>EmploymentStatus</th>\n",
       "      <th>FormalEducation</th>\n",
       "      <th>MajorUndergrad</th>\n",
       "      <th>HomeRemote</th>\n",
       "      <th>CompanySize</th>\n",
       "      <th>...</th>\n",
       "      <th>StackOverflowMakeMoney</th>\n",
       "      <th>Gender</th>\n",
       "      <th>HighestEducationParents</th>\n",
       "      <th>Race</th>\n",
       "      <th>SurveyLong</th>\n",
       "      <th>QuestionsInteresting</th>\n",
       "      <th>QuestionsConfusing</th>\n",
       "      <th>InterestedAnswers</th>\n",
       "      <th>Salary</th>\n",
       "      <th>ExpectedSalary</th>\n",
       "    </tr>\n",
       "  </thead>\n",
       "  <tbody>\n",
       "    <tr>\n",
       "      <th>0</th>\n",
       "      <td>1</td>\n",
       "      <td>Student</td>\n",
       "      <td>Yes, both</td>\n",
       "      <td>United States</td>\n",
       "      <td>No</td>\n",
       "      <td>Not employed, and not looking for work</td>\n",
       "      <td>Secondary school</td>\n",
       "      <td>NaN</td>\n",
       "      <td>NaN</td>\n",
       "      <td>NaN</td>\n",
       "      <td>...</td>\n",
       "      <td>Strongly disagree</td>\n",
       "      <td>Male</td>\n",
       "      <td>High school</td>\n",
       "      <td>White or of European descent</td>\n",
       "      <td>Strongly disagree</td>\n",
       "      <td>Strongly agree</td>\n",
       "      <td>Disagree</td>\n",
       "      <td>Strongly agree</td>\n",
       "      <td>NaN</td>\n",
       "      <td>NaN</td>\n",
       "    </tr>\n",
       "    <tr>\n",
       "      <th>1</th>\n",
       "      <td>2</td>\n",
       "      <td>Student</td>\n",
       "      <td>Yes, both</td>\n",
       "      <td>United Kingdom</td>\n",
       "      <td>Yes, full-time</td>\n",
       "      <td>Employed part-time</td>\n",
       "      <td>Some college/university study without earning ...</td>\n",
       "      <td>Computer science or software engineering</td>\n",
       "      <td>More than half, but not all, the time</td>\n",
       "      <td>20 to 99 employees</td>\n",
       "      <td>...</td>\n",
       "      <td>Strongly disagree</td>\n",
       "      <td>Male</td>\n",
       "      <td>A master's degree</td>\n",
       "      <td>White or of European descent</td>\n",
       "      <td>Somewhat agree</td>\n",
       "      <td>Somewhat agree</td>\n",
       "      <td>Disagree</td>\n",
       "      <td>Strongly agree</td>\n",
       "      <td>NaN</td>\n",
       "      <td>37500.0</td>\n",
       "    </tr>\n",
       "    <tr>\n",
       "      <th>2</th>\n",
       "      <td>3</td>\n",
       "      <td>Professional developer</td>\n",
       "      <td>Yes, both</td>\n",
       "      <td>United Kingdom</td>\n",
       "      <td>No</td>\n",
       "      <td>Employed full-time</td>\n",
       "      <td>Bachelor's degree</td>\n",
       "      <td>Computer science or software engineering</td>\n",
       "      <td>Less than half the time, but at least one day ...</td>\n",
       "      <td>10,000 or more employees</td>\n",
       "      <td>...</td>\n",
       "      <td>Disagree</td>\n",
       "      <td>Male</td>\n",
       "      <td>A professional degree</td>\n",
       "      <td>White or of European descent</td>\n",
       "      <td>Somewhat agree</td>\n",
       "      <td>Agree</td>\n",
       "      <td>Disagree</td>\n",
       "      <td>Agree</td>\n",
       "      <td>113750.0</td>\n",
       "      <td>NaN</td>\n",
       "    </tr>\n",
       "    <tr>\n",
       "      <th>3</th>\n",
       "      <td>4</td>\n",
       "      <td>Professional non-developer who sometimes write...</td>\n",
       "      <td>Yes, both</td>\n",
       "      <td>United States</td>\n",
       "      <td>No</td>\n",
       "      <td>Employed full-time</td>\n",
       "      <td>Doctoral degree</td>\n",
       "      <td>A non-computer-focused engineering discipline</td>\n",
       "      <td>Less than half the time, but at least one day ...</td>\n",
       "      <td>10,000 or more employees</td>\n",
       "      <td>...</td>\n",
       "      <td>Disagree</td>\n",
       "      <td>Male</td>\n",
       "      <td>A doctoral degree</td>\n",
       "      <td>White or of European descent</td>\n",
       "      <td>Agree</td>\n",
       "      <td>Agree</td>\n",
       "      <td>Somewhat agree</td>\n",
       "      <td>Strongly agree</td>\n",
       "      <td>NaN</td>\n",
       "      <td>NaN</td>\n",
       "    </tr>\n",
       "    <tr>\n",
       "      <th>4</th>\n",
       "      <td>5</td>\n",
       "      <td>Professional developer</td>\n",
       "      <td>Yes, I program as a hobby</td>\n",
       "      <td>Switzerland</td>\n",
       "      <td>No</td>\n",
       "      <td>Employed full-time</td>\n",
       "      <td>Master's degree</td>\n",
       "      <td>Computer science or software engineering</td>\n",
       "      <td>Never</td>\n",
       "      <td>10 to 19 employees</td>\n",
       "      <td>...</td>\n",
       "      <td>NaN</td>\n",
       "      <td>NaN</td>\n",
       "      <td>NaN</td>\n",
       "      <td>NaN</td>\n",
       "      <td>NaN</td>\n",
       "      <td>NaN</td>\n",
       "      <td>NaN</td>\n",
       "      <td>NaN</td>\n",
       "      <td>NaN</td>\n",
       "      <td>NaN</td>\n",
       "    </tr>\n",
       "  </tbody>\n",
       "</table>\n",
       "<p>5 rows × 154 columns</p>\n",
       "</div>"
      ],
      "text/plain": [
       "   Respondent                                       Professional  \\\n",
       "0           1                                            Student   \n",
       "1           2                                            Student   \n",
       "2           3                             Professional developer   \n",
       "3           4  Professional non-developer who sometimes write...   \n",
       "4           5                             Professional developer   \n",
       "\n",
       "                ProgramHobby         Country      University  \\\n",
       "0                  Yes, both   United States              No   \n",
       "1                  Yes, both  United Kingdom  Yes, full-time   \n",
       "2                  Yes, both  United Kingdom              No   \n",
       "3                  Yes, both   United States              No   \n",
       "4  Yes, I program as a hobby     Switzerland              No   \n",
       "\n",
       "                         EmploymentStatus  \\\n",
       "0  Not employed, and not looking for work   \n",
       "1                      Employed part-time   \n",
       "2                      Employed full-time   \n",
       "3                      Employed full-time   \n",
       "4                      Employed full-time   \n",
       "\n",
       "                                     FormalEducation  \\\n",
       "0                                   Secondary school   \n",
       "1  Some college/university study without earning ...   \n",
       "2                                  Bachelor's degree   \n",
       "3                                    Doctoral degree   \n",
       "4                                    Master's degree   \n",
       "\n",
       "                                  MajorUndergrad  \\\n",
       "0                                            NaN   \n",
       "1       Computer science or software engineering   \n",
       "2       Computer science or software engineering   \n",
       "3  A non-computer-focused engineering discipline   \n",
       "4       Computer science or software engineering   \n",
       "\n",
       "                                          HomeRemote  \\\n",
       "0                                                NaN   \n",
       "1              More than half, but not all, the time   \n",
       "2  Less than half the time, but at least one day ...   \n",
       "3  Less than half the time, but at least one day ...   \n",
       "4                                              Never   \n",
       "\n",
       "                CompanySize       ...       StackOverflowMakeMoney Gender  \\\n",
       "0                       NaN       ...            Strongly disagree   Male   \n",
       "1        20 to 99 employees       ...            Strongly disagree   Male   \n",
       "2  10,000 or more employees       ...                     Disagree   Male   \n",
       "3  10,000 or more employees       ...                     Disagree   Male   \n",
       "4        10 to 19 employees       ...                          NaN    NaN   \n",
       "\n",
       "  HighestEducationParents                          Race         SurveyLong  \\\n",
       "0             High school  White or of European descent  Strongly disagree   \n",
       "1       A master's degree  White or of European descent     Somewhat agree   \n",
       "2   A professional degree  White or of European descent     Somewhat agree   \n",
       "3       A doctoral degree  White or of European descent              Agree   \n",
       "4                     NaN                           NaN                NaN   \n",
       "\n",
       "  QuestionsInteresting QuestionsConfusing InterestedAnswers    Salary  \\\n",
       "0       Strongly agree           Disagree    Strongly agree       NaN   \n",
       "1       Somewhat agree           Disagree    Strongly agree       NaN   \n",
       "2                Agree           Disagree             Agree  113750.0   \n",
       "3                Agree     Somewhat agree    Strongly agree       NaN   \n",
       "4                  NaN                NaN               NaN       NaN   \n",
       "\n",
       "   ExpectedSalary  \n",
       "0             NaN  \n",
       "1         37500.0  \n",
       "2             NaN  \n",
       "3             NaN  \n",
       "4             NaN  \n",
       "\n",
       "[5 rows x 154 columns]"
      ]
     },
     "execution_count": 29,
     "metadata": {},
     "output_type": "execute_result"
    }
   ],
   "source": [
    "df.head()"
   ]
  },
  {
   "cell_type": "code",
   "execution_count": 30,
   "metadata": {},
   "outputs": [
    {
     "data": {
      "text/plain": [
       "Respondent                       0\n",
       "Professional                     0\n",
       "ProgramHobby                     0\n",
       "Country                          0\n",
       "University                       0\n",
       "EmploymentStatus                 0\n",
       "FormalEducation                  0\n",
       "YearsProgram                   247\n",
       "PronounceGIF                   384\n",
       "HomeRemote                    7384\n",
       "MajorUndergrad                8551\n",
       "CareerSatisfaction            8697\n",
       "ClickyKeys                    9346\n",
       "YearsCodedJob                10502\n",
       "JobSatisfaction              11016\n",
       "CompanySize                  12470\n",
       "TabsSpaces                   12541\n",
       "CompanyType                  12569\n",
       "StackOverflowDescribes       14460\n",
       "WorkStart                    14696\n",
       "HaveWorkedLanguage           14767\n",
       "StackOverflowSatisfaction    14800\n",
       "AuditoryEnvironment          14935\n",
       "DeveloperType                15267\n",
       "IDE                          15562\n",
       "StackOverflowDevices         16189\n",
       "Gender                       16345\n",
       "HighestEducationParents      16454\n",
       "SurveyLong                   16672\n",
       "InterestedAnswers            16780\n",
       "                             ...  \n",
       "InfluenceHardware            29733\n",
       "InfluenceWorkstation         29734\n",
       "InfluenceDatabase            29776\n",
       "InfluenceVizTools            29779\n",
       "InfluenceTechStack           29791\n",
       "InfluenceCloud               29797\n",
       "InfluenceDeptTech            29799\n",
       "InfluenceRecruitment         29806\n",
       "InfluenceServers             29808\n",
       "InfluenceCommunication       29814\n",
       "InfluenceConsultants         29847\n",
       "Currency                     29984\n",
       "HoursPerWeek                 30792\n",
       "HaveWorkedFramework          31163\n",
       "Overpaid                     38005\n",
       "Salary                       38501\n",
       "WebDeveloperType             40696\n",
       "NonDeveloperType             46502\n",
       "TimeAfterBootcamp            48790\n",
       "ExpectedSalary               48826\n",
       "MobileDeveloperType          49839\n",
       "YearsCodedJobPast            50418\n",
       "ExCoderSkills                50457\n",
       "ExCoderActive                50462\n",
       "ExCoderBelonged              50464\n",
       "ExCoderBalance               50469\n",
       "ExCoderReturn                50469\n",
       "ExCoderWillNotCode           50470\n",
       "ExCoderNotForMe              50471\n",
       "ExCoder10Years               50475\n",
       "Length: 154, dtype: int64"
      ]
     },
     "execution_count": 30,
     "metadata": {},
     "output_type": "execute_result"
    }
   ],
   "source": [
    "# analyzing missing data in columns\n",
    "df.isnull().sum().sort_values()"
   ]
  },
  {
   "cell_type": "code",
   "execution_count": 31,
   "metadata": {},
   "outputs": [],
   "source": [
    "df_schema.set_index('Column', inplace=True)"
   ]
  },
  {
   "cell_type": "code",
   "execution_count": 32,
   "metadata": {},
   "outputs": [
    {
     "data": {
      "text/plain": [
       "['YearsCodedJobPast',\n",
       " 'WebDeveloperType',\n",
       " 'MobileDeveloperType',\n",
       " 'NonDeveloperType',\n",
       " 'ExCoderReturn',\n",
       " 'ExCoderNotForMe',\n",
       " 'ExCoderBalance',\n",
       " 'ExCoder10Years',\n",
       " 'ExCoderBelonged',\n",
       " 'ExCoderSkills',\n",
       " 'ExCoderWillNotCode',\n",
       " 'ExCoderActive',\n",
       " 'ProblemSolving',\n",
       " 'BuildingThings',\n",
       " 'LearningNewTech',\n",
       " 'BoringDetails',\n",
       " 'JobSecurity',\n",
       " 'DiversityImportant',\n",
       " 'AnnoyingUI',\n",
       " 'FriendsDevelopers',\n",
       " 'RightWrongWay',\n",
       " 'UnderstandComputers',\n",
       " 'SeriousWork',\n",
       " 'InvestTimeTools',\n",
       " 'WorkPayCare',\n",
       " 'KinshipDevelopers',\n",
       " 'ChallengeMyself',\n",
       " 'CompetePeers',\n",
       " 'ChangeWorld',\n",
       " 'JobSeekingStatus',\n",
       " 'HoursPerWeek',\n",
       " 'LastNewJob',\n",
       " 'AssessJobIndustry',\n",
       " 'AssessJobRole',\n",
       " 'AssessJobExp',\n",
       " 'AssessJobDept',\n",
       " 'AssessJobTech',\n",
       " 'AssessJobProjects',\n",
       " 'AssessJobCompensation',\n",
       " 'AssessJobOffice',\n",
       " 'AssessJobCommute',\n",
       " 'AssessJobRemote',\n",
       " 'AssessJobLeaders',\n",
       " 'AssessJobProfDevel',\n",
       " 'AssessJobDiversity',\n",
       " 'AssessJobProduct',\n",
       " 'AssessJobFinances',\n",
       " 'ImportantBenefits',\n",
       " 'JobProfile',\n",
       " 'ResumePrompted',\n",
       " 'LearnedHiring',\n",
       " 'ImportantHiringAlgorithms',\n",
       " 'ImportantHiringTechExp',\n",
       " 'ImportantHiringCommunication',\n",
       " 'ImportantHiringOpenSource',\n",
       " 'ImportantHiringPMExp',\n",
       " 'ImportantHiringCompanies',\n",
       " 'ImportantHiringTitles',\n",
       " 'ImportantHiringEducation',\n",
       " 'ImportantHiringRep',\n",
       " 'ImportantHiringGettingThingsDone',\n",
       " 'Currency',\n",
       " 'Overpaid',\n",
       " 'EducationImportant',\n",
       " 'EducationTypes',\n",
       " 'SelfTaughtTypes',\n",
       " 'TimeAfterBootcamp',\n",
       " 'CousinEducation',\n",
       " 'HaveWorkedFramework',\n",
       " 'WantWorkFramework',\n",
       " 'HaveWorkedDatabase',\n",
       " 'WantWorkDatabase',\n",
       " 'HaveWorkedPlatform',\n",
       " 'WantWorkPlatform',\n",
       " 'Methodology',\n",
       " 'VersionControl',\n",
       " 'CheckInCode',\n",
       " 'ShipIt',\n",
       " 'OtherPeoplesCode',\n",
       " 'ProjectManagement',\n",
       " 'EnjoyDebugging',\n",
       " 'InTheZone',\n",
       " 'DifficultCommunication',\n",
       " 'CollaborateRemote',\n",
       " 'MetricAssess',\n",
       " 'EquipmentSatisfiedMonitors',\n",
       " 'EquipmentSatisfiedCPU',\n",
       " 'EquipmentSatisfiedRAM',\n",
       " 'EquipmentSatisfiedStorage',\n",
       " 'EquipmentSatisfiedRW',\n",
       " 'InfluenceInternet',\n",
       " 'InfluenceWorkstation',\n",
       " 'InfluenceHardware',\n",
       " 'InfluenceServers',\n",
       " 'InfluenceTechStack',\n",
       " 'InfluenceDeptTech',\n",
       " 'InfluenceVizTools',\n",
       " 'InfluenceDatabase',\n",
       " 'InfluenceCloud',\n",
       " 'InfluenceConsultants',\n",
       " 'InfluenceRecruitment',\n",
       " 'InfluenceCommunication',\n",
       " 'StackOverflowAdsRelevant',\n",
       " 'StackOverflowAdsDistracting',\n",
       " 'StackOverflowModeration',\n",
       " 'StackOverflowCommunity',\n",
       " 'StackOverflowWhatDo',\n",
       " 'StackOverflowMakeMoney',\n",
       " 'Race',\n",
       " 'Salary',\n",
       " 'ExpectedSalary']"
      ]
     },
     "execution_count": 32,
     "metadata": {},
     "output_type": "execute_result"
    }
   ],
   "source": [
    "# find columns with more than %35 missing values\n",
    "list(df.columns[df.isnull().mean() > 0.35])"
   ]
  },
  {
   "cell_type": "markdown",
   "metadata": {},
   "source": [
    "### Q1. What programming language is mostly used by developers?\n",
    "### Q2. What type of developers participated in the survey?\n",
    "### Q3. How satisfied are developers in their career?"
   ]
  },
  {
   "cell_type": "markdown",
   "metadata": {},
   "source": [
    "# Preproecessing Dataset"
   ]
  },
  {
   "cell_type": "code",
   "execution_count": 33,
   "metadata": {},
   "outputs": [],
   "source": [
    "# This code is obtained from udacity lesson\n",
    "def get_description(column_name, schema=df_schema):\n",
    "    '''\n",
    "    INPUT - schema - pandas dataframe with the schema of the developers survey\n",
    "            column_name - string - the name of the column you would like to know about\n",
    "    OUTPUT - \n",
    "            desc - string - the description of the column\n",
    "    '''\n",
    "    desc = list(schema[schema['Column'] == column_name]['Question'])[0]\n",
    "    return desc\n"
   ]
  },
  {
   "cell_type": "code",
   "execution_count": 34,
   "metadata": {},
   "outputs": [
    {
     "data": {
      "text/plain": [
       "3586951"
      ]
     },
     "execution_count": 34,
     "metadata": {},
     "output_type": "execute_result"
    }
   ],
   "source": [
    "df.isnull().sum().sum()"
   ]
  },
  {
   "cell_type": "code",
   "execution_count": 35,
   "metadata": {},
   "outputs": [],
   "source": [
    "# fill NaN with None\n",
    "df = df.fillna('None')"
   ]
  },
  {
   "cell_type": "code",
   "execution_count": 36,
   "metadata": {},
   "outputs": [],
   "source": [
    "def split_value(df, col_name, separator):\n",
    "    '''\n",
    "    INPUT - df  -  dataframe -  original dataframe\n",
    "            col_name - string - column name\n",
    "            separator - string - the seprator between the data\n",
    "    OUTPUT - \n",
    "            df - dataframe - seprated values\n",
    "    '''\n",
    "    df = pd.DataFrame(df[col_name].dropna().str.split(separator).tolist()).stack()\n",
    "    return df"
   ]
  },
  {
   "cell_type": "markdown",
   "metadata": {},
   "source": [
    "## Q1. What programming language is mostly used by developers?"
   ]
  },
  {
   "cell_type": "code",
   "execution_count": 37,
   "metadata": {},
   "outputs": [],
   "source": [
    "split_worked_language = split_value(df, 'HaveWorkedLanguage','; ')\n",
    "split_worked_language = split_worked_language.value_counts()\n",
    "split_worked_language = split_worked_language.drop(split_worked_language.index[2])"
   ]
  },
  {
   "cell_type": "code",
   "execution_count": 38,
   "metadata": {},
   "outputs": [
    {
     "data": {
      "text/plain": [
       "JavaScript     22875\n",
       "SQL            18754\n",
       "Java           14524\n",
       "C#             12476\n",
       "Python         11704\n",
       "PHP            10290\n",
       "C++             8155\n",
       "C               6974\n",
       "TypeScript      3488\n",
       "Ruby            3324\n",
       "Swift           2368\n",
       "Objective-C     2349\n",
       "VB.NET          2273\n",
       "Assembly        1823\n",
       "R               1634\n",
       "dtype: int64"
      ]
     },
     "execution_count": 38,
     "metadata": {},
     "output_type": "execute_result"
    }
   ],
   "source": [
    "split_worked_language.head(15)"
   ]
  },
  {
   "cell_type": "code",
   "execution_count": 39,
   "metadata": {},
   "outputs": [
    {
     "data": {
      "text/plain": [
       "Text(0.5, 1.0, 'Programming language used at work')"
      ]
     },
     "execution_count": 39,
     "metadata": {},
     "output_type": "execute_result"
    },
    {
     "data": {
      "image/png": "[encoded data removed]",
      "text/plain": [
       "<Figure size 432x288 with 1 Axes>"
      ]
     },
     "metadata": {
      "needs_background": "light"
     },
     "output_type": "display_data"
    }
   ],
   "source": [
    "split_worked_language.head(15).plot(kind='bar')\n",
    "\n",
    "plt.title('Programming language used at work')"
   ]
  },
  {
   "cell_type": "code",
   "execution_count": 40,
   "metadata": {},
   "outputs": [],
   "source": [
    "split_wanted_language = split_value(df, 'WantWorkLanguage','; ')\n",
    "split_wanted_language = split_wanted_language.value_counts()\n",
    "split_wanted_language = split_wanted_language.drop(split_wanted_language.index[0])"
   ]
  },
  {
   "cell_type": "code",
   "execution_count": 41,
   "metadata": {},
   "outputs": [
    {
     "data": {
      "text/plain": [
       "JavaScript    16327\n",
       "Python        12570\n",
       "SQL           11217\n",
       "C#            10187\n",
       "Java           9988\n",
       "C++            7647\n",
       "Go             5770\n",
       "TypeScript     5692\n",
       "PHP            5365\n",
       "C              4841\n",
       "Swift          4530\n",
       "Ruby           3966\n",
       "Scala          3122\n",
       "Rust           2718\n",
       "R              2628\n",
       "dtype: int64"
      ]
     },
     "execution_count": 41,
     "metadata": {},
     "output_type": "execute_result"
    }
   ],
   "source": [
    "split_wanted_language.head(15)"
   ]
  },
  {
   "cell_type": "code",
   "execution_count": 42,
   "metadata": {},
   "outputs": [
    {
     "data": {
      "text/plain": [
       "Text(0.5, 1.0, 'Programming language developers want to use by next year')"
      ]
     },
     "execution_count": 42,
     "metadata": {},
     "output_type": "execute_result"
    },
    {
     "data": {
      "image/png": "[encoded data removed]",
      "text/plain": [
       "<Figure size 432x288 with 1 Axes>"
      ]
     },
     "metadata": {
      "needs_background": "light"
     },
     "output_type": "display_data"
    }
   ],
   "source": [
    "split_wanted_language.head(15).plot(kind='bar')\n",
    "\n",
    "plt.title('Programming language developers want to use by next year')"
   ]
  },
  {
   "cell_type": "markdown",
   "metadata": {},
   "source": [
    "## Q2. What type of developers participated in the survey?"
   ]
  },
  {
   "cell_type": "code",
   "execution_count": 43,
   "metadata": {},
   "outputs": [
    {
     "data": {
      "text/plain": [
       "None                                                                                                                                                                                                                                             15267\n",
       "Web developer                                                                                                                                                                                                                                    10683\n",
       "Web developer; Desktop applications developer                                                                                                                                                                                                     1849\n",
       "Mobile developer                                                                                                                                                                                                                                  1556\n",
       "Web developer; Mobile developer                                                                                                                                                                                                                   1503\n",
       "Desktop applications developer                                                                                                                                                                                                                    1433\n",
       "Other                                                                                                                                                                                                                                             1174\n",
       "Web developer; Mobile developer; Desktop applications developer                                                                                                                                                                                    754\n",
       "Web developer; DevOps specialist                                                                                                                                                                                                                   713\n",
       "Embedded applications/devices developer                                                                                                                                                                                                            664\n",
       "Web developer; Database administrator                                                                                                                                                                                                              505\n",
       "Developer with a statistics or mathematics background                                                                                                                                                                                              485\n",
       "Web developer; Developer with a statistics or mathematics background                                                                                                                                                                               453\n",
       "Web developer; Desktop applications developer; Database administrator                                                                                                                                                                              381\n",
       "Web developer; Database administrator; Systems administrator                                                                                                                                                                                       295\n",
       "Web developer; Systems administrator                                                                                                                                                                                                               279\n",
       "Web developer; Other                                                                                                                                                                                                                               276\n",
       "Data scientist                                                                                                                                                                                                                                     249\n",
       "Mobile developer; Desktop applications developer                                                                                                                                                                                                   244\n",
       "Embedded applications/devices developer; Desktop applications developer                                                                                                                                                                            228\n",
       "Web developer; Systems administrator; DevOps specialist                                                                                                                                                                                            226\n",
       "Web developer; Database administrator; Systems administrator; DevOps specialist                                                                                                                                                                    205\n",
       "Web developer; Graphic designer                                                                                                                                                                                                                    204\n",
       "Web developer; Data scientist                                                                                                                                                                                                                      198\n",
       "DevOps specialist                                                                                                                                                                                                                                  192\n",
       "Web developer; Developer with a statistics or mathematics background; Desktop applications developer                                                                                                                                               183\n",
       "Web developer; Desktop applications developer; DevOps specialist                                                                                                                                                                                   178\n",
       "Web developer; Desktop applications developer; Database administrator; Systems administrator                                                                                                                                                       161\n",
       "Developer with a statistics or mathematics background; Desktop applications developer                                                                                                                                                              147\n",
       "Web developer; Embedded applications/devices developer; Desktop applications developer                                                                                                                                                             141\n",
       "                                                                                                                                                                                                                                                 ...  \n",
       "Developer with a statistics or mathematics background; Desktop applications developer; Database administrator; Systems administrator; Quality assurance engineer                                                                                     1\n",
       "Web developer; Mobile developer; Developer with a statistics or mathematics background; Database administrator; Systems administrator; Quality assurance engineer                                                                                    1\n",
       "Web developer; Mobile developer; Embedded applications/devices developer; Developer with a statistics or mathematics background; Graphic designer; Database administrator                                                                            1\n",
       "Web developer; Mobile developer; Desktop applications developer; Database administrator; Systems administrator; DevOps specialist; Quality assurance engineer; Other                                                                                 1\n",
       "Embedded applications/devices developer; Machine learning specialist; Developer with a statistics or mathematics background; Quality assurance engineer                                                                                              1\n",
       "Machine learning specialist; Desktop applications developer; Systems administrator; Other                                                                                                                                                            1\n",
       "Web developer; Embedded applications/devices developer; Developer with a statistics or mathematics background; Desktop applications developer; Systems administrator; DevOps specialist                                                              1\n",
       "Embedded applications/devices developer; Systems administrator; Other                                                                                                                                                                                1\n",
       "Embedded applications/devices developer; Graphics programming; Graphic designer; Desktop applications developer; Systems administrator                                                                                                               1\n",
       "Embedded applications/devices developer; Developer with a statistics or mathematics background; Desktop applications developer; Database administrator; Systems administrator; Quality assurance engineer                                            1\n",
       "Mobile developer; Embedded applications/devices developer; Systems administrator; Other                                                                                                                                                              1\n",
       "Web developer; Mobile developer; Embedded applications/devices developer; Developer with a statistics or mathematics background; Data scientist; DevOps specialist; Quality assurance engineer                                                       1\n",
       "Web developer; Developer with a statistics or mathematics background; Data scientist; Desktop applications developer; Quality assurance engineer; Other                                                                                              1\n",
       "Web developer; Developer with a statistics or mathematics background; Data scientist; Graphic designer; Other                                                                                                                                        1\n",
       "Web developer; Developer with a statistics or mathematics background; Data scientist; Desktop applications developer; DevOps specialist                                                                                                              1\n",
       "Mobile developer; Desktop applications developer; Systems administrator; Other                                                                                                                                                                       1\n",
       "Web developer; Mobile developer; Embedded applications/devices developer; Graphics programming; Machine learning specialist; Developer with a statistics or mathematics background; Data scientist; Database administrator; DevOps specialist        1\n",
       "Web developer; Graphics programming; Machine learning specialist; Data scientist; Desktop applications developer; Database administrator; Systems administrator; DevOps specialist; Quality assurance engineer                                       1\n",
       "Web developer; Embedded applications/devices developer; Graphics programming; Graphic designer; Desktop applications developer; Database administrator; Systems administrator                                                                        1\n",
       "Mobile developer; Graphics programming; Developer with a statistics or mathematics background; Graphic designer; Desktop applications developer; Database administrator                                                                              1\n",
       "Web developer; Mobile developer; Data scientist; Graphic designer; Database administrator; Systems administrator; DevOps specialist                                                                                                                  1\n",
       "Mobile developer; Embedded applications/devices developer; Desktop applications developer; Systems administrator; DevOps specialist; Quality assurance engineer                                                                                      1\n",
       "Embedded applications/devices developer; Graphics programming; Machine learning specialist; Developer with a statistics or mathematics background; Desktop applications developer                                                                    1\n",
       "Web developer; Embedded applications/devices developer; Graphics programming; Machine learning specialist; Data scientist; Graphic designer; Desktop applications developer; Database administrator; Systems administrator                           1\n",
       "Web developer; Embedded applications/devices developer; Machine learning specialist; Data scientist; Desktop applications developer; Systems administrator                                                                                           1\n",
       "Embedded applications/devices developer; Graphics programming; Developer with a statistics or mathematics background; Desktop applications developer; Database administrator; Systems administrator; DevOps specialist                               1\n",
       "Web developer; Mobile developer; Machine learning specialist; Developer with a statistics or mathematics background; Desktop applications developer; Database administrator                                                                          1\n",
       "Web developer; Machine learning specialist; Developer with a statistics or mathematics background; Data scientist; Desktop applications developer; Database administrator; Systems administrator; DevOps specialist; Other                           1\n",
       "Web developer; Mobile developer; Graphics programming; Machine learning specialist; Data scientist; Desktop applications developer; Database administrator                                                                                           1\n",
       "Web developer; Data scientist; Graphic designer; Database administrator; DevOps specialist                                                                                                                                                           1\n",
       "Name: DeveloperType, Length: 1824, dtype: int64"
      ]
     },
     "execution_count": 43,
     "metadata": {},
     "output_type": "execute_result"
    }
   ],
   "source": [
    "df.DeveloperType.value_counts()"
   ]
  },
  {
   "cell_type": "code",
   "execution_count": 44,
   "metadata": {},
   "outputs": [],
   "source": [
    "split_developer_type = split_value(df, 'DeveloperType','; ')\n",
    "split_developer_type = split_developer_type.value_counts()\n",
    "split_developer_type = split_developer_type.drop(split_developer_type.index[1])"
   ]
  },
  {
   "cell_type": "code",
   "execution_count": 45,
   "metadata": {},
   "outputs": [
    {
     "data": {
      "text/plain": [
       "Web developer                                            26235\n",
       "Desktop applications developer                           10435\n",
       "Mobile developer                                          8326\n",
       "Database administrator                                    5192\n",
       "Developer with a statistics or mathematics background     4091\n",
       "Systems administrator                                     4086\n",
       "DevOps specialist                                         4015\n",
       "Embedded applications/devices developer                   3352\n",
       "Data scientist                                            3045\n",
       "Other                                                     2694\n",
       "Graphics programming                                      1731\n",
       "Graphic designer                                          1426\n",
       "Machine learning specialist                               1379\n",
       "Quality assurance engineer                                1252\n",
       "dtype: int64"
      ]
     },
     "execution_count": 45,
     "metadata": {},
     "output_type": "execute_result"
    }
   ],
   "source": [
    "split_developer_type.head(15)"
   ]
  },
  {
   "cell_type": "code",
   "execution_count": 46,
   "metadata": {},
   "outputs": [
    {
     "data": {
      "text/plain": [
       "None                        40696\n",
       "Full stack Web developer     6816\n",
       "Back-end Web developer       2610\n",
       "Front-end Web developer      1270\n",
       "Name: WebDeveloperType, dtype: int64"
      ]
     },
     "execution_count": 46,
     "metadata": {},
     "output_type": "execute_result"
    }
   ],
   "source": [
    "df.WebDeveloperType.value_counts()"
   ]
  },
  {
   "cell_type": "code",
   "execution_count": 73,
   "metadata": {},
   "outputs": [
    {
     "data": {
      "text/plain": [
       "Text(0.5, 1.0, 'Participating developers type')"
      ]
     },
     "execution_count": 73,
     "metadata": {},
     "output_type": "execute_result"
    },
    {
     "data": {
      "image/png": "[encoded data removed]",
      "text/plain": [
       "<Figure size 432x288 with 1 Axes>"
      ]
     },
     "metadata": {
      "needs_background": "light"
     },
     "output_type": "display_data"
    }
   ],
   "source": [
    "split_developer_type.head(15).plot(kind='bar')\n",
    "\n",
    "plt.title('Participating developers type')"
   ]
  },
  {
   "cell_type": "markdown",
   "metadata": {},
   "source": [
    "## Q3. How satisfied are developers in their career?"
   ]
  },
  {
   "cell_type": "code",
   "execution_count": 48,
   "metadata": {},
   "outputs": [],
   "source": [
    "x = df[df.CareerSatisfaction != 'None']\n",
    "x = x.CareerSatisfaction.value_counts()\n",
    "x = x.sort_index()"
   ]
  },
  {
   "cell_type": "code",
   "execution_count": 49,
   "metadata": {},
   "outputs": [
    {
     "data": {
      "text/plain": [
       "Text(0.5, 1.0, 'Developers satisfaction in their career')"
      ]
     },
     "execution_count": 49,
     "metadata": {},
     "output_type": "execute_result"
    },
    {
     "data": {
      "image/png": "[encoded data removed]",
      "text/plain": [
       "<Figure size 432x288 with 1 Axes>"
      ]
     },
     "metadata": {
      "needs_background": "light"
     },
     "output_type": "display_data"
    }
   ],
   "source": [
    "x.plot(kind='line', marker='o')\n",
    "\n",
    "plt.title('Developers satisfaction in their career')"
   ]
  },
  {
   "cell_type": "code",
   "execution_count": 50,
   "metadata": {},
   "outputs": [
    {
     "data": {
      "text/plain": [
       "0.0       392\n",
       "1.0       211\n",
       "2.0       495\n",
       "3.0      1046\n",
       "4.0      1352\n",
       "5.0      3070\n",
       "6.0      4721\n",
       "7.0      9384\n",
       "8.0     11037\n",
       "9.0      5579\n",
       "10.0     5408\n",
       "Name: CareerSatisfaction, dtype: int64"
      ]
     },
     "execution_count": 50,
     "metadata": {},
     "output_type": "execute_result"
    }
   ],
   "source": [
    "x #11,300"
   ]
  },
  {
   "cell_type": "markdown",
   "metadata": {},
   "source": []
  }
 ],
 "metadata": {
  "kernelspec": {
   "display_name": "Python 3",
   "language": "python",
   "name": "python3"
  },
  "language_info": {
   "codemirror_mode": {
    "name": "ipython",
    "version": 3
   },
   "file_extension": ".py",
   "mimetype": "text/x-python",
   "name": "python",
   "nbconvert_exporter": "python",
   "pygments_lexer": "ipython3",
   "version": "3.7.1"
  }
 },
 "nbformat": 4,
 "nbformat_minor": 2
}
