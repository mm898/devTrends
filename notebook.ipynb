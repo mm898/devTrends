{
 "cells": [
  {
   "cell_type": "code",
   "execution_count": 2,
   "metadata": {},
   "outputs": [],
   "source": [
    "# import\n",
    "import numpy as np\n",
    "import pandas as pd\n",
    "import matplotlib.pyplot as plt\n",
    "from IPython import display\n",
    "%matplotlib inline\n"
   ]
  },
  {
   "cell_type": "code",
   "execution_count": 3,
   "metadata": {},
   "outputs": [],
   "source": [
    "# read the dataset\n",
    "df = pd.read_csv('survey_results_public.csv')\n",
    "\n",
    "df_schema = pd.read_csv('survey_results_schema.csv')\n"
   ]
  },
  {
   "cell_type": "markdown",
   "metadata": {},
   "source": [
    "# Exploring the Dataset"
   ]
  },
  {
   "cell_type": "code",
   "execution_count": 4,
   "metadata": {},
   "outputs": [
    {
     "data": {
      "text/plain": [
       "(51392, 154)"
      ]
     },
     "execution_count": 4,
     "metadata": {},
     "output_type": "execute_result"
    }
   ],
   "source": [
    "df.shape"
   ]
  },
  {
   "cell_type": "code",
   "execution_count": 5,
   "metadata": {},
   "outputs": [
    {
     "data": {
      "text/html": [
       "<div>\n",
       "<style scoped>\n",
       "    .dataframe tbody tr th:only-of-type {\n",
       "        vertical-align: middle;\n",
       "    }\n",
       "\n",
       "    .dataframe tbody tr th {\n",
       "        vertical-align: top;\n",
       "    }\n",
       "\n",
       "    .dataframe thead th {\n",
       "        text-align: right;\n",
       "    }\n",
       "</style>\n",
       "<table border=\"1\" class=\"dataframe\">\n",
       "  <thead>\n",
       "    <tr style=\"text-align: right;\">\n",
       "      <th></th>\n",
       "      <th>Respondent</th>\n",
       "      <th>Professional</th>\n",
       "      <th>ProgramHobby</th>\n",
       "      <th>Country</th>\n",
       "      <th>University</th>\n",
       "      <th>EmploymentStatus</th>\n",
       "      <th>FormalEducation</th>\n",
       "      <th>MajorUndergrad</th>\n",
       "      <th>HomeRemote</th>\n",
       "      <th>CompanySize</th>\n",
       "      <th>...</th>\n",
       "      <th>StackOverflowMakeMoney</th>\n",
       "      <th>Gender</th>\n",
       "      <th>HighestEducationParents</th>\n",
       "      <th>Race</th>\n",
       "      <th>SurveyLong</th>\n",
       "      <th>QuestionsInteresting</th>\n",
       "      <th>QuestionsConfusing</th>\n",
       "      <th>InterestedAnswers</th>\n",
       "      <th>Salary</th>\n",
       "      <th>ExpectedSalary</th>\n",
       "    </tr>\n",
       "  </thead>\n",
       "  <tbody>\n",
       "    <tr>\n",
       "      <th>0</th>\n",
       "      <td>1</td>\n",
       "      <td>Student</td>\n",
       "      <td>Yes, both</td>\n",
       "      <td>United States</td>\n",
       "      <td>No</td>\n",
       "      <td>Not employed, and not looking for work</td>\n",
       "      <td>Secondary school</td>\n",
       "      <td>NaN</td>\n",
       "      <td>NaN</td>\n",
       "      <td>NaN</td>\n",
       "      <td>...</td>\n",
       "      <td>Strongly disagree</td>\n",
       "      <td>Male</td>\n",
       "      <td>High school</td>\n",
       "      <td>White or of European descent</td>\n",
       "      <td>Strongly disagree</td>\n",
       "      <td>Strongly agree</td>\n",
       "      <td>Disagree</td>\n",
       "      <td>Strongly agree</td>\n",
       "      <td>NaN</td>\n",
       "      <td>NaN</td>\n",
       "    </tr>\n",
       "    <tr>\n",
       "      <th>1</th>\n",
       "      <td>2</td>\n",
       "      <td>Student</td>\n",
       "      <td>Yes, both</td>\n",
       "      <td>United Kingdom</td>\n",
       "      <td>Yes, full-time</td>\n",
       "      <td>Employed part-time</td>\n",
       "      <td>Some college/university study without earning ...</td>\n",
       "      <td>Computer science or software engineering</td>\n",
       "      <td>More than half, but not all, the time</td>\n",
       "      <td>20 to 99 employees</td>\n",
       "      <td>...</td>\n",
       "      <td>Strongly disagree</td>\n",
       "      <td>Male</td>\n",
       "      <td>A master's degree</td>\n",
       "      <td>White or of European descent</td>\n",
       "      <td>Somewhat agree</td>\n",
       "      <td>Somewhat agree</td>\n",
       "      <td>Disagree</td>\n",
       "      <td>Strongly agree</td>\n",
       "      <td>NaN</td>\n",
       "      <td>37500.0</td>\n",
       "    </tr>\n",
       "    <tr>\n",
       "      <th>2</th>\n",
       "      <td>3</td>\n",
       "      <td>Professional developer</td>\n",
       "      <td>Yes, both</td>\n",
       "      <td>United Kingdom</td>\n",
       "      <td>No</td>\n",
       "      <td>Employed full-time</td>\n",
       "      <td>Bachelor's degree</td>\n",
       "      <td>Computer science or software engineering</td>\n",
       "      <td>Less than half the time, but at least one day ...</td>\n",
       "      <td>10,000 or more employees</td>\n",
       "      <td>...</td>\n",
       "      <td>Disagree</td>\n",
       "      <td>Male</td>\n",
       "      <td>A professional degree</td>\n",
       "      <td>White or of European descent</td>\n",
       "      <td>Somewhat agree</td>\n",
       "      <td>Agree</td>\n",
       "      <td>Disagree</td>\n",
       "      <td>Agree</td>\n",
       "      <td>113750.0</td>\n",
       "      <td>NaN</td>\n",
       "    </tr>\n",
       "    <tr>\n",
       "      <th>3</th>\n",
       "      <td>4</td>\n",
       "      <td>Professional non-developer who sometimes write...</td>\n",
       "      <td>Yes, both</td>\n",
       "      <td>United States</td>\n",
       "      <td>No</td>\n",
       "      <td>Employed full-time</td>\n",
       "      <td>Doctoral degree</td>\n",
       "      <td>A non-computer-focused engineering discipline</td>\n",
       "      <td>Less than half the time, but at least one day ...</td>\n",
       "      <td>10,000 or more employees</td>\n",
       "      <td>...</td>\n",
       "      <td>Disagree</td>\n",
       "      <td>Male</td>\n",
       "      <td>A doctoral degree</td>\n",
       "      <td>White or of European descent</td>\n",
       "      <td>Agree</td>\n",
       "      <td>Agree</td>\n",
       "      <td>Somewhat agree</td>\n",
       "      <td>Strongly agree</td>\n",
       "      <td>NaN</td>\n",
       "      <td>NaN</td>\n",
       "    </tr>\n",
       "    <tr>\n",
       "      <th>4</th>\n",
       "      <td>5</td>\n",
       "      <td>Professional developer</td>\n",
       "      <td>Yes, I program as a hobby</td>\n",
       "      <td>Switzerland</td>\n",
       "      <td>No</td>\n",
       "      <td>Employed full-time</td>\n",
       "      <td>Master's degree</td>\n",
       "      <td>Computer science or software engineering</td>\n",
       "      <td>Never</td>\n",
       "      <td>10 to 19 employees</td>\n",
       "      <td>...</td>\n",
       "      <td>NaN</td>\n",
       "      <td>NaN</td>\n",
       "      <td>NaN</td>\n",
       "      <td>NaN</td>\n",
       "      <td>NaN</td>\n",
       "      <td>NaN</td>\n",
       "      <td>NaN</td>\n",
       "      <td>NaN</td>\n",
       "      <td>NaN</td>\n",
       "      <td>NaN</td>\n",
       "    </tr>\n",
       "    <tr>\n",
       "      <th>5</th>\n",
       "      <td>6</td>\n",
       "      <td>Student</td>\n",
       "      <td>Yes, both</td>\n",
       "      <td>New Zealand</td>\n",
       "      <td>Yes, full-time</td>\n",
       "      <td>Not employed, and not looking for work</td>\n",
       "      <td>Secondary school</td>\n",
       "      <td>NaN</td>\n",
       "      <td>NaN</td>\n",
       "      <td>NaN</td>\n",
       "      <td>...</td>\n",
       "      <td>Disagree</td>\n",
       "      <td>NaN</td>\n",
       "      <td>A bachelor's degree</td>\n",
       "      <td>White or of European descent</td>\n",
       "      <td>Disagree</td>\n",
       "      <td>Agree</td>\n",
       "      <td>Disagree</td>\n",
       "      <td>Agree</td>\n",
       "      <td>NaN</td>\n",
       "      <td>NaN</td>\n",
       "    </tr>\n",
       "    <tr>\n",
       "      <th>6</th>\n",
       "      <td>7</td>\n",
       "      <td>Professional non-developer who sometimes write...</td>\n",
       "      <td>Yes, both</td>\n",
       "      <td>United States</td>\n",
       "      <td>No</td>\n",
       "      <td>Employed full-time</td>\n",
       "      <td>Master's degree</td>\n",
       "      <td>A non-computer-focused engineering discipline</td>\n",
       "      <td>Less than half the time, but at least one day ...</td>\n",
       "      <td>20 to 99 employees</td>\n",
       "      <td>...</td>\n",
       "      <td>Disagree</td>\n",
       "      <td>Male</td>\n",
       "      <td>A doctoral degree</td>\n",
       "      <td>White or of European descent</td>\n",
       "      <td>Disagree</td>\n",
       "      <td>Agree</td>\n",
       "      <td>Disagree</td>\n",
       "      <td>Agree</td>\n",
       "      <td>NaN</td>\n",
       "      <td>NaN</td>\n",
       "    </tr>\n",
       "    <tr>\n",
       "      <th>7</th>\n",
       "      <td>8</td>\n",
       "      <td>Professional developer</td>\n",
       "      <td>Yes, both</td>\n",
       "      <td>Poland</td>\n",
       "      <td>No</td>\n",
       "      <td>Employed full-time</td>\n",
       "      <td>Master's degree</td>\n",
       "      <td>Computer science or software engineering</td>\n",
       "      <td>All or almost all the time (I'm full-time remote)</td>\n",
       "      <td>Fewer than 10 employees</td>\n",
       "      <td>...</td>\n",
       "      <td>Somewhat agree</td>\n",
       "      <td>Male</td>\n",
       "      <td>A master's degree</td>\n",
       "      <td>White or of European descent</td>\n",
       "      <td>Agree</td>\n",
       "      <td>Somewhat agree</td>\n",
       "      <td>Disagree</td>\n",
       "      <td>Agree</td>\n",
       "      <td>NaN</td>\n",
       "      <td>NaN</td>\n",
       "    </tr>\n",
       "    <tr>\n",
       "      <th>8</th>\n",
       "      <td>9</td>\n",
       "      <td>Professional developer</td>\n",
       "      <td>Yes, I program as a hobby</td>\n",
       "      <td>Colombia</td>\n",
       "      <td>Yes, part-time</td>\n",
       "      <td>Employed full-time</td>\n",
       "      <td>Bachelor's degree</td>\n",
       "      <td>Computer science or software engineering</td>\n",
       "      <td>Less than half the time, but at least one day ...</td>\n",
       "      <td>5,000 to 9,999 employees</td>\n",
       "      <td>...</td>\n",
       "      <td>Strongly disagree</td>\n",
       "      <td>Male</td>\n",
       "      <td>A bachelor's degree</td>\n",
       "      <td>Hispanic or Latino/Latina</td>\n",
       "      <td>Somewhat agree</td>\n",
       "      <td>Strongly agree</td>\n",
       "      <td>Disagree</td>\n",
       "      <td>Strongly agree</td>\n",
       "      <td>NaN</td>\n",
       "      <td>NaN</td>\n",
       "    </tr>\n",
       "    <tr>\n",
       "      <th>9</th>\n",
       "      <td>10</td>\n",
       "      <td>Professional developer</td>\n",
       "      <td>Yes, I program as a hobby</td>\n",
       "      <td>France</td>\n",
       "      <td>Yes, full-time</td>\n",
       "      <td>Independent contractor, freelancer, or self-em...</td>\n",
       "      <td>Master's degree</td>\n",
       "      <td>Computer science or software engineering</td>\n",
       "      <td>It's complicated</td>\n",
       "      <td>NaN</td>\n",
       "      <td>...</td>\n",
       "      <td>Disagree</td>\n",
       "      <td>Male</td>\n",
       "      <td>A doctoral degree</td>\n",
       "      <td>White or of European descent</td>\n",
       "      <td>Somewhat agree</td>\n",
       "      <td>Agree</td>\n",
       "      <td>Disagree</td>\n",
       "      <td>Agree</td>\n",
       "      <td>NaN</td>\n",
       "      <td>NaN</td>\n",
       "    </tr>\n",
       "  </tbody>\n",
       "</table>\n",
       "<p>10 rows × 154 columns</p>\n",
       "</div>"
      ],
      "text/plain": [
       "   Respondent                                       Professional  \\\n",
       "0           1                                            Student   \n",
       "1           2                                            Student   \n",
       "2           3                             Professional developer   \n",
       "3           4  Professional non-developer who sometimes write...   \n",
       "4           5                             Professional developer   \n",
       "5           6                                            Student   \n",
       "6           7  Professional non-developer who sometimes write...   \n",
       "7           8                             Professional developer   \n",
       "8           9                             Professional developer   \n",
       "9          10                             Professional developer   \n",
       "\n",
       "                ProgramHobby         Country      University  \\\n",
       "0                  Yes, both   United States              No   \n",
       "1                  Yes, both  United Kingdom  Yes, full-time   \n",
       "2                  Yes, both  United Kingdom              No   \n",
       "3                  Yes, both   United States              No   \n",
       "4  Yes, I program as a hobby     Switzerland              No   \n",
       "5                  Yes, both     New Zealand  Yes, full-time   \n",
       "6                  Yes, both   United States              No   \n",
       "7                  Yes, both          Poland              No   \n",
       "8  Yes, I program as a hobby        Colombia  Yes, part-time   \n",
       "9  Yes, I program as a hobby          France  Yes, full-time   \n",
       "\n",
       "                                    EmploymentStatus  \\\n",
       "0             Not employed, and not looking for work   \n",
       "1                                 Employed part-time   \n",
       "2                                 Employed full-time   \n",
       "3                                 Employed full-time   \n",
       "4                                 Employed full-time   \n",
       "5             Not employed, and not looking for work   \n",
       "6                                 Employed full-time   \n",
       "7                                 Employed full-time   \n",
       "8                                 Employed full-time   \n",
       "9  Independent contractor, freelancer, or self-em...   \n",
       "\n",
       "                                     FormalEducation  \\\n",
       "0                                   Secondary school   \n",
       "1  Some college/university study without earning ...   \n",
       "2                                  Bachelor's degree   \n",
       "3                                    Doctoral degree   \n",
       "4                                    Master's degree   \n",
       "5                                   Secondary school   \n",
       "6                                    Master's degree   \n",
       "7                                    Master's degree   \n",
       "8                                  Bachelor's degree   \n",
       "9                                    Master's degree   \n",
       "\n",
       "                                  MajorUndergrad  \\\n",
       "0                                            NaN   \n",
       "1       Computer science or software engineering   \n",
       "2       Computer science or software engineering   \n",
       "3  A non-computer-focused engineering discipline   \n",
       "4       Computer science or software engineering   \n",
       "5                                            NaN   \n",
       "6  A non-computer-focused engineering discipline   \n",
       "7       Computer science or software engineering   \n",
       "8       Computer science or software engineering   \n",
       "9       Computer science or software engineering   \n",
       "\n",
       "                                          HomeRemote  \\\n",
       "0                                                NaN   \n",
       "1              More than half, but not all, the time   \n",
       "2  Less than half the time, but at least one day ...   \n",
       "3  Less than half the time, but at least one day ...   \n",
       "4                                              Never   \n",
       "5                                                NaN   \n",
       "6  Less than half the time, but at least one day ...   \n",
       "7  All or almost all the time (I'm full-time remote)   \n",
       "8  Less than half the time, but at least one day ...   \n",
       "9                                   It's complicated   \n",
       "\n",
       "                CompanySize       ...       StackOverflowMakeMoney Gender  \\\n",
       "0                       NaN       ...            Strongly disagree   Male   \n",
       "1        20 to 99 employees       ...            Strongly disagree   Male   \n",
       "2  10,000 or more employees       ...                     Disagree   Male   \n",
       "3  10,000 or more employees       ...                     Disagree   Male   \n",
       "4        10 to 19 employees       ...                          NaN    NaN   \n",
       "5                       NaN       ...                     Disagree    NaN   \n",
       "6        20 to 99 employees       ...                     Disagree   Male   \n",
       "7   Fewer than 10 employees       ...               Somewhat agree   Male   \n",
       "8  5,000 to 9,999 employees       ...            Strongly disagree   Male   \n",
       "9                       NaN       ...                     Disagree   Male   \n",
       "\n",
       "  HighestEducationParents                          Race         SurveyLong  \\\n",
       "0             High school  White or of European descent  Strongly disagree   \n",
       "1       A master's degree  White or of European descent     Somewhat agree   \n",
       "2   A professional degree  White or of European descent     Somewhat agree   \n",
       "3       A doctoral degree  White or of European descent              Agree   \n",
       "4                     NaN                           NaN                NaN   \n",
       "5     A bachelor's degree  White or of European descent           Disagree   \n",
       "6       A doctoral degree  White or of European descent           Disagree   \n",
       "7       A master's degree  White or of European descent              Agree   \n",
       "8     A bachelor's degree     Hispanic or Latino/Latina     Somewhat agree   \n",
       "9       A doctoral degree  White or of European descent     Somewhat agree   \n",
       "\n",
       "  QuestionsInteresting QuestionsConfusing InterestedAnswers    Salary  \\\n",
       "0       Strongly agree           Disagree    Strongly agree       NaN   \n",
       "1       Somewhat agree           Disagree    Strongly agree       NaN   \n",
       "2                Agree           Disagree             Agree  113750.0   \n",
       "3                Agree     Somewhat agree    Strongly agree       NaN   \n",
       "4                  NaN                NaN               NaN       NaN   \n",
       "5                Agree           Disagree             Agree       NaN   \n",
       "6                Agree           Disagree             Agree       NaN   \n",
       "7       Somewhat agree           Disagree             Agree       NaN   \n",
       "8       Strongly agree           Disagree    Strongly agree       NaN   \n",
       "9                Agree           Disagree             Agree       NaN   \n",
       "\n",
       "   ExpectedSalary  \n",
       "0             NaN  \n",
       "1         37500.0  \n",
       "2             NaN  \n",
       "3             NaN  \n",
       "4             NaN  \n",
       "5             NaN  \n",
       "6             NaN  \n",
       "7             NaN  \n",
       "8             NaN  \n",
       "9             NaN  \n",
       "\n",
       "[10 rows x 154 columns]"
      ]
     },
     "execution_count": 5,
     "metadata": {},
     "output_type": "execute_result"
    }
   ],
   "source": [
    "df.head(10)"
   ]
  },
  {
   "cell_type": "code",
   "execution_count": 6,
   "metadata": {},
   "outputs": [
    {
     "data": {
      "text/plain": [
       "Respondent                                                                   101\n",
       "Professional                                              Professional developer\n",
       "ProgramHobby                                           Yes, I program as a hobby\n",
       "Country                                                       Russian Federation\n",
       "University                                                                    No\n",
       "EmploymentStatus                                             I prefer not to say\n",
       "FormalEducation                                           I prefer not to answer\n",
       "MajorUndergrad                                                               NaN\n",
       "HomeRemote                                                                   NaN\n",
       "CompanySize                                                                  NaN\n",
       "CompanyType                                                                  NaN\n",
       "YearsProgram                                                    20 or more years\n",
       "YearsCodedJob                                                   20 or more years\n",
       "YearsCodedJobPast                                                            NaN\n",
       "DeveloperType                  Developer with a statistics or mathematics bac...\n",
       "WebDeveloperType                                                             NaN\n",
       "MobileDeveloperType                                                          NaN\n",
       "NonDeveloperType                                                             NaN\n",
       "CareerSatisfaction                                                             8\n",
       "JobSatisfaction                                                              NaN\n",
       "ExCoderReturn                                                                NaN\n",
       "ExCoderNotForMe                                                              NaN\n",
       "ExCoderBalance                                                               NaN\n",
       "ExCoder10Years                                                               NaN\n",
       "ExCoderBelonged                                                              NaN\n",
       "ExCoderSkills                                                                NaN\n",
       "ExCoderWillNotCode                                                           NaN\n",
       "ExCoderActive                                                                NaN\n",
       "PronounceGIF                                        With a hard \"g,\" like \"gift\"\n",
       "ProblemSolving                                                             Agree\n",
       "                                                     ...                        \n",
       "InfluenceRecruitment                                                         NaN\n",
       "InfluenceCommunication                                                       NaN\n",
       "StackOverflowDescribes         I have created a CV or Developer Story on Stac...\n",
       "StackOverflowSatisfaction                                                      7\n",
       "StackOverflowDevices                                    Desktop; Android browser\n",
       "StackOverflowFoundAnswer                                           Several times\n",
       "StackOverflowCopiedCode                                            Several times\n",
       "StackOverflowJobListing                                      Haven't done at all\n",
       "StackOverflowCompanyPage                                     Haven't done at all\n",
       "StackOverflowJobSearch                                       Haven't done at all\n",
       "StackOverflowNewQuestion                                           Several times\n",
       "StackOverflowAnswer                                                Several times\n",
       "StackOverflowMetaChat                                    At least once each week\n",
       "StackOverflowAdsRelevant                                                Disagree\n",
       "StackOverflowAdsDistracting                                             Disagree\n",
       "StackOverflowModeration                                                 Disagree\n",
       "StackOverflowCommunity                                                     Agree\n",
       "StackOverflowHelpful                                                       Agree\n",
       "StackOverflowBetter                                                        Agree\n",
       "StackOverflowWhatDo                                               Somewhat agree\n",
       "StackOverflowMakeMoney                                                  Disagree\n",
       "Gender                                                                       NaN\n",
       "HighestEducationParents                                   I prefer not to answer\n",
       "Race                                                         I prefer not to say\n",
       "SurveyLong                                                        Somewhat agree\n",
       "QuestionsInteresting                                                       Agree\n",
       "QuestionsConfusing                                                      Disagree\n",
       "InterestedAnswers                                                       Disagree\n",
       "Salary                                                                       NaN\n",
       "ExpectedSalary                                                               NaN\n",
       "Name: 100, Length: 154, dtype: object"
      ]
     },
     "execution_count": 6,
     "metadata": {},
     "output_type": "execute_result"
    }
   ],
   "source": [
    "df.iloc[100]"
   ]
  },
  {
   "cell_type": "code",
   "execution_count": 7,
   "metadata": {},
   "outputs": [
    {
     "data": {
      "text/plain": [
       "0                    NaN\n",
       "1    No influence at all\n",
       "2         Some influence\n",
       "3                    NaN\n",
       "4                    NaN\n",
       "Name: InfluenceHardware, dtype: object"
      ]
     },
     "execution_count": 7,
     "metadata": {},
     "output_type": "execute_result"
    }
   ],
   "source": [
    "df.InfluenceHardware.head()"
   ]
  },
  {
   "cell_type": "code",
   "execution_count": 8,
   "metadata": {},
   "outputs": [
    {
     "data": {
      "text/plain": [
       "0    NaN\n",
       "1    NaN\n",
       "2    9.0\n",
       "3    3.0\n",
       "4    8.0\n",
       "Name: JobSatisfaction, dtype: float64"
      ]
     },
     "execution_count": 8,
     "metadata": {},
     "output_type": "execute_result"
    }
   ],
   "source": [
    "df.JobSatisfaction.head()"
   ]
  },
  {
   "cell_type": "code",
   "execution_count": 9,
   "metadata": {},
   "outputs": [
    {
     "data": {
      "text/plain": [
       "3586951"
      ]
     },
     "execution_count": 9,
     "metadata": {},
     "output_type": "execute_result"
    }
   ],
   "source": [
    "df.isnull().sum().sum()"
   ]
  },
  {
   "cell_type": "code",
   "execution_count": 10,
   "metadata": {},
   "outputs": [],
   "source": [
    "df_schema.set_index('Column', inplace=True)"
   ]
  },
  {
   "cell_type": "code",
   "execution_count": 11,
   "metadata": {},
   "outputs": [
    {
     "data": {
      "text/plain": [
       "Question    Which of the following best describes you?\n",
       "Name: Professional, dtype: object"
      ]
     },
     "execution_count": 11,
     "metadata": {},
     "output_type": "execute_result"
    }
   ],
   "source": [
    "df_schema.loc['Professional']"
   ]
  },
  {
   "cell_type": "code",
   "execution_count": 12,
   "metadata": {},
   "outputs": [
    {
     "data": {
      "text/plain": [
       "{'CareerSatisfaction',\n",
       " 'ClickyKeys',\n",
       " 'CompanySize',\n",
       " 'CompanyType',\n",
       " 'Country',\n",
       " 'EmploymentStatus',\n",
       " 'FormalEducation',\n",
       " 'HomeRemote',\n",
       " 'JobSatisfaction',\n",
       " 'MajorUndergrad',\n",
       " 'Professional',\n",
       " 'ProgramHobby',\n",
       " 'PronounceGIF',\n",
       " 'Respondent',\n",
       " 'TabsSpaces',\n",
       " 'University',\n",
       " 'YearsCodedJob',\n",
       " 'YearsProgram'}"
      ]
     },
     "execution_count": 12,
     "metadata": {},
     "output_type": "execute_result"
    }
   ],
   "source": [
    "set(df.columns[df.isnull().mean() < 0.25])"
   ]
  },
  {
   "cell_type": "code",
   "execution_count": 13,
   "metadata": {},
   "outputs": [
    {
     "data": {
      "text/plain": [
       "United States                     11455\n",
       "India                              5197\n",
       "United Kingdom                     4395\n",
       "Germany                            4143\n",
       "Canada                             2233\n",
       "France                             1740\n",
       "Poland                             1290\n",
       "Australia                           913\n",
       "Russian Federation                  873\n",
       "Spain                               864\n",
       "Netherlands                         855\n",
       "Italy                               781\n",
       "Brazil                              777\n",
       "Sweden                              611\n",
       "Switzerland                         595\n",
       "Israel                              575\n",
       "Romania                             561\n",
       "Iran                                507\n",
       "Austria                             477\n",
       "Pakistan                            454\n",
       "Czech Republic                      411\n",
       "Belgium                             404\n",
       "South Africa                        380\n",
       "Turkey                              363\n",
       "Ukraine                             356\n",
       "Mexico                              351\n",
       "Ireland                             345\n",
       "Hungary                             332\n",
       "Philippines                         328\n",
       "Slovenia                            303\n",
       "                                  ...  \n",
       "Zaire                                 2\n",
       "Laos                                  2\n",
       "Guinea                                1\n",
       "Turkmenistan                          1\n",
       "Chad                                  1\n",
       "Burkina Faso                          1\n",
       "Heard and McDonald Islands            1\n",
       "Saint Helena                          1\n",
       "Seychelles                            1\n",
       "Gabon                                 1\n",
       "Macau                                 1\n",
       "Guam                                  1\n",
       "Djibouti                              1\n",
       "French Guyana                         1\n",
       "Northern Mariana Islands              1\n",
       "Pitcairn Island                       1\n",
       "Lesotho                               1\n",
       "Christmas Island                      1\n",
       "S. Georgia & S. Sandwich Isls.        1\n",
       "Gibraltar                             1\n",
       "Vatican City State                    1\n",
       "Comoros                               1\n",
       "Falkland Islands                      1\n",
       "Bahamas                               1\n",
       "Montserrat                            1\n",
       "Mali                                  1\n",
       "British Indian Ocean Territory        1\n",
       "Monaco                                1\n",
       "Cape Verde                            1\n",
       "Cook Islands                          1\n",
       "Name: Country, Length: 201, dtype: int64"
      ]
     },
     "execution_count": 13,
     "metadata": {},
     "output_type": "execute_result"
    }
   ],
   "source": [
    "df.Country.value_counts()"
   ]
  },
  {
   "cell_type": "code",
   "execution_count": 14,
   "metadata": {},
   "outputs": [
    {
     "data": {
      "text/plain": [
       "20 to 99 employees          8587\n",
       "100 to 499 employees        7274\n",
       "10,000 or more employees    5680\n",
       "10 to 19 employees          4103\n",
       "1,000 to 4,999 employees    3831\n",
       "Fewer than 10 employees     3807\n",
       "500 to 999 employees        2486\n",
       "5,000 to 9,999 employees    1604\n",
       "I don't know                 869\n",
       "I prefer not to answer       681\n",
       "Name: CompanySize, dtype: int64"
      ]
     },
     "execution_count": 14,
     "metadata": {},
     "output_type": "execute_result"
    }
   ],
   "source": [
    "df.CompanySize.value_counts()"
   ]
  },
  {
   "cell_type": "code",
   "execution_count": 16,
   "metadata": {},
   "outputs": [
    {
     "data": {
      "text/plain": [
       "Privately-held limited company, not in startup mode                      16709\n",
       "Publicly-traded corporation                                               5871\n",
       "I don't know                                                              3233\n",
       "Sole proprietorship or partnership, not in startup mode                   2831\n",
       "Government agency or public school/university                             2451\n",
       "Venture-funded startup                                                    2387\n",
       "I prefer not to answer                                                    1816\n",
       "Pre-series A startup                                                      1288\n",
       "Non-profit/non-governmental organization or private school/university     1225\n",
       "State-owned company                                                        670\n",
       "Something else                                                             342\n",
       "Name: CompanyType, dtype: int64"
      ]
     },
     "execution_count": 16,
     "metadata": {},
     "output_type": "execute_result"
    }
   ],
   "source": [
    "df.CompanyType.value_counts()"
   ]
  },
  {
   "cell_type": "code",
   "execution_count": 19,
   "metadata": {},
   "outputs": [
    {
     "data": {
      "text/plain": [
       "Somewhat agree       8983\n",
       "Agree                8784\n",
       "Disagree             6436\n",
       "Strongly agree       3519\n",
       "Strongly disagree    1735\n",
       "Name: CollaborateRemote, dtype: int64"
      ]
     },
     "execution_count": 19,
     "metadata": {},
     "output_type": "execute_result"
    }
   ],
   "source": [
    "df.CollaborateRemote.value_counts()"
   ]
  },
  {
   "cell_type": "markdown",
   "metadata": {},
   "source": [
    "### Q1. Which developer types does each university produce?\n",
    "University, CompanyType, DeveloperType, SelfTaughtTypes, EducationTypes\n",
    "### Q2. How often do university students work from home?\n",
    "University, HomeRemote\n",
    "### Q3. How hard is it to collaborate remotly?\n",
    "CollaborateRemote"
   ]
  },
  {
   "cell_type": "markdown",
   "metadata": {},
   "source": [
    "# Preproecessing Dataset"
   ]
  },
  {
   "cell_type": "markdown",
   "metadata": {},
   "source": [
    "which country should we build the company at? Country\n",
    "what should the company type and size be? CompanySize & CompanyType\n",
    "Who would we hire? University & ProgramHobby"
   ]
  }
 ],
 "metadata": {
  "kernelspec": {
   "display_name": "Python 3",
   "language": "python",
   "name": "python3"
  },
  "language_info": {
   "codemirror_mode": {
    "name": "ipython",
    "version": 3
   },
   "file_extension": ".py",
   "mimetype": "text/x-python",
   "name": "python",
   "nbconvert_exporter": "python",
   "pygments_lexer": "ipython3",
   "version": "3.7.1"
  }
 },
 "nbformat": 4,
 "nbformat_minor": 2
}
